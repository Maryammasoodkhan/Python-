{
 "cells": [
  {
   "cell_type": "code",
   "execution_count": 2,
   "id": "e7092c5d-2d3d-426a-a7fa-59d474c7b2b4",
   "metadata": {},
   "outputs": [],
   "source": [
    "import numpy as np\n",
    "import pandas as pd\n",
    "import seaborn as sns\n",
    "import matplotlib.pyplot as plt"
   ]
  },
  {
   "cell_type": "code",
   "execution_count": 3,
   "id": "8acb7eb7-03df-4f4d-b097-0c9d11972efc",
   "metadata": {},
   "outputs": [],
   "source": [
    "#This will export your file \n",
    "sm=pd.read_csv(\"austo_automobile.csv\")\n"
   ]
  },
  {
   "cell_type": "code",
   "execution_count": 4,
   "id": "692ffc8f-7273-434d-884c-0b9c530ff35b",
   "metadata": {},
   "outputs": [
    {
     "data": {
      "text/html": [
       "<div>\n",
       "<style scoped>\n",
       "    .dataframe tbody tr th:only-of-type {\n",
       "        vertical-align: middle;\n",
       "    }\n",
       "\n",
       "    .dataframe tbody tr th {\n",
       "        vertical-align: top;\n",
       "    }\n",
       "\n",
       "    .dataframe thead th {\n",
       "        text-align: right;\n",
       "    }\n",
       "</style>\n",
       "<table border=\"1\" class=\"dataframe\">\n",
       "  <thead>\n",
       "    <tr style=\"text-align: right;\">\n",
       "      <th></th>\n",
       "      <th>Age</th>\n",
       "      <th>Gender</th>\n",
       "      <th>Profession</th>\n",
       "      <th>Marital_status</th>\n",
       "      <th>Education</th>\n",
       "      <th>No_of_Dependents</th>\n",
       "      <th>Personal_loan</th>\n",
       "      <th>House_loan</th>\n",
       "      <th>Partner_working</th>\n",
       "      <th>Salary</th>\n",
       "      <th>Partner_salary</th>\n",
       "      <th>Total_salary</th>\n",
       "      <th>Price</th>\n",
       "      <th>Make</th>\n",
       "    </tr>\n",
       "  </thead>\n",
       "  <tbody>\n",
       "    <tr>\n",
       "      <th>0</th>\n",
       "      <td>53</td>\n",
       "      <td>Male</td>\n",
       "      <td>Business</td>\n",
       "      <td>Married</td>\n",
       "      <td>Post Graduate</td>\n",
       "      <td>4</td>\n",
       "      <td>No</td>\n",
       "      <td>No</td>\n",
       "      <td>Yes</td>\n",
       "      <td>99300</td>\n",
       "      <td>70700.0</td>\n",
       "      <td>170000</td>\n",
       "      <td>61000</td>\n",
       "      <td>SUV</td>\n",
       "    </tr>\n",
       "    <tr>\n",
       "      <th>1</th>\n",
       "      <td>53</td>\n",
       "      <td>Femal</td>\n",
       "      <td>Salaried</td>\n",
       "      <td>Married</td>\n",
       "      <td>Post Graduate</td>\n",
       "      <td>4</td>\n",
       "      <td>Yes</td>\n",
       "      <td>No</td>\n",
       "      <td>Yes</td>\n",
       "      <td>95500</td>\n",
       "      <td>70300.0</td>\n",
       "      <td>165800</td>\n",
       "      <td>61000</td>\n",
       "      <td>SUV</td>\n",
       "    </tr>\n",
       "    <tr>\n",
       "      <th>2</th>\n",
       "      <td>53</td>\n",
       "      <td>Female</td>\n",
       "      <td>Salaried</td>\n",
       "      <td>Married</td>\n",
       "      <td>Post Graduate</td>\n",
       "      <td>3</td>\n",
       "      <td>No</td>\n",
       "      <td>No</td>\n",
       "      <td>Yes</td>\n",
       "      <td>97300</td>\n",
       "      <td>60700.0</td>\n",
       "      <td>158000</td>\n",
       "      <td>57000</td>\n",
       "      <td>SUV</td>\n",
       "    </tr>\n",
       "    <tr>\n",
       "      <th>3</th>\n",
       "      <td>53</td>\n",
       "      <td>Female</td>\n",
       "      <td>Salaried</td>\n",
       "      <td>Married</td>\n",
       "      <td>Graduate</td>\n",
       "      <td>2</td>\n",
       "      <td>Yes</td>\n",
       "      <td>No</td>\n",
       "      <td>Yes</td>\n",
       "      <td>72500</td>\n",
       "      <td>70300.0</td>\n",
       "      <td>142800</td>\n",
       "      <td>61000</td>\n",
       "      <td>SUV</td>\n",
       "    </tr>\n",
       "    <tr>\n",
       "      <th>4</th>\n",
       "      <td>53</td>\n",
       "      <td>Male</td>\n",
       "      <td>Salaried</td>\n",
       "      <td>Married</td>\n",
       "      <td>Post Graduate</td>\n",
       "      <td>3</td>\n",
       "      <td>No</td>\n",
       "      <td>No</td>\n",
       "      <td>Yes</td>\n",
       "      <td>79700</td>\n",
       "      <td>60200.0</td>\n",
       "      <td>139900</td>\n",
       "      <td>57000</td>\n",
       "      <td>SUV</td>\n",
       "    </tr>\n",
       "    <tr>\n",
       "      <th>...</th>\n",
       "      <td>...</td>\n",
       "      <td>...</td>\n",
       "      <td>...</td>\n",
       "      <td>...</td>\n",
       "      <td>...</td>\n",
       "      <td>...</td>\n",
       "      <td>...</td>\n",
       "      <td>...</td>\n",
       "      <td>...</td>\n",
       "      <td>...</td>\n",
       "      <td>...</td>\n",
       "      <td>...</td>\n",
       "      <td>...</td>\n",
       "      <td>...</td>\n",
       "    </tr>\n",
       "    <tr>\n",
       "      <th>1576</th>\n",
       "      <td>22</td>\n",
       "      <td>Male</td>\n",
       "      <td>Salaried</td>\n",
       "      <td>Single</td>\n",
       "      <td>Graduate</td>\n",
       "      <td>2</td>\n",
       "      <td>No</td>\n",
       "      <td>Yes</td>\n",
       "      <td>No</td>\n",
       "      <td>33300</td>\n",
       "      <td>0.0</td>\n",
       "      <td>33300</td>\n",
       "      <td>27000</td>\n",
       "      <td>Hatchback</td>\n",
       "    </tr>\n",
       "    <tr>\n",
       "      <th>1577</th>\n",
       "      <td>22</td>\n",
       "      <td>Male</td>\n",
       "      <td>Business</td>\n",
       "      <td>Married</td>\n",
       "      <td>Graduate</td>\n",
       "      <td>4</td>\n",
       "      <td>No</td>\n",
       "      <td>No</td>\n",
       "      <td>No</td>\n",
       "      <td>32000</td>\n",
       "      <td>NaN</td>\n",
       "      <td>32000</td>\n",
       "      <td>31000</td>\n",
       "      <td>Hatchback</td>\n",
       "    </tr>\n",
       "    <tr>\n",
       "      <th>1578</th>\n",
       "      <td>22</td>\n",
       "      <td>Male</td>\n",
       "      <td>Business</td>\n",
       "      <td>Single</td>\n",
       "      <td>Graduate</td>\n",
       "      <td>2</td>\n",
       "      <td>No</td>\n",
       "      <td>Yes</td>\n",
       "      <td>No</td>\n",
       "      <td>32900</td>\n",
       "      <td>0.0</td>\n",
       "      <td>32900</td>\n",
       "      <td>30000</td>\n",
       "      <td>Hatchback</td>\n",
       "    </tr>\n",
       "    <tr>\n",
       "      <th>1579</th>\n",
       "      <td>22</td>\n",
       "      <td>Male</td>\n",
       "      <td>Business</td>\n",
       "      <td>Married</td>\n",
       "      <td>Graduate</td>\n",
       "      <td>3</td>\n",
       "      <td>Yes</td>\n",
       "      <td>Yes</td>\n",
       "      <td>No</td>\n",
       "      <td>32200</td>\n",
       "      <td>NaN</td>\n",
       "      <td>32200</td>\n",
       "      <td>24000</td>\n",
       "      <td>Hatchback</td>\n",
       "    </tr>\n",
       "    <tr>\n",
       "      <th>1580</th>\n",
       "      <td>22</td>\n",
       "      <td>Male</td>\n",
       "      <td>Salaried</td>\n",
       "      <td>Married</td>\n",
       "      <td>Graduate</td>\n",
       "      <td>4</td>\n",
       "      <td>No</td>\n",
       "      <td>No</td>\n",
       "      <td>No</td>\n",
       "      <td>31600</td>\n",
       "      <td>0.0</td>\n",
       "      <td>31600</td>\n",
       "      <td>31000</td>\n",
       "      <td>Hatchback</td>\n",
       "    </tr>\n",
       "  </tbody>\n",
       "</table>\n",
       "<p>1581 rows × 14 columns</p>\n",
       "</div>"
      ],
      "text/plain": [
       "      Age  Gender Profession Marital_status      Education  No_of_Dependents  \\\n",
       "0      53    Male   Business        Married  Post Graduate                 4   \n",
       "1      53   Femal   Salaried        Married  Post Graduate                 4   \n",
       "2      53  Female   Salaried        Married  Post Graduate                 3   \n",
       "3      53  Female   Salaried        Married       Graduate                 2   \n",
       "4      53    Male   Salaried        Married  Post Graduate                 3   \n",
       "...   ...     ...        ...            ...            ...               ...   \n",
       "1576   22    Male   Salaried         Single       Graduate                 2   \n",
       "1577   22    Male   Business        Married       Graduate                 4   \n",
       "1578   22    Male   Business         Single       Graduate                 2   \n",
       "1579   22    Male   Business        Married       Graduate                 3   \n",
       "1580   22    Male   Salaried        Married       Graduate                 4   \n",
       "\n",
       "     Personal_loan House_loan Partner_working  Salary  Partner_salary  \\\n",
       "0               No         No             Yes   99300         70700.0   \n",
       "1              Yes         No             Yes   95500         70300.0   \n",
       "2               No         No             Yes   97300         60700.0   \n",
       "3              Yes         No             Yes   72500         70300.0   \n",
       "4               No         No             Yes   79700         60200.0   \n",
       "...            ...        ...             ...     ...             ...   \n",
       "1576            No        Yes              No   33300             0.0   \n",
       "1577            No         No              No   32000             NaN   \n",
       "1578            No        Yes              No   32900             0.0   \n",
       "1579           Yes        Yes              No   32200             NaN   \n",
       "1580            No         No              No   31600             0.0   \n",
       "\n",
       "      Total_salary  Price       Make  \n",
       "0           170000  61000        SUV  \n",
       "1           165800  61000        SUV  \n",
       "2           158000  57000        SUV  \n",
       "3           142800  61000        SUV  \n",
       "4           139900  57000        SUV  \n",
       "...            ...    ...        ...  \n",
       "1576         33300  27000  Hatchback  \n",
       "1577         32000  31000  Hatchback  \n",
       "1578         32900  30000  Hatchback  \n",
       "1579         32200  24000  Hatchback  \n",
       "1580         31600  31000  Hatchback  \n",
       "\n",
       "[1581 rows x 14 columns]"
      ]
     },
     "execution_count": 4,
     "metadata": {},
     "output_type": "execute_result"
    }
   ],
   "source": [
    "sm"
   ]
  },
  {
   "cell_type": "code",
   "execution_count": 5,
   "id": "844ce902-5b24-48c3-b1dc-9d23b515da30",
   "metadata": {},
   "outputs": [
    {
     "data": {
      "text/html": [
       "<div>\n",
       "<style scoped>\n",
       "    .dataframe tbody tr th:only-of-type {\n",
       "        vertical-align: middle;\n",
       "    }\n",
       "\n",
       "    .dataframe tbody tr th {\n",
       "        vertical-align: top;\n",
       "    }\n",
       "\n",
       "    .dataframe thead th {\n",
       "        text-align: right;\n",
       "    }\n",
       "</style>\n",
       "<table border=\"1\" class=\"dataframe\">\n",
       "  <thead>\n",
       "    <tr style=\"text-align: right;\">\n",
       "      <th></th>\n",
       "      <th>mean</th>\n",
       "      <th>std</th>\n",
       "      <th>min</th>\n",
       "      <th>25%</th>\n",
       "      <th>50%</th>\n",
       "      <th>75%</th>\n",
       "      <th>max</th>\n",
       "    </tr>\n",
       "  </thead>\n",
       "  <tbody>\n",
       "    <tr>\n",
       "      <th>Age</th>\n",
       "      <td>31.922201</td>\n",
       "      <td>8.425978</td>\n",
       "      <td>22.0</td>\n",
       "      <td>25.0</td>\n",
       "      <td>29.0</td>\n",
       "      <td>38.0</td>\n",
       "      <td>54.0</td>\n",
       "    </tr>\n",
       "    <tr>\n",
       "      <th>No_of_Dependents</th>\n",
       "      <td>2.457938</td>\n",
       "      <td>0.943483</td>\n",
       "      <td>0.0</td>\n",
       "      <td>2.0</td>\n",
       "      <td>2.0</td>\n",
       "      <td>3.0</td>\n",
       "      <td>4.0</td>\n",
       "    </tr>\n",
       "    <tr>\n",
       "      <th>Salary</th>\n",
       "      <td>60392.220114</td>\n",
       "      <td>14674.825044</td>\n",
       "      <td>30000.0</td>\n",
       "      <td>51900.0</td>\n",
       "      <td>59500.0</td>\n",
       "      <td>71800.0</td>\n",
       "      <td>99300.0</td>\n",
       "    </tr>\n",
       "    <tr>\n",
       "      <th>Partner_salary</th>\n",
       "      <td>20225.559322</td>\n",
       "      <td>19573.149277</td>\n",
       "      <td>0.0</td>\n",
       "      <td>0.0</td>\n",
       "      <td>25600.0</td>\n",
       "      <td>38300.0</td>\n",
       "      <td>80500.0</td>\n",
       "    </tr>\n",
       "    <tr>\n",
       "      <th>Total_salary</th>\n",
       "      <td>79625.996205</td>\n",
       "      <td>25545.857768</td>\n",
       "      <td>30000.0</td>\n",
       "      <td>60500.0</td>\n",
       "      <td>78000.0</td>\n",
       "      <td>95900.0</td>\n",
       "      <td>171000.0</td>\n",
       "    </tr>\n",
       "    <tr>\n",
       "      <th>Price</th>\n",
       "      <td>35597.722960</td>\n",
       "      <td>13633.636545</td>\n",
       "      <td>18000.0</td>\n",
       "      <td>25000.0</td>\n",
       "      <td>31000.0</td>\n",
       "      <td>47000.0</td>\n",
       "      <td>70000.0</td>\n",
       "    </tr>\n",
       "  </tbody>\n",
       "</table>\n",
       "</div>"
      ],
      "text/plain": [
       "                          mean           std      min      25%      50%  \\\n",
       "Age                  31.922201      8.425978     22.0     25.0     29.0   \n",
       "No_of_Dependents      2.457938      0.943483      0.0      2.0      2.0   \n",
       "Salary            60392.220114  14674.825044  30000.0  51900.0  59500.0   \n",
       "Partner_salary    20225.559322  19573.149277      0.0      0.0  25600.0   \n",
       "Total_salary      79625.996205  25545.857768  30000.0  60500.0  78000.0   \n",
       "Price             35597.722960  13633.636545  18000.0  25000.0  31000.0   \n",
       "\n",
       "                      75%       max  \n",
       "Age                  38.0      54.0  \n",
       "No_of_Dependents      3.0       4.0  \n",
       "Salary            71800.0   99300.0  \n",
       "Partner_salary    38300.0   80500.0  \n",
       "Total_salary      95900.0  171000.0  \n",
       "Price             47000.0   70000.0  "
      ]
     },
     "execution_count": 5,
     "metadata": {},
     "output_type": "execute_result"
    }
   ],
   "source": [
    "# This describe() will give the basic details of data\n",
    "df=pd.DataFrame(sm.describe().T.drop(columns=\"count\"))\n",
    "\n",
    "df"
   ]
  },
  {
   "cell_type": "code",
   "execution_count": 6,
   "id": "88db4d61-5343-4301-b6e0-d117579f70a4",
   "metadata": {},
   "outputs": [
    {
     "name": "stdout",
     "output_type": "stream",
     "text": [
      "<class 'pandas.core.frame.DataFrame'>\n",
      "RangeIndex: 1581 entries, 0 to 1580\n",
      "Data columns (total 14 columns):\n",
      " #   Column            Non-Null Count  Dtype  \n",
      "---  ------            --------------  -----  \n",
      " 0   Age               1581 non-null   int64  \n",
      " 1   Gender            1528 non-null   object \n",
      " 2   Profession        1581 non-null   object \n",
      " 3   Marital_status    1581 non-null   object \n",
      " 4   Education         1581 non-null   object \n",
      " 5   No_of_Dependents  1581 non-null   int64  \n",
      " 6   Personal_loan     1581 non-null   object \n",
      " 7   House_loan        1581 non-null   object \n",
      " 8   Partner_working   1581 non-null   object \n",
      " 9   Salary            1581 non-null   int64  \n",
      " 10  Partner_salary    1475 non-null   float64\n",
      " 11  Total_salary      1581 non-null   int64  \n",
      " 12  Price             1581 non-null   int64  \n",
      " 13  Make              1581 non-null   object \n",
      "dtypes: float64(1), int64(5), object(8)\n",
      "memory usage: 173.1+ KB\n"
     ]
    }
   ],
   "source": [
    "# This will give all the required details of data\n",
    "sm.info()"
   ]
  },
  {
   "cell_type": "code",
   "execution_count": 7,
   "id": "7a0b3ac6-4a28-400d-a210-800890f54728",
   "metadata": {},
   "outputs": [
    {
     "data": {
      "text/plain": [
       "Age                   0\n",
       "Gender               53\n",
       "Profession            0\n",
       "Marital_status        0\n",
       "Education             0\n",
       "No_of_Dependents      0\n",
       "Personal_loan         0\n",
       "House_loan            0\n",
       "Partner_working       0\n",
       "Salary                0\n",
       "Partner_salary      106\n",
       "Total_salary          0\n",
       "Price                 0\n",
       "Make                  0\n",
       "dtype: int64"
      ]
     },
     "execution_count": 7,
     "metadata": {},
     "output_type": "execute_result"
    }
   ],
   "source": [
    "# This will help you to find total Number of nan Values\n",
    "sm.isnull().sum()"
   ]
  },
  {
   "cell_type": "code",
   "execution_count": 8,
   "id": "78859f85-fda4-412c-a885-0194642ae845",
   "metadata": {},
   "outputs": [
    {
     "data": {
      "text/plain": [
       "array(['Male', 'Femal', 'Female', nan, 'Femle'], dtype=object)"
      ]
     },
     "execution_count": 8,
     "metadata": {},
     "output_type": "execute_result"
    }
   ],
   "source": [
    "# This helps us to remove Descripancies from a particular column\n",
    "sm.Gender.unique()"
   ]
  },
  {
   "cell_type": "code",
   "execution_count": 9,
   "id": "ff3f5ea2-4454-4ff3-8c2f-dc980010808a",
   "metadata": {},
   "outputs": [],
   "source": [
    "#correcting Spelling mistakes and replacing them with correct one \n",
    "sm[\"Gender\"]=sm.Gender.replace([\"Femal\",\"Femle\"],[\"Female\",\"Female\"])"
   ]
  },
  {
   "cell_type": "code",
   "execution_count": 10,
   "id": "44ddb5c5-5e20-4272-88a7-7f5a28ff3783",
   "metadata": {},
   "outputs": [
    {
     "data": {
      "text/plain": [
       "array(['Male', 'Female', nan], dtype=object)"
      ]
     },
     "execution_count": 10,
     "metadata": {},
     "output_type": "execute_result"
    }
   ],
   "source": [
    "sm.Gender.unique()"
   ]
  },
  {
   "cell_type": "code",
   "execution_count": 11,
   "id": "680b6537-bf45-4dde-b7c2-a108ea5d1f33",
   "metadata": {},
   "outputs": [
    {
     "data": {
      "text/plain": [
       "array(['SUV', 'Sedan', 'Hatchback'], dtype=object)"
      ]
     },
     "execution_count": 11,
     "metadata": {},
     "output_type": "execute_result"
    }
   ],
   "source": [
    "sm.Make.unique()"
   ]
  },
  {
   "cell_type": "code",
   "execution_count": 12,
   "id": "9f67bf90-ec50-4bbf-8912-84fb8145364d",
   "metadata": {},
   "outputs": [
    {
     "data": {
      "text/plain": [
       "array(['No', 'Yes'], dtype=object)"
      ]
     },
     "execution_count": 12,
     "metadata": {},
     "output_type": "execute_result"
    }
   ],
   "source": [
    "sm.Personal_loan.unique()"
   ]
  },
  {
   "cell_type": "code",
   "execution_count": 13,
   "id": "79d36a65-0d1a-44ad-bd16-4f89b074606c",
   "metadata": {},
   "outputs": [
    {
     "data": {
      "text/plain": [
       "Gender\n",
       "Female     329\n",
       "Male      1199\n",
       "Name: Gender, dtype: int64"
      ]
     },
     "execution_count": 13,
     "metadata": {},
     "output_type": "execute_result"
    }
   ],
   "source": [
    "# Grouping allows you to separate Identical data into groups to allow for further analysis\n",
    "sm.groupby(\"Gender\")[\"Gender\"].count()"
   ]
  },
  {
   "cell_type": "code",
   "execution_count": 14,
   "id": "7f6f7c2c-0633-4022-a485-bad5cc3e7cc3",
   "metadata": {},
   "outputs": [],
   "source": [
    "sm.Gender=sm.Gender.fillna(\"Male\")"
   ]
  },
  {
   "cell_type": "code",
   "execution_count": 15,
   "id": "94a7c601-b817-4ab0-b04b-99e5497bcda5",
   "metadata": {},
   "outputs": [
    {
     "data": {
      "text/plain": [
       "Age                   0\n",
       "Gender                0\n",
       "Profession            0\n",
       "Marital_status        0\n",
       "Education             0\n",
       "No_of_Dependents      0\n",
       "Personal_loan         0\n",
       "House_loan            0\n",
       "Partner_working       0\n",
       "Salary                0\n",
       "Partner_salary      106\n",
       "Total_salary          0\n",
       "Price                 0\n",
       "Make                  0\n",
       "dtype: int64"
      ]
     },
     "execution_count": 15,
     "metadata": {},
     "output_type": "execute_result"
    }
   ],
   "source": [
    "sm.isnull().sum()\n"
   ]
  },
  {
   "cell_type": "code",
   "execution_count": 16,
   "id": "bc3f8235-e480-4e73-8614-97eee7a8fb72",
   "metadata": {},
   "outputs": [
    {
     "data": {
      "text/plain": [
       "Gender\n",
       "Female     329\n",
       "Male      1252\n",
       "Name: Gender, dtype: int64"
      ]
     },
     "execution_count": 16,
     "metadata": {},
     "output_type": "execute_result"
    }
   ],
   "source": [
    "sm.groupby(\"Gender\")[\"Gender\"].count()"
   ]
  },
  {
   "cell_type": "code",
   "execution_count": 17,
   "id": "c9d42dda-5a84-46bc-9065-1aaea8206cbf",
   "metadata": {},
   "outputs": [
    {
     "data": {
      "text/plain": [
       "array(['Business', 'Salaried'], dtype=object)"
      ]
     },
     "execution_count": 17,
     "metadata": {},
     "output_type": "execute_result"
    }
   ],
   "source": [
    "sm.Profession.unique()"
   ]
  },
  {
   "cell_type": "code",
   "execution_count": 18,
   "id": "8dfb714e-d8f5-4b50-bb2f-e3fdd4a0f304",
   "metadata": {},
   "outputs": [
    {
     "data": {
      "text/plain": [
       "array(['Post Graduate', 'Graduate'], dtype=object)"
      ]
     },
     "execution_count": 18,
     "metadata": {},
     "output_type": "execute_result"
    }
   ],
   "source": [
    "sm.Education.unique()"
   ]
  },
  {
   "cell_type": "code",
   "execution_count": 19,
   "id": "9e4f8833-c6ff-49a0-a86e-d07c62316ece",
   "metadata": {},
   "outputs": [
    {
     "data": {
      "text/plain": [
       "Age                   0\n",
       "Gender                0\n",
       "Profession            0\n",
       "Marital_status        0\n",
       "Education             0\n",
       "No_of_Dependents      0\n",
       "Personal_loan         0\n",
       "House_loan            0\n",
       "Partner_working       0\n",
       "Salary                0\n",
       "Partner_salary      106\n",
       "Total_salary          0\n",
       "Price                 0\n",
       "Make                  0\n",
       "dtype: int64"
      ]
     },
     "execution_count": 19,
     "metadata": {},
     "output_type": "execute_result"
    }
   ],
   "source": [
    "sm.isnull().sum()"
   ]
  },
  {
   "cell_type": "code",
   "execution_count": 20,
   "id": "c1d6b47f-12c6-4335-a00b-ac744521734a",
   "metadata": {},
   "outputs": [
    {
     "data": {
      "text/html": [
       "<div>\n",
       "<style scoped>\n",
       "    .dataframe tbody tr th:only-of-type {\n",
       "        vertical-align: middle;\n",
       "    }\n",
       "\n",
       "    .dataframe tbody tr th {\n",
       "        vertical-align: top;\n",
       "    }\n",
       "\n",
       "    .dataframe thead th {\n",
       "        text-align: right;\n",
       "    }\n",
       "</style>\n",
       "<table border=\"1\" class=\"dataframe\">\n",
       "  <thead>\n",
       "    <tr style=\"text-align: right;\">\n",
       "      <th></th>\n",
       "      <th>Salary</th>\n",
       "      <th>Partner_salary</th>\n",
       "      <th>Total_salary</th>\n",
       "    </tr>\n",
       "  </thead>\n",
       "  <tbody>\n",
       "    <tr>\n",
       "      <th>0</th>\n",
       "      <td>99300</td>\n",
       "      <td>70700.0</td>\n",
       "      <td>170000</td>\n",
       "    </tr>\n",
       "    <tr>\n",
       "      <th>1</th>\n",
       "      <td>95500</td>\n",
       "      <td>70300.0</td>\n",
       "      <td>165800</td>\n",
       "    </tr>\n",
       "    <tr>\n",
       "      <th>2</th>\n",
       "      <td>97300</td>\n",
       "      <td>60700.0</td>\n",
       "      <td>158000</td>\n",
       "    </tr>\n",
       "    <tr>\n",
       "      <th>3</th>\n",
       "      <td>72500</td>\n",
       "      <td>70300.0</td>\n",
       "      <td>142800</td>\n",
       "    </tr>\n",
       "    <tr>\n",
       "      <th>4</th>\n",
       "      <td>79700</td>\n",
       "      <td>60200.0</td>\n",
       "      <td>139900</td>\n",
       "    </tr>\n",
       "    <tr>\n",
       "      <th>...</th>\n",
       "      <td>...</td>\n",
       "      <td>...</td>\n",
       "      <td>...</td>\n",
       "    </tr>\n",
       "    <tr>\n",
       "      <th>1574</th>\n",
       "      <td>34700</td>\n",
       "      <td>0.0</td>\n",
       "      <td>34700</td>\n",
       "    </tr>\n",
       "    <tr>\n",
       "      <th>1575</th>\n",
       "      <td>34000</td>\n",
       "      <td>0.0</td>\n",
       "      <td>34000</td>\n",
       "    </tr>\n",
       "    <tr>\n",
       "      <th>1576</th>\n",
       "      <td>33300</td>\n",
       "      <td>0.0</td>\n",
       "      <td>33300</td>\n",
       "    </tr>\n",
       "    <tr>\n",
       "      <th>1578</th>\n",
       "      <td>32900</td>\n",
       "      <td>0.0</td>\n",
       "      <td>32900</td>\n",
       "    </tr>\n",
       "    <tr>\n",
       "      <th>1580</th>\n",
       "      <td>31600</td>\n",
       "      <td>0.0</td>\n",
       "      <td>31600</td>\n",
       "    </tr>\n",
       "  </tbody>\n",
       "</table>\n",
       "<p>1475 rows × 3 columns</p>\n",
       "</div>"
      ],
      "text/plain": [
       "      Salary  Partner_salary  Total_salary\n",
       "0      99300         70700.0        170000\n",
       "1      95500         70300.0        165800\n",
       "2      97300         60700.0        158000\n",
       "3      72500         70300.0        142800\n",
       "4      79700         60200.0        139900\n",
       "...      ...             ...           ...\n",
       "1574   34700             0.0         34700\n",
       "1575   34000             0.0         34000\n",
       "1576   33300             0.0         33300\n",
       "1578   32900             0.0         32900\n",
       "1580   31600             0.0         31600\n",
       "\n",
       "[1475 rows x 3 columns]"
      ]
     },
     "execution_count": 20,
     "metadata": {},
     "output_type": "execute_result"
    }
   ],
   "source": [
    "sal=sm[sm[\"Partner_salary\"].notnull()] [[\"Salary\",\"Partner_salary\",\"Total_salary\"]]\n",
    "\n",
    "sal"
   ]
  },
  {
   "cell_type": "code",
   "execution_count": 21,
   "id": "033a0348-1ef0-4052-b278-b9a70476c32e",
   "metadata": {},
   "outputs": [],
   "source": [
    "sm.Partner_salary=sm.apply(lambda row:(row[\"Total_salary\"]-row[\"Salary\"]) if np.isnan(row[\"Partner_salary\"]) else row[\"Partner_salary\"],axis=1)"
   ]
  },
  {
   "cell_type": "code",
   "execution_count": 22,
   "id": "0d46b0f8-8677-4635-8fe1-fa157d0dffeb",
   "metadata": {},
   "outputs": [
    {
     "data": {
      "text/plain": [
       "Age                 0\n",
       "Gender              0\n",
       "Profession          0\n",
       "Marital_status      0\n",
       "Education           0\n",
       "No_of_Dependents    0\n",
       "Personal_loan       0\n",
       "House_loan          0\n",
       "Partner_working     0\n",
       "Salary              0\n",
       "Partner_salary      0\n",
       "Total_salary        0\n",
       "Price               0\n",
       "Make                0\n",
       "dtype: int64"
      ]
     },
     "execution_count": 22,
     "metadata": {},
     "output_type": "execute_result"
    }
   ],
   "source": [
    "sm.isnull().sum()"
   ]
  },
  {
   "cell_type": "code",
   "execution_count": 23,
   "id": "2bef1c38-fec6-4915-aa61-2066b840cc8a",
   "metadata": {},
   "outputs": [
    {
     "data": {
      "text/plain": [
       "Make\n",
       "Hatchback    582\n",
       "SUV          297\n",
       "Sedan        702\n",
       "Name: Make, dtype: int64"
      ]
     },
     "execution_count": 23,
     "metadata": {},
     "output_type": "execute_result"
    }
   ],
   "source": [
    "sm.groupby(\"Make\")[\"Make\"].count()"
   ]
  },
  {
   "cell_type": "code",
   "execution_count": 24,
   "id": "15d37c01-bef6-4dc0-9e51-93c835817a85",
   "metadata": {},
   "outputs": [
    {
     "data": {
      "text/plain": [
       "Make\n",
       "Sedan        702\n",
       "Hatchback    582\n",
       "SUV          297\n",
       "Name: count, dtype: int64"
      ]
     },
     "execution_count": 24,
     "metadata": {},
     "output_type": "execute_result"
    }
   ],
   "source": [
    "sm.Make.value_counts()"
   ]
  },
  {
   "cell_type": "markdown",
   "id": "3f154c67-16c6-46f1-bdd0-ac21367c6ee2",
   "metadata": {},
   "source": [
    "### Explore all the features of the data separately by using appropriate visualizations and draw insights that can be utilized by the business."
   ]
  },
  {
   "cell_type": "code",
   "execution_count": 25,
   "id": "b5557a7e-60a1-44df-87dc-cd11bf7d6a68",
   "metadata": {},
   "outputs": [
    {
     "data": {
      "text/plain": [
       "0         Male\n",
       "1       Female\n",
       "2       Female\n",
       "3       Female\n",
       "4         Male\n",
       "         ...  \n",
       "1576      Male\n",
       "1577      Male\n",
       "1578      Male\n",
       "1579      Male\n",
       "1580      Male\n",
       "Name: Gender, Length: 1581, dtype: object"
      ]
     },
     "execution_count": 25,
     "metadata": {},
     "output_type": "execute_result"
    }
   ],
   "source": [
    "# 1- Gender Category\n",
    "sm[\"Gender\"]\n"
   ]
  },
  {
   "cell_type": "code",
   "execution_count": 26,
   "id": "65a236a5-dfc9-4ddb-bdd8-0711fe2cf88a",
   "metadata": {},
   "outputs": [
    {
     "data": {
      "text/plain": [
       "Gender\n",
       "Female     329\n",
       "Male      1252\n",
       "Name: Gender, dtype: int64"
      ]
     },
     "execution_count": 26,
     "metadata": {},
     "output_type": "execute_result"
    }
   ],
   "source": [
    "g=sm.groupby(\"Gender\")[\"Gender\"].count()\n",
    "\n",
    "g"
   ]
  },
  {
   "cell_type": "code",
   "execution_count": 27,
   "id": "2224d50e-35ca-4fcb-bb64-2ee7de842870",
   "metadata": {},
   "outputs": [
    {
     "data": {
      "text/plain": [
       "<Axes: xlabel='Gender'>"
      ]
     },
     "execution_count": 27,
     "metadata": {},
     "output_type": "execute_result"
    },
    {
     "data": {
      "image/png": "[encoded data removed]",
      "text/plain": [
       "<Figure size 640x480 with 1 Axes>"
      ]
     },
     "metadata": {},
     "output_type": "display_data"
    }
   ],
   "source": [
    "g.plot.bar()"
   ]
  },
  {
   "cell_type": "code",
   "execution_count": 28,
   "id": "57e6f75b-a932-45c8-ba6b-251f0c6d26de",
   "metadata": {},
   "outputs": [],
   "source": [
    "#2-Profession"
   ]
  },
  {
   "cell_type": "code",
   "execution_count": 29,
   "id": "5100b9eb-641b-4928-8155-33aa64a38225",
   "metadata": {},
   "outputs": [
    {
     "data": {
      "text/plain": [
       "Profession\n",
       "Business    685\n",
       "Salaried    896\n",
       "Name: Profession, dtype: int64"
      ]
     },
     "execution_count": 29,
     "metadata": {},
     "output_type": "execute_result"
    }
   ],
   "source": [
    "p=sm.groupby(\"Profession\")[\"Profession\"].count()\n",
    "p"
   ]
  },
  {
   "cell_type": "code",
   "execution_count": 30,
   "id": "e1b4efc1-a62e-4a58-b1a7-2611ed2a64a4",
   "metadata": {},
   "outputs": [
    {
     "data": {
      "text/plain": [
       "<Axes: xlabel='Profession'>"
      ]
     },
     "execution_count": 30,
     "metadata": {},
     "output_type": "execute_result"
    },
    {
     "data": {
      "image/png": "[encoded data removed]",
      "text/plain": [
       "<Figure size 640x480 with 1 Axes>"
      ]
     },
     "metadata": {},
     "output_type": "display_data"
    }
   ],
   "source": [
    "p.plot.bar()"
   ]
  },
  {
   "cell_type": "code",
   "execution_count": 31,
   "id": "73009c61-6b66-4328-9281-c12f07537b74",
   "metadata": {},
   "outputs": [],
   "source": [
    "# 3- Marital Status"
   ]
  },
  {
   "cell_type": "code",
   "execution_count": 32,
   "id": "08425c18-be7f-4d94-8869-e1678fc8d313",
   "metadata": {},
   "outputs": [
    {
     "data": {
      "text/plain": [
       "Marital_status\n",
       "Married    1443\n",
       "Single      138\n",
       "Name: Marital_status, dtype: int64"
      ]
     },
     "execution_count": 32,
     "metadata": {},
     "output_type": "execute_result"
    }
   ],
   "source": [
    "m=sm.groupby(\"Marital_status\")[\"Marital_status\"].count()\n",
    "\n",
    "m"
   ]
  },
  {
   "cell_type": "code",
   "execution_count": 33,
   "id": "5de6a576-6e9f-4d39-ad64-df0aec78ebae",
   "metadata": {},
   "outputs": [
    {
     "data": {
      "text/plain": [
       "<Axes: xlabel='Marital_status'>"
      ]
     },
     "execution_count": 33,
     "metadata": {},
     "output_type": "execute_result"
    },
    {
     "data": {
      "image/png": "[encoded data removed]",
      "text/plain": [
       "<Figure size 640x480 with 1 Axes>"
      ]
     },
     "metadata": {},
     "output_type": "display_data"
    }
   ],
   "source": [
    "m.plot.bar()"
   ]
  },
  {
   "cell_type": "code",
   "execution_count": 34,
   "id": "9e88f98f-0422-470a-9c2b-f4a640f9eed8",
   "metadata": {},
   "outputs": [
    {
     "data": {
      "text/plain": [
       "Education\n",
       "Graduate         596\n",
       "Post Graduate    985\n",
       "Name: Education, dtype: int64"
      ]
     },
     "execution_count": 34,
     "metadata": {},
     "output_type": "execute_result"
    }
   ],
   "source": [
    "gr=sm.groupby(\"Education\")[\"Education\"].count()\n",
    "\n",
    "gr"
   ]
  },
  {
   "cell_type": "code",
   "execution_count": 35,
   "id": "790d4367-535f-4825-b28c-82c6e7606584",
   "metadata": {},
   "outputs": [
    {
     "data": {
      "text/plain": [
       "<Axes: xlabel='Education'>"
      ]
     },
     "execution_count": 35,
     "metadata": {},
     "output_type": "execute_result"
    },
    {
     "data": {
      "image/png": "[encoded data removed]",
      "text/plain": [
       "<Figure size 640x480 with 1 Axes>"
      ]
     },
     "metadata": {},
     "output_type": "display_data"
    }
   ],
   "source": [
    "gr.plot.bar()"
   ]
  },
  {
   "cell_type": "code",
   "execution_count": 36,
   "id": "db3602bd-5f57-40f9-bb0c-c885129a488d",
   "metadata": {},
   "outputs": [
    {
     "data": {
      "text/plain": [
       "4"
      ]
     },
     "execution_count": 36,
     "metadata": {},
     "output_type": "execute_result"
    }
   ],
   "source": [
    "4 # Number of Dependents"
   ]
  },
  {
   "cell_type": "code",
   "execution_count": 37,
   "id": "c32c8733-1326-4791-a4aa-a50111aaff56",
   "metadata": {},
   "outputs": [
    {
     "data": {
      "text/plain": [
       "No_of_Dependents\n",
       "0     20\n",
       "1    229\n",
       "2    557\n",
       "3    557\n",
       "4    218\n",
       "Name: No_of_Dependents, dtype: int64"
      ]
     },
     "execution_count": 37,
     "metadata": {},
     "output_type": "execute_result"
    }
   ],
   "source": [
    "nd=sm.groupby(\"No_of_Dependents\")[\"No_of_Dependents\"].count()\n",
    "nd"
   ]
  },
  {
   "cell_type": "code",
   "execution_count": 38,
   "id": "0cc7a064-c2ce-4d82-a301-46a3e7c2c19d",
   "metadata": {},
   "outputs": [
    {
     "data": {
      "text/plain": [
       "<Axes: xlabel='No_of_Dependents'>"
      ]
     },
     "execution_count": 38,
     "metadata": {},
     "output_type": "execute_result"
    },
    {
     "data": {
      "image/png": "[encoded data removed]",
      "text/plain": [
       "<Figure size 640x480 with 1 Axes>"
      ]
     },
     "metadata": {},
     "output_type": "display_data"
    }
   ],
   "source": [
    "nd.plot.bar()"
   ]
  },
  {
   "cell_type": "code",
   "execution_count": 39,
   "id": "70cbc548-a893-4a08-9ffc-51b1ab7802d4",
   "metadata": {},
   "outputs": [
    {
     "data": {
      "text/plain": [
       "Personal_loan\n",
       "No     789\n",
       "Yes    792\n",
       "Name: Personal_loan, dtype: int64"
      ]
     },
     "execution_count": 39,
     "metadata": {},
     "output_type": "execute_result"
    }
   ],
   "source": [
    "#5-Personal_Loan\n",
    "\n",
    "pl=sm.groupby(\"Personal_loan\")[\"Personal_loan\"].count()\n",
    "\n",
    "pl"
   ]
  },
  {
   "cell_type": "code",
   "execution_count": 40,
   "id": "64406abf-c29c-4225-a060-5bda8ba471f6",
   "metadata": {},
   "outputs": [
    {
     "data": {
      "text/plain": [
       "<Axes: xlabel='Personal_loan'>"
      ]
     },
     "execution_count": 40,
     "metadata": {},
     "output_type": "execute_result"
    },
    {
     "data": {
      "image/png": "[encoded data removed]",
      "text/plain": [
       "<Figure size 640x480 with 1 Axes>"
      ]
     },
     "metadata": {},
     "output_type": "display_data"
    }
   ],
   "source": [
    "pl.plot.bar()"
   ]
  },
  {
   "cell_type": "code",
   "execution_count": 41,
   "id": "8b2955e6-f0a2-4107-9321-8cbacfda8586",
   "metadata": {},
   "outputs": [
    {
     "data": {
      "text/plain": [
       "House_loan\n",
       "No     1054\n",
       "Yes     527\n",
       "Name: House_loan, dtype: int64"
      ]
     },
     "execution_count": 41,
     "metadata": {},
     "output_type": "execute_result"
    }
   ],
   "source": [
    "#6-House Loan\n",
    "\n",
    "hl=sm.groupby(\"House_loan\")[\"House_loan\"].count()\n",
    "\n",
    "hl"
   ]
  },
  {
   "cell_type": "code",
   "execution_count": 42,
   "id": "8464b33a-6dcf-4bff-b652-604b6842afe8",
   "metadata": {},
   "outputs": [
    {
     "data": {
      "text/plain": [
       "<Axes: xlabel='House_loan'>"
      ]
     },
     "execution_count": 42,
     "metadata": {},
     "output_type": "execute_result"
    },
    {
     "data": {
      "image/png": "[encoded data removed]",
      "text/plain": [
       "<Figure size 640x480 with 1 Axes>"
      ]
     },
     "metadata": {},
     "output_type": "display_data"
    }
   ],
   "source": [
    "hl.plot.bar()"
   ]
  },
  {
   "cell_type": "code",
   "execution_count": 43,
   "id": "3d8126e9-5de6-4999-ad1e-0ce561218487",
   "metadata": {},
   "outputs": [
    {
     "data": {
      "text/plain": [
       "Total_salary\n",
       "30000     1\n",
       "30600     1\n",
       "30900     1\n",
       "31100     2\n",
       "31200     1\n",
       "         ..\n",
       "169000    1\n",
       "169300    1\n",
       "170000    1\n",
       "170400    1\n",
       "171000    1\n",
       "Name: Total_salary, Length: 754, dtype: int64"
      ]
     },
     "execution_count": 43,
     "metadata": {},
     "output_type": "execute_result"
    }
   ],
   "source": [
    "sl=sm.groupby(\"Total_salary\")[\"Total_salary\"].count()\n",
    "\n",
    "sl"
   ]
  },
  {
   "cell_type": "code",
   "execution_count": 44,
   "id": "59140aa8-7ff3-43f6-b3e9-279d8ac4fc54",
   "metadata": {},
   "outputs": [
    {
     "data": {
      "text/plain": [
       "<Axes: xlabel='Total_salary'>"
      ]
     },
     "execution_count": 44,
     "metadata": {},
     "output_type": "execute_result"
    },
    {
     "data": {
      "image/png": "[encoded data removed]",
      "text/plain": [
       "<Figure size 640x480 with 1 Axes>"
      ]
     },
     "metadata": {},
     "output_type": "display_data"
    }
   ],
   "source": [
    "sl.plot.bar()"
   ]
  },
  {
   "cell_type": "code",
   "execution_count": 45,
   "id": "e137d031-5ec2-457a-b573-e1520f38d775",
   "metadata": {},
   "outputs": [
    {
     "data": {
      "text/plain": [
       "Make\n",
       "Hatchback    582\n",
       "SUV          297\n",
       "Sedan        702\n",
       "Name: Make, dtype: int64"
      ]
     },
     "execution_count": 45,
     "metadata": {},
     "output_type": "execute_result"
    }
   ],
   "source": [
    "# 7- in comparion of \"Make\"\n",
    "m=sm.groupby(\"Make\")[\"Make\"].count()\n",
    "m"
   ]
  },
  {
   "cell_type": "code",
   "execution_count": 46,
   "id": "b3052b57-e431-4803-bb52-32fbc3d0460f",
   "metadata": {},
   "outputs": [
    {
     "data": {
      "text/plain": [
       "<Axes: xlabel='Make'>"
      ]
     },
     "execution_count": 46,
     "metadata": {},
     "output_type": "execute_result"
    },
    {
     "data": {
      "image/png": "[encoded data removed]",
      "text/plain": [
       "<Figure size 640x480 with 1 Axes>"
      ]
     },
     "metadata": {},
     "output_type": "display_data"
    }
   ],
   "source": [
    "m.plot.bar()"
   ]
  },
  {
   "cell_type": "markdown",
   "id": "53c658a7-a66b-4010-add5-fe71be80dc6c",
   "metadata": {},
   "source": [
    "#### D Understanding the relationships among the variables in the dataset is crucial for every analytical project. Perform analysis on the data fields to gain deeper insights. Comment on your understanding of the data."
   ]
  },
  {
   "cell_type": "code",
   "execution_count": 47,
   "id": "fe25a9dc-4aad-4799-988e-5b8526966953",
   "metadata": {},
   "outputs": [
    {
     "data": {
      "text/html": [
       "<div>\n",
       "<style scoped>\n",
       "    .dataframe tbody tr th:only-of-type {\n",
       "        vertical-align: middle;\n",
       "    }\n",
       "\n",
       "    .dataframe tbody tr th {\n",
       "        vertical-align: top;\n",
       "    }\n",
       "\n",
       "    .dataframe thead th {\n",
       "        text-align: right;\n",
       "    }\n",
       "</style>\n",
       "<table border=\"1\" class=\"dataframe\">\n",
       "  <thead>\n",
       "    <tr style=\"text-align: right;\">\n",
       "      <th>Profession</th>\n",
       "      <th>Business</th>\n",
       "      <th>Salaried</th>\n",
       "    </tr>\n",
       "    <tr>\n",
       "      <th>Gender</th>\n",
       "      <th></th>\n",
       "      <th></th>\n",
       "    </tr>\n",
       "  </thead>\n",
       "  <tbody>\n",
       "    <tr>\n",
       "      <th>Female</th>\n",
       "      <td>105</td>\n",
       "      <td>224</td>\n",
       "    </tr>\n",
       "    <tr>\n",
       "      <th>Male</th>\n",
       "      <td>580</td>\n",
       "      <td>672</td>\n",
       "    </tr>\n",
       "  </tbody>\n",
       "</table>\n",
       "</div>"
      ],
      "text/plain": [
       "Profession  Business  Salaried\n",
       "Gender                        \n",
       "Female           105       224\n",
       "Male             580       672"
      ]
     },
     "execution_count": 47,
     "metadata": {},
     "output_type": "execute_result"
    }
   ],
   "source": [
    "sm.pivot_table(\"Make\",index=\"Gender\",columns=\"Profession\",aggfunc={\"Gender\":\"count\"})"
   ]
  },
  {
   "cell_type": "code",
   "execution_count": 48,
   "id": "47accb85-b5da-41f0-9350-e38fff0265ac",
   "metadata": {},
   "outputs": [
    {
     "data": {
      "text/html": [
       "<div>\n",
       "<style scoped>\n",
       "    .dataframe tbody tr th:only-of-type {\n",
       "        vertical-align: middle;\n",
       "    }\n",
       "\n",
       "    .dataframe tbody tr th {\n",
       "        vertical-align: top;\n",
       "    }\n",
       "\n",
       "    .dataframe thead th {\n",
       "        text-align: right;\n",
       "    }\n",
       "</style>\n",
       "<table border=\"1\" class=\"dataframe\">\n",
       "  <thead>\n",
       "    <tr style=\"text-align: right;\">\n",
       "      <th>Profession</th>\n",
       "      <th>Business</th>\n",
       "      <th>Salaried</th>\n",
       "    </tr>\n",
       "    <tr>\n",
       "      <th>Gender</th>\n",
       "      <th></th>\n",
       "      <th></th>\n",
       "    </tr>\n",
       "  </thead>\n",
       "  <tbody>\n",
       "    <tr>\n",
       "      <th>Female</th>\n",
       "      <td>105</td>\n",
       "      <td>224</td>\n",
       "    </tr>\n",
       "    <tr>\n",
       "      <th>Male</th>\n",
       "      <td>580</td>\n",
       "      <td>672</td>\n",
       "    </tr>\n",
       "  </tbody>\n",
       "</table>\n",
       "</div>"
      ],
      "text/plain": [
       "Profession  Business  Salaried\n",
       "Gender                        \n",
       "Female           105       224\n",
       "Male             580       672"
      ]
     },
     "execution_count": 48,
     "metadata": {},
     "output_type": "execute_result"
    }
   ],
   "source": [
    " pvt=sm.groupby([\"Gender\",\"Profession\"])[\"Make\"].count().unstack()\n",
    "\n",
    "pvt"
   ]
  },
  {
   "cell_type": "code",
   "execution_count": 49,
   "id": "016892d3-ec52-4437-8d13-c1259bc00b28",
   "metadata": {},
   "outputs": [
    {
     "data": {
      "text/plain": [
       "<Axes: xlabel='Gender'>"
      ]
     },
     "execution_count": 49,
     "metadata": {},
     "output_type": "execute_result"
    },
    {
     "data": {
      "image/png": "[encoded data removed]",
      "text/plain": [
       "<Figure size 640x480 with 1 Axes>"
      ]
     },
     "metadata": {},
     "output_type": "display_data"
    }
   ],
   "source": [
    "pvt.plot.bar()"
   ]
  },
  {
   "cell_type": "markdown",
   "id": "43cc8318-e3d8-4f78-98f2-85f176ef18f8",
   "metadata": {},
   "source": [
    "### E- Employees working on the existing marketing campaign have made the following remarks.Based on the data and your analysis state whether you agree or disagree with their observations. Justify your answer Based on the data available."
   ]
  },
  {
   "cell_type": "code",
   "execution_count": 50,
   "id": "b1ed9382-542c-4723-a598-538de75ec6ef",
   "metadata": {},
   "outputs": [
    {
     "data": {
      "text/plain": [
       "Gender  Make     \n",
       "Female  Hatchback     15\n",
       "        SUV          173\n",
       "        Sedan        141\n",
       "Male    Hatchback    567\n",
       "        SUV          124\n",
       "        Sedan        561\n",
       "Name: Make, dtype: int64"
      ]
     },
     "execution_count": 50,
     "metadata": {},
     "output_type": "execute_result"
    }
   ],
   "source": [
    "# E1-Men prefer SUV by a large margin, compared to the women”\n",
    "sm.groupby([\"Gender\",\"Make\"])[\"Make\"].count()"
   ]
  },
  {
   "cell_type": "code",
   "execution_count": 51,
   "id": "288be14b-0c7e-4412-94e9-91eaf26b57d4",
   "metadata": {},
   "outputs": [
    {
     "data": {
      "text/html": [
       "<div>\n",
       "<style scoped>\n",
       "    .dataframe tbody tr th:only-of-type {\n",
       "        vertical-align: middle;\n",
       "    }\n",
       "\n",
       "    .dataframe tbody tr th {\n",
       "        vertical-align: top;\n",
       "    }\n",
       "\n",
       "    .dataframe thead th {\n",
       "        text-align: right;\n",
       "    }\n",
       "</style>\n",
       "<table border=\"1\" class=\"dataframe\">\n",
       "  <thead>\n",
       "    <tr style=\"text-align: right;\">\n",
       "      <th></th>\n",
       "      <th>Gender</th>\n",
       "      <th>Make</th>\n",
       "    </tr>\n",
       "  </thead>\n",
       "  <tbody>\n",
       "    <tr>\n",
       "      <th>0</th>\n",
       "      <td>Male</td>\n",
       "      <td>SUV</td>\n",
       "    </tr>\n",
       "    <tr>\n",
       "      <th>4</th>\n",
       "      <td>Male</td>\n",
       "      <td>SUV</td>\n",
       "    </tr>\n",
       "    <tr>\n",
       "      <th>7</th>\n",
       "      <td>Male</td>\n",
       "      <td>SUV</td>\n",
       "    </tr>\n",
       "    <tr>\n",
       "      <th>8</th>\n",
       "      <td>Male</td>\n",
       "      <td>SUV</td>\n",
       "    </tr>\n",
       "    <tr>\n",
       "      <th>9</th>\n",
       "      <td>Male</td>\n",
       "      <td>SUV</td>\n",
       "    </tr>\n",
       "    <tr>\n",
       "      <th>...</th>\n",
       "      <td>...</td>\n",
       "      <td>...</td>\n",
       "    </tr>\n",
       "    <tr>\n",
       "      <th>1576</th>\n",
       "      <td>Male</td>\n",
       "      <td>Hatchback</td>\n",
       "    </tr>\n",
       "    <tr>\n",
       "      <th>1577</th>\n",
       "      <td>Male</td>\n",
       "      <td>Hatchback</td>\n",
       "    </tr>\n",
       "    <tr>\n",
       "      <th>1578</th>\n",
       "      <td>Male</td>\n",
       "      <td>Hatchback</td>\n",
       "    </tr>\n",
       "    <tr>\n",
       "      <th>1579</th>\n",
       "      <td>Male</td>\n",
       "      <td>Hatchback</td>\n",
       "    </tr>\n",
       "    <tr>\n",
       "      <th>1580</th>\n",
       "      <td>Male</td>\n",
       "      <td>Hatchback</td>\n",
       "    </tr>\n",
       "  </tbody>\n",
       "</table>\n",
       "<p>1252 rows × 2 columns</p>\n",
       "</div>"
      ],
      "text/plain": [
       "     Gender       Make\n",
       "0      Male        SUV\n",
       "4      Male        SUV\n",
       "7      Male        SUV\n",
       "8      Male        SUV\n",
       "9      Male        SUV\n",
       "...     ...        ...\n",
       "1576   Male  Hatchback\n",
       "1577   Male  Hatchback\n",
       "1578   Male  Hatchback\n",
       "1579   Male  Hatchback\n",
       "1580   Male  Hatchback\n",
       "\n",
       "[1252 rows x 2 columns]"
      ]
     },
     "execution_count": 51,
     "metadata": {},
     "output_type": "execute_result"
    }
   ],
   "source": [
    "MaleD=sm[[\"Gender\",\"Make\"]].where(sm[\"Gender\"]==\"Male\").dropna()\n",
    "MaleD"
   ]
  },
  {
   "cell_type": "code",
   "execution_count": 52,
   "id": "069cd5ab-987c-4fc3-ab01-c9b723c0916b",
   "metadata": {},
   "outputs": [
    {
     "data": {
      "text/plain": [
       "Gender    329\n",
       "Make      329\n",
       "dtype: int64"
      ]
     },
     "execution_count": 52,
     "metadata": {},
     "output_type": "execute_result"
    }
   ],
   "source": [
    "FemaleD=sm[[\"Gender\",\"Make\"]].where(sm[\"Gender\"]==\"Female\")\n",
    "FemaleD.count()"
   ]
  },
  {
   "cell_type": "code",
   "execution_count": 53,
   "id": "9dd69990-71be-4a55-9c6d-a61e173e35fe",
   "metadata": {},
   "outputs": [],
   "source": [
    "#Number of females are very less with respect to the male\n",
    "\n",
    "sam1=MaleD.sample(329).groupby(\"Make\").count()"
   ]
  },
  {
   "cell_type": "code",
   "execution_count": 54,
   "id": "c10fd71f-e7bf-4585-b213-f77219031bab",
   "metadata": {},
   "outputs": [],
   "source": [
    "sam2=MaleD.sample(329).groupby(\"Make\").count()"
   ]
  },
  {
   "cell_type": "code",
   "execution_count": 55,
   "id": "aee38abc-c559-4c0a-a382-b2458e0012df",
   "metadata": {},
   "outputs": [],
   "source": [
    "sam3=MaleD.sample(329).groupby(\"Make\").count()"
   ]
  },
  {
   "cell_type": "code",
   "execution_count": 56,
   "id": "b3cf96ba-7fa1-4b04-8895-a98db13b2e2a",
   "metadata": {},
   "outputs": [
    {
     "data": {
      "text/html": [
       "<div>\n",
       "<style scoped>\n",
       "    .dataframe tbody tr th:only-of-type {\n",
       "        vertical-align: middle;\n",
       "    }\n",
       "\n",
       "    .dataframe tbody tr th {\n",
       "        vertical-align: top;\n",
       "    }\n",
       "\n",
       "    .dataframe thead th {\n",
       "        text-align: right;\n",
       "    }\n",
       "</style>\n",
       "<table border=\"1\" class=\"dataframe\">\n",
       "  <thead>\n",
       "    <tr style=\"text-align: right;\">\n",
       "      <th></th>\n",
       "      <th>Gender</th>\n",
       "    </tr>\n",
       "    <tr>\n",
       "      <th>Make</th>\n",
       "      <th></th>\n",
       "    </tr>\n",
       "  </thead>\n",
       "  <tbody>\n",
       "    <tr>\n",
       "      <th>Hatchback</th>\n",
       "      <td>160</td>\n",
       "    </tr>\n",
       "    <tr>\n",
       "      <th>SUV</th>\n",
       "      <td>37</td>\n",
       "    </tr>\n",
       "    <tr>\n",
       "      <th>Sedan</th>\n",
       "      <td>132</td>\n",
       "    </tr>\n",
       "  </tbody>\n",
       "</table>\n",
       "</div>"
      ],
      "text/plain": [
       "           Gender\n",
       "Make             \n",
       "Hatchback     160\n",
       "SUV            37\n",
       "Sedan         132"
      ]
     },
     "execution_count": 56,
     "metadata": {},
     "output_type": "execute_result"
    }
   ],
   "source": [
    "sam1"
   ]
  },
  {
   "cell_type": "code",
   "execution_count": 57,
   "id": "e2b01bc7-ad81-44b5-9832-c261a054c7b1",
   "metadata": {},
   "outputs": [
    {
     "data": {
      "text/html": [
       "<div>\n",
       "<style scoped>\n",
       "    .dataframe tbody tr th:only-of-type {\n",
       "        vertical-align: middle;\n",
       "    }\n",
       "\n",
       "    .dataframe tbody tr th {\n",
       "        vertical-align: top;\n",
       "    }\n",
       "\n",
       "    .dataframe thead th {\n",
       "        text-align: right;\n",
       "    }\n",
       "</style>\n",
       "<table border=\"1\" class=\"dataframe\">\n",
       "  <thead>\n",
       "    <tr style=\"text-align: right;\">\n",
       "      <th></th>\n",
       "      <th>Gender</th>\n",
       "    </tr>\n",
       "    <tr>\n",
       "      <th>Make</th>\n",
       "      <th></th>\n",
       "    </tr>\n",
       "  </thead>\n",
       "  <tbody>\n",
       "    <tr>\n",
       "      <th>Hatchback</th>\n",
       "      <td>145</td>\n",
       "    </tr>\n",
       "    <tr>\n",
       "      <th>SUV</th>\n",
       "      <td>30</td>\n",
       "    </tr>\n",
       "    <tr>\n",
       "      <th>Sedan</th>\n",
       "      <td>154</td>\n",
       "    </tr>\n",
       "  </tbody>\n",
       "</table>\n",
       "</div>"
      ],
      "text/plain": [
       "           Gender\n",
       "Make             \n",
       "Hatchback     145\n",
       "SUV            30\n",
       "Sedan         154"
      ]
     },
     "execution_count": 57,
     "metadata": {},
     "output_type": "execute_result"
    }
   ],
   "source": [
    "sam2"
   ]
  },
  {
   "cell_type": "code",
   "execution_count": 58,
   "id": "5eafc372-56ac-44fc-b640-423c6b424cc8",
   "metadata": {},
   "outputs": [
    {
     "data": {
      "text/html": [
       "<div>\n",
       "<style scoped>\n",
       "    .dataframe tbody tr th:only-of-type {\n",
       "        vertical-align: middle;\n",
       "    }\n",
       "\n",
       "    .dataframe tbody tr th {\n",
       "        vertical-align: top;\n",
       "    }\n",
       "\n",
       "    .dataframe thead th {\n",
       "        text-align: right;\n",
       "    }\n",
       "</style>\n",
       "<table border=\"1\" class=\"dataframe\">\n",
       "  <thead>\n",
       "    <tr style=\"text-align: right;\">\n",
       "      <th></th>\n",
       "      <th>Gender</th>\n",
       "    </tr>\n",
       "    <tr>\n",
       "      <th>Make</th>\n",
       "      <th></th>\n",
       "    </tr>\n",
       "  </thead>\n",
       "  <tbody>\n",
       "    <tr>\n",
       "      <th>Hatchback</th>\n",
       "      <td>159</td>\n",
       "    </tr>\n",
       "    <tr>\n",
       "      <th>SUV</th>\n",
       "      <td>26</td>\n",
       "    </tr>\n",
       "    <tr>\n",
       "      <th>Sedan</th>\n",
       "      <td>144</td>\n",
       "    </tr>\n",
       "  </tbody>\n",
       "</table>\n",
       "</div>"
      ],
      "text/plain": [
       "           Gender\n",
       "Make             \n",
       "Hatchback     159\n",
       "SUV            26\n",
       "Sedan         144"
      ]
     },
     "execution_count": 58,
     "metadata": {},
     "output_type": "execute_result"
    }
   ],
   "source": [
    "sam3"
   ]
  },
  {
   "cell_type": "code",
   "execution_count": 59,
   "id": "e5173241-0d35-478e-b567-76ca4bca49dd",
   "metadata": {},
   "outputs": [
    {
     "data": {
      "text/html": [
       "<div>\n",
       "<style scoped>\n",
       "    .dataframe tbody tr th:only-of-type {\n",
       "        vertical-align: middle;\n",
       "    }\n",
       "\n",
       "    .dataframe tbody tr th {\n",
       "        vertical-align: top;\n",
       "    }\n",
       "\n",
       "    .dataframe thead th {\n",
       "        text-align: right;\n",
       "    }\n",
       "</style>\n",
       "<table border=\"1\" class=\"dataframe\">\n",
       "  <thead>\n",
       "    <tr style=\"text-align: right;\">\n",
       "      <th></th>\n",
       "      <th>Male</th>\n",
       "    </tr>\n",
       "    <tr>\n",
       "      <th>Make</th>\n",
       "      <th></th>\n",
       "    </tr>\n",
       "  </thead>\n",
       "  <tbody>\n",
       "    <tr>\n",
       "      <th>Hatchback</th>\n",
       "      <td>160</td>\n",
       "    </tr>\n",
       "    <tr>\n",
       "      <th>SUV</th>\n",
       "      <td>37</td>\n",
       "    </tr>\n",
       "    <tr>\n",
       "      <th>Sedan</th>\n",
       "      <td>132</td>\n",
       "    </tr>\n",
       "  </tbody>\n",
       "</table>\n",
       "</div>"
      ],
      "text/plain": [
       "           Male\n",
       "Make           \n",
       "Hatchback   160\n",
       "SUV          37\n",
       "Sedan       132"
      ]
     },
     "execution_count": 59,
     "metadata": {},
     "output_type": "execute_result"
    }
   ],
   "source": [
    "sam1.rename(columns={\"Gender\":\"Male\"})"
   ]
  },
  {
   "cell_type": "code",
   "execution_count": 60,
   "id": "3df2d528-0c24-425f-a3bb-eb4924ad5b09",
   "metadata": {},
   "outputs": [
    {
     "name": "stderr",
     "output_type": "stream",
     "text": [
      "C:\\Users\\masoo\\AppData\\Local\\Temp\\ipykernel_3896\\3322669044.py:3: FutureWarning: Series.__getitem__ treating keys as positions is deprecated. In a future version, integer keys will always be treated as labels (consistent with DataFrame behavior). To access a value by position, use `ser.iloc[pos]`\n",
      "  SuvMale=[sam1.iloc[1][0],sam2.iloc[1][0],sam3.iloc[1][0]]\n"
     ]
    }
   ],
   "source": [
    "# Females are preferring SUV over Males:\n",
    "\n",
    "SuvMale=[sam1.iloc[1][0],sam2.iloc[1][0],sam3.iloc[1][0]]"
   ]
  },
  {
   "cell_type": "code",
   "execution_count": 61,
   "id": "8ea6add0-3a94-4721-9d31-f0a61b9a8881",
   "metadata": {},
   "outputs": [
    {
     "data": {
      "text/html": [
       "<div>\n",
       "<style scoped>\n",
       "    .dataframe tbody tr th:only-of-type {\n",
       "        vertical-align: middle;\n",
       "    }\n",
       "\n",
       "    .dataframe tbody tr th {\n",
       "        vertical-align: top;\n",
       "    }\n",
       "\n",
       "    .dataframe thead th {\n",
       "        text-align: right;\n",
       "    }\n",
       "</style>\n",
       "<table border=\"1\" class=\"dataframe\">\n",
       "  <thead>\n",
       "    <tr style=\"text-align: right;\">\n",
       "      <th></th>\n",
       "      <th>Female</th>\n",
       "    </tr>\n",
       "    <tr>\n",
       "      <th>Make</th>\n",
       "      <th></th>\n",
       "    </tr>\n",
       "  </thead>\n",
       "  <tbody>\n",
       "    <tr>\n",
       "      <th>Hatchback</th>\n",
       "      <td>15</td>\n",
       "    </tr>\n",
       "    <tr>\n",
       "      <th>SUV</th>\n",
       "      <td>173</td>\n",
       "    </tr>\n",
       "    <tr>\n",
       "      <th>Sedan</th>\n",
       "      <td>141</td>\n",
       "    </tr>\n",
       "  </tbody>\n",
       "</table>\n",
       "</div>"
      ],
      "text/plain": [
       "           Female\n",
       "Make             \n",
       "Hatchback      15\n",
       "SUV           173\n",
       "Sedan         141"
      ]
     },
     "execution_count": 61,
     "metadata": {},
     "output_type": "execute_result"
    }
   ],
   "source": [
    "Fmd=(FemaleD.groupby(\"Make\").count()).rename(columns={\"Gender\":\"Female\"})\n",
    "\n",
    "Fmd"
   ]
  },
  {
   "cell_type": "code",
   "execution_count": 62,
   "id": "b61f3007-65de-41a0-8cbc-0c41f093de2a",
   "metadata": {},
   "outputs": [
    {
     "name": "stderr",
     "output_type": "stream",
     "text": [
      "C:\\Users\\masoo\\AppData\\Local\\Temp\\ipykernel_3896\\908379782.py:1: FutureWarning: Series.__getitem__ treating keys as positions is deprecated. In a future version, integer keys will always be treated as labels (consistent with DataFrame behavior). To access a value by position, use `ser.iloc[pos]`\n",
      "  SuvFemale=[Fmd.iloc[1][0],Fmd.iloc[1][0],Fmd.iloc[1][0]]\n"
     ]
    }
   ],
   "source": [
    "SuvFemale=[Fmd.iloc[1][0],Fmd.iloc[1][0],Fmd.iloc[1][0]]"
   ]
  },
  {
   "cell_type": "code",
   "execution_count": 63,
   "id": "8feb5a0c-c337-4101-a564-2f27b71e709a",
   "metadata": {},
   "outputs": [],
   "source": [
    "df1=pd.DataFrame({\"Male\":SuvMale,\"Female\":SuvFemale},index=[\"Sample1\",\"Sample2\",\"Sample3\"])"
   ]
  },
  {
   "cell_type": "code",
   "execution_count": 64,
   "id": "f0e5583a-cf2d-45d7-93c7-5e61a7656654",
   "metadata": {},
   "outputs": [
    {
     "data": {
      "text/plain": [
       "<Axes: >"
      ]
     },
     "execution_count": 64,
     "metadata": {},
     "output_type": "execute_result"
    },
    {
     "data": {
      "image/png": "[encoded data removed]",
      "text/plain": [
       "<Figure size 640x480 with 1 Axes>"
      ]
     },
     "metadata": {},
     "output_type": "display_data"
    }
   ],
   "source": [
    "df1.plot.bar(rot=0)"
   ]
  },
  {
   "cell_type": "code",
   "execution_count": 65,
   "id": "1ad2d14c-5d6d-4c2d-938b-ea85495abea0",
   "metadata": {},
   "outputs": [
    {
     "name": "stderr",
     "output_type": "stream",
     "text": [
      "C:\\Users\\masoo\\AppData\\Local\\Temp\\ipykernel_3896\\3114674376.py:3: FutureWarning: Series.__getitem__ treating keys as positions is deprecated. In a future version, integer keys will always be treated as labels (consistent with DataFrame behavior). To access a value by position, use `ser.iloc[pos]`\n",
      "  HBMale=[sam1.iloc[0][0],sam2.iloc[0][0],sam2.iloc[0][0]]\n",
      "C:\\Users\\masoo\\AppData\\Local\\Temp\\ipykernel_3896\\3114674376.py:4: FutureWarning: Series.__getitem__ treating keys as positions is deprecated. In a future version, integer keys will always be treated as labels (consistent with DataFrame behavior). To access a value by position, use `ser.iloc[pos]`\n",
      "  HBFemale=[Fmd.iloc[0][0],Fmd.iloc[0][0],Fmd.iloc[0][0]]\n"
     ]
    }
   ],
   "source": [
    "# Males are preferring Hatchback over Females:\n",
    "\n",
    "HBMale=[sam1.iloc[0][0],sam2.iloc[0][0],sam2.iloc[0][0]]\n",
    "HBFemale=[Fmd.iloc[0][0],Fmd.iloc[0][0],Fmd.iloc[0][0]]\n"
   ]
  },
  {
   "cell_type": "code",
   "execution_count": 66,
   "id": "20f120c6-6ce5-4e54-a5cf-7a81b845b52c",
   "metadata": {},
   "outputs": [],
   "source": [
    "df2=pd.DataFrame({\"Male\":HBMale,\"Female\":HBFemale},index=[\"Sample1\",\"Sample2\",\"Sample2\"])"
   ]
  },
  {
   "cell_type": "code",
   "execution_count": 67,
   "id": "4e7d1d07-0503-44e2-855f-463c1ea73fbe",
   "metadata": {},
   "outputs": [
    {
     "data": {
      "text/plain": [
       "<Axes: >"
      ]
     },
     "execution_count": 67,
     "metadata": {},
     "output_type": "execute_result"
    },
    {
     "data": {
      "image/png": "[encoded data removed]",
      "text/plain": [
       "<Figure size 640x480 with 1 Axes>"
      ]
     },
     "metadata": {},
     "output_type": "display_data"
    }
   ],
   "source": [
    "df2.plot.bar()"
   ]
  },
  {
   "cell_type": "code",
   "execution_count": 68,
   "id": "a32a7f10-3e01-41b1-8a25-3bb55b5e2fa8",
   "metadata": {},
   "outputs": [
    {
     "name": "stderr",
     "output_type": "stream",
     "text": [
      "C:\\Users\\masoo\\AppData\\Local\\Temp\\ipykernel_3896\\1423783909.py:1: FutureWarning: Series.__getitem__ treating keys as positions is deprecated. In a future version, integer keys will always be treated as labels (consistent with DataFrame behavior). To access a value by position, use `ser.iloc[pos]`\n",
      "  SeMale=[sam1.iloc[2][0],sam2.iloc[2][0],sam2.iloc[2][0]]\n",
      "C:\\Users\\masoo\\AppData\\Local\\Temp\\ipykernel_3896\\1423783909.py:2: FutureWarning: Series.__getitem__ treating keys as positions is deprecated. In a future version, integer keys will always be treated as labels (consistent with DataFrame behavior). To access a value by position, use `ser.iloc[pos]`\n",
      "  SeFemale=[Fmd.iloc[2][0],Fmd.iloc[2][0],Fmd.iloc[2][0]]\n"
     ]
    }
   ],
   "source": [
    "SeMale=[sam1.iloc[2][0],sam2.iloc[2][0],sam2.iloc[2][0]]\n",
    "SeFemale=[Fmd.iloc[2][0],Fmd.iloc[2][0],Fmd.iloc[2][0]]"
   ]
  },
  {
   "cell_type": "code",
   "execution_count": 69,
   "id": "5eb7b57b-9c09-4a2e-a605-cd19d2a186e0",
   "metadata": {},
   "outputs": [],
   "source": [
    "df3=pd.DataFrame({\"Male\":SeMale,\"Female\":SeFemale},index=[\"Sample1\",\"Sample2\",\"Sample2\"])"
   ]
  },
  {
   "cell_type": "code",
   "execution_count": 70,
   "id": "e0cf49e1-d71a-4707-8281-8d4afd999d5e",
   "metadata": {},
   "outputs": [
    {
     "data": {
      "text/plain": [
       "<Axes: >"
      ]
     },
     "execution_count": 70,
     "metadata": {},
     "output_type": "execute_result"
    },
    {
     "data": {
      "image/png": "[encoded data removed]",
      "text/plain": [
       "<Figure size 640x480 with 1 Axes>"
      ]
     },
     "metadata": {},
     "output_type": "display_data"
    }
   ],
   "source": [
    "df3.plot.bar()"
   ]
  },
  {
   "cell_type": "code",
   "execution_count": 71,
   "id": "6d3d8b75-21be-4ac9-968e-5a5fd65d211c",
   "metadata": {},
   "outputs": [
    {
     "data": {
      "text/html": [
       "<div>\n",
       "<style scoped>\n",
       "    .dataframe tbody tr th:only-of-type {\n",
       "        vertical-align: middle;\n",
       "    }\n",
       "\n",
       "    .dataframe tbody tr th {\n",
       "        vertical-align: top;\n",
       "    }\n",
       "\n",
       "    .dataframe thead th {\n",
       "        text-align: right;\n",
       "    }\n",
       "</style>\n",
       "<table border=\"1\" class=\"dataframe\">\n",
       "  <thead>\n",
       "    <tr style=\"text-align: right;\">\n",
       "      <th></th>\n",
       "      <th>Profession</th>\n",
       "      <th>Make</th>\n",
       "    </tr>\n",
       "  </thead>\n",
       "  <tbody>\n",
       "    <tr>\n",
       "      <th>0</th>\n",
       "      <td>Business</td>\n",
       "      <td>SUV</td>\n",
       "    </tr>\n",
       "    <tr>\n",
       "      <th>1</th>\n",
       "      <td>Salaried</td>\n",
       "      <td>SUV</td>\n",
       "    </tr>\n",
       "    <tr>\n",
       "      <th>2</th>\n",
       "      <td>Salaried</td>\n",
       "      <td>SUV</td>\n",
       "    </tr>\n",
       "    <tr>\n",
       "      <th>3</th>\n",
       "      <td>Salaried</td>\n",
       "      <td>SUV</td>\n",
       "    </tr>\n",
       "    <tr>\n",
       "      <th>4</th>\n",
       "      <td>Salaried</td>\n",
       "      <td>SUV</td>\n",
       "    </tr>\n",
       "    <tr>\n",
       "      <th>...</th>\n",
       "      <td>...</td>\n",
       "      <td>...</td>\n",
       "    </tr>\n",
       "    <tr>\n",
       "      <th>1576</th>\n",
       "      <td>Salaried</td>\n",
       "      <td>Hatchback</td>\n",
       "    </tr>\n",
       "    <tr>\n",
       "      <th>1577</th>\n",
       "      <td>Business</td>\n",
       "      <td>Hatchback</td>\n",
       "    </tr>\n",
       "    <tr>\n",
       "      <th>1578</th>\n",
       "      <td>Business</td>\n",
       "      <td>Hatchback</td>\n",
       "    </tr>\n",
       "    <tr>\n",
       "      <th>1579</th>\n",
       "      <td>Business</td>\n",
       "      <td>Hatchback</td>\n",
       "    </tr>\n",
       "    <tr>\n",
       "      <th>1580</th>\n",
       "      <td>Salaried</td>\n",
       "      <td>Hatchback</td>\n",
       "    </tr>\n",
       "  </tbody>\n",
       "</table>\n",
       "<p>1581 rows × 2 columns</p>\n",
       "</div>"
      ],
      "text/plain": [
       "     Profession       Make\n",
       "0      Business        SUV\n",
       "1      Salaried        SUV\n",
       "2      Salaried        SUV\n",
       "3      Salaried        SUV\n",
       "4      Salaried        SUV\n",
       "...         ...        ...\n",
       "1576   Salaried  Hatchback\n",
       "1577   Business  Hatchback\n",
       "1578   Business  Hatchback\n",
       "1579   Business  Hatchback\n",
       "1580   Salaried  Hatchback\n",
       "\n",
       "[1581 rows x 2 columns]"
      ]
     },
     "execution_count": 71,
     "metadata": {},
     "output_type": "execute_result"
    }
   ],
   "source": [
    "# E2- Ned Stark believes that a salaried person is more likely to buy a Sedan.\n",
    "\n",
    "a=sm[[\"Profession\",\"Make\"]]\n",
    "\n",
    "a"
   ]
  },
  {
   "cell_type": "code",
   "execution_count": 72,
   "id": "905c7b18-b739-43a6-aae0-7669876a68a9",
   "metadata": {},
   "outputs": [
    {
     "data": {
      "text/plain": [
       "Profession  Make     \n",
       "Business    Hatchback    290\n",
       "            SUV           89\n",
       "            Sedan        306\n",
       "Salaried    Hatchback    292\n",
       "            SUV          208\n",
       "            Sedan        396\n",
       "Name: Make, dtype: int64"
      ]
     },
     "execution_count": 72,
     "metadata": {},
     "output_type": "execute_result"
    }
   ],
   "source": [
    "\n",
    "sm.groupby([\"Profession\",\"Make\"])[\"Make\"].count()\n"
   ]
  },
  {
   "cell_type": "code",
   "execution_count": 119,
   "id": "d07b19e8-5869-48bb-a069-b8d76a44fa24",
   "metadata": {},
   "outputs": [
    {
     "data": {
      "text/html": [
       "<div>\n",
       "<style scoped>\n",
       "    .dataframe tbody tr th:only-of-type {\n",
       "        vertical-align: middle;\n",
       "    }\n",
       "\n",
       "    .dataframe tbody tr th {\n",
       "        vertical-align: top;\n",
       "    }\n",
       "\n",
       "    .dataframe thead th {\n",
       "        text-align: right;\n",
       "    }\n",
       "</style>\n",
       "<table border=\"1\" class=\"dataframe\">\n",
       "  <thead>\n",
       "    <tr style=\"text-align: right;\">\n",
       "      <th></th>\n",
       "      <th>Profession</th>\n",
       "      <th>Make</th>\n",
       "    </tr>\n",
       "  </thead>\n",
       "  <tbody>\n",
       "    <tr>\n",
       "      <th>0</th>\n",
       "      <td>Business</td>\n",
       "      <td>SUV</td>\n",
       "    </tr>\n",
       "    <tr>\n",
       "      <th>1</th>\n",
       "      <td>NaN</td>\n",
       "      <td>NaN</td>\n",
       "    </tr>\n",
       "    <tr>\n",
       "      <th>2</th>\n",
       "      <td>NaN</td>\n",
       "      <td>NaN</td>\n",
       "    </tr>\n",
       "    <tr>\n",
       "      <th>3</th>\n",
       "      <td>NaN</td>\n",
       "      <td>NaN</td>\n",
       "    </tr>\n",
       "    <tr>\n",
       "      <th>4</th>\n",
       "      <td>NaN</td>\n",
       "      <td>NaN</td>\n",
       "    </tr>\n",
       "    <tr>\n",
       "      <th>...</th>\n",
       "      <td>...</td>\n",
       "      <td>...</td>\n",
       "    </tr>\n",
       "    <tr>\n",
       "      <th>1576</th>\n",
       "      <td>NaN</td>\n",
       "      <td>NaN</td>\n",
       "    </tr>\n",
       "    <tr>\n",
       "      <th>1577</th>\n",
       "      <td>Business</td>\n",
       "      <td>Hatchback</td>\n",
       "    </tr>\n",
       "    <tr>\n",
       "      <th>1578</th>\n",
       "      <td>Business</td>\n",
       "      <td>Hatchback</td>\n",
       "    </tr>\n",
       "    <tr>\n",
       "      <th>1579</th>\n",
       "      <td>Business</td>\n",
       "      <td>Hatchback</td>\n",
       "    </tr>\n",
       "    <tr>\n",
       "      <th>1580</th>\n",
       "      <td>NaN</td>\n",
       "      <td>NaN</td>\n",
       "    </tr>\n",
       "  </tbody>\n",
       "</table>\n",
       "<p>1581 rows × 2 columns</p>\n",
       "</div>"
      ],
      "text/plain": [
       "     Profession       Make\n",
       "0      Business        SUV\n",
       "1           NaN        NaN\n",
       "2           NaN        NaN\n",
       "3           NaN        NaN\n",
       "4           NaN        NaN\n",
       "...         ...        ...\n",
       "1576        NaN        NaN\n",
       "1577   Business  Hatchback\n",
       "1578   Business  Hatchback\n",
       "1579   Business  Hatchback\n",
       "1580        NaN        NaN\n",
       "\n",
       "[1581 rows x 2 columns]"
      ]
     },
     "execution_count": 119,
     "metadata": {},
     "output_type": "execute_result"
    }
   ],
   "source": [
    "bsd=a.where(a[\"Profession\"]==\"Business\")\n",
    "bsd"
   ]
  },
  {
   "cell_type": "code",
   "execution_count": 121,
   "id": "5198e885-3cb0-4714-9912-5e56043b448f",
   "metadata": {},
   "outputs": [
    {
     "data": {
      "text/html": [
       "<div>\n",
       "<style scoped>\n",
       "    .dataframe tbody tr th:only-of-type {\n",
       "        vertical-align: middle;\n",
       "    }\n",
       "\n",
       "    .dataframe tbody tr th {\n",
       "        vertical-align: top;\n",
       "    }\n",
       "\n",
       "    .dataframe thead th {\n",
       "        text-align: right;\n",
       "    }\n",
       "</style>\n",
       "<table border=\"1\" class=\"dataframe\">\n",
       "  <thead>\n",
       "    <tr style=\"text-align: right;\">\n",
       "      <th></th>\n",
       "      <th>Profession</th>\n",
       "    </tr>\n",
       "    <tr>\n",
       "      <th>Make</th>\n",
       "      <th></th>\n",
       "    </tr>\n",
       "  </thead>\n",
       "  <tbody>\n",
       "    <tr>\n",
       "      <th>Hatchback</th>\n",
       "      <td>290</td>\n",
       "    </tr>\n",
       "    <tr>\n",
       "      <th>SUV</th>\n",
       "      <td>89</td>\n",
       "    </tr>\n",
       "    <tr>\n",
       "      <th>Sedan</th>\n",
       "      <td>306</td>\n",
       "    </tr>\n",
       "  </tbody>\n",
       "</table>\n",
       "</div>"
      ],
      "text/plain": [
       "           Profession\n",
       "Make                 \n",
       "Hatchback         290\n",
       "SUV                89\n",
       "Sedan             306"
      ]
     },
     "execution_count": 121,
     "metadata": {},
     "output_type": "execute_result"
    }
   ],
   "source": [
    "bsd=bsd.groupby(\"Make\").count().rename(columns={\"Profession\":\"Bussiness\"})\n",
    "\n",
    "bsd"
   ]
  },
  {
   "cell_type": "code",
   "execution_count": 75,
   "id": "c9f5515f-696d-4836-bd42-133e066e4829",
   "metadata": {},
   "outputs": [
    {
     "data": {
      "text/html": [
       "<div>\n",
       "<style scoped>\n",
       "    .dataframe tbody tr th:only-of-type {\n",
       "        vertical-align: middle;\n",
       "    }\n",
       "\n",
       "    .dataframe tbody tr th {\n",
       "        vertical-align: top;\n",
       "    }\n",
       "\n",
       "    .dataframe thead th {\n",
       "        text-align: right;\n",
       "    }\n",
       "</style>\n",
       "<table border=\"1\" class=\"dataframe\">\n",
       "  <thead>\n",
       "    <tr style=\"text-align: right;\">\n",
       "      <th></th>\n",
       "      <th>Profession</th>\n",
       "      <th>Make</th>\n",
       "    </tr>\n",
       "  </thead>\n",
       "  <tbody>\n",
       "    <tr>\n",
       "      <th>1</th>\n",
       "      <td>Salaried</td>\n",
       "      <td>SUV</td>\n",
       "    </tr>\n",
       "    <tr>\n",
       "      <th>2</th>\n",
       "      <td>Salaried</td>\n",
       "      <td>SUV</td>\n",
       "    </tr>\n",
       "    <tr>\n",
       "      <th>3</th>\n",
       "      <td>Salaried</td>\n",
       "      <td>SUV</td>\n",
       "    </tr>\n",
       "    <tr>\n",
       "      <th>4</th>\n",
       "      <td>Salaried</td>\n",
       "      <td>SUV</td>\n",
       "    </tr>\n",
       "    <tr>\n",
       "      <th>5</th>\n",
       "      <td>Salaried</td>\n",
       "      <td>SUV</td>\n",
       "    </tr>\n",
       "    <tr>\n",
       "      <th>...</th>\n",
       "      <td>...</td>\n",
       "      <td>...</td>\n",
       "    </tr>\n",
       "    <tr>\n",
       "      <th>1569</th>\n",
       "      <td>Salaried</td>\n",
       "      <td>Hatchback</td>\n",
       "    </tr>\n",
       "    <tr>\n",
       "      <th>1574</th>\n",
       "      <td>Salaried</td>\n",
       "      <td>Sedan</td>\n",
       "    </tr>\n",
       "    <tr>\n",
       "      <th>1575</th>\n",
       "      <td>Salaried</td>\n",
       "      <td>Hatchback</td>\n",
       "    </tr>\n",
       "    <tr>\n",
       "      <th>1576</th>\n",
       "      <td>Salaried</td>\n",
       "      <td>Hatchback</td>\n",
       "    </tr>\n",
       "    <tr>\n",
       "      <th>1580</th>\n",
       "      <td>Salaried</td>\n",
       "      <td>Hatchback</td>\n",
       "    </tr>\n",
       "  </tbody>\n",
       "</table>\n",
       "<p>896 rows × 2 columns</p>\n",
       "</div>"
      ],
      "text/plain": [
       "     Profession       Make\n",
       "1      Salaried        SUV\n",
       "2      Salaried        SUV\n",
       "3      Salaried        SUV\n",
       "4      Salaried        SUV\n",
       "5      Salaried        SUV\n",
       "...         ...        ...\n",
       "1569   Salaried  Hatchback\n",
       "1574   Salaried      Sedan\n",
       "1575   Salaried  Hatchback\n",
       "1576   Salaried  Hatchback\n",
       "1580   Salaried  Hatchback\n",
       "\n",
       "[896 rows x 2 columns]"
      ]
     },
     "execution_count": 75,
     "metadata": {},
     "output_type": "execute_result"
    }
   ],
   "source": [
    "sal=a.where(a[\"Profession\"]==\"Salaried\").dropna()\n",
    "sal"
   ]
  },
  {
   "cell_type": "code",
   "execution_count": 76,
   "id": "1b42275a-c81e-4eb2-8e93-4b8d797bfc53",
   "metadata": {},
   "outputs": [
    {
     "data": {
      "text/html": [
       "<div>\n",
       "<style scoped>\n",
       "    .dataframe tbody tr th:only-of-type {\n",
       "        vertical-align: middle;\n",
       "    }\n",
       "\n",
       "    .dataframe tbody tr th {\n",
       "        vertical-align: top;\n",
       "    }\n",
       "\n",
       "    .dataframe thead th {\n",
       "        text-align: right;\n",
       "    }\n",
       "</style>\n",
       "<table border=\"1\" class=\"dataframe\">\n",
       "  <thead>\n",
       "    <tr style=\"text-align: right;\">\n",
       "      <th></th>\n",
       "      <th>Salaried</th>\n",
       "    </tr>\n",
       "    <tr>\n",
       "      <th>Make</th>\n",
       "      <th></th>\n",
       "    </tr>\n",
       "  </thead>\n",
       "  <tbody>\n",
       "    <tr>\n",
       "      <th>Hatchback</th>\n",
       "      <td>292</td>\n",
       "    </tr>\n",
       "    <tr>\n",
       "      <th>SUV</th>\n",
       "      <td>208</td>\n",
       "    </tr>\n",
       "    <tr>\n",
       "      <th>Sedan</th>\n",
       "      <td>396</td>\n",
       "    </tr>\n",
       "  </tbody>\n",
       "</table>\n",
       "</div>"
      ],
      "text/plain": [
       "           Salaried\n",
       "Make               \n",
       "Hatchback       292\n",
       "SUV             208\n",
       "Sedan           396"
      ]
     },
     "execution_count": 76,
     "metadata": {},
     "output_type": "execute_result"
    }
   ],
   "source": [
    "sal=sal.groupby(\"Make\").count().rename(columns={\"Profession\":\"Salaried\"})\n",
    "\n",
    "sal"
   ]
  },
  {
   "cell_type": "code",
   "execution_count": 77,
   "id": "51624e10-fede-454a-9671-7ca65c4ceee3",
   "metadata": {},
   "outputs": [
    {
     "data": {
      "text/html": [
       "<div>\n",
       "<style scoped>\n",
       "    .dataframe tbody tr th:only-of-type {\n",
       "        vertical-align: middle;\n",
       "    }\n",
       "\n",
       "    .dataframe tbody tr th {\n",
       "        vertical-align: top;\n",
       "    }\n",
       "\n",
       "    .dataframe thead th {\n",
       "        text-align: right;\n",
       "    }\n",
       "</style>\n",
       "<table border=\"1\" class=\"dataframe\">\n",
       "  <thead>\n",
       "    <tr style=\"text-align: right;\">\n",
       "      <th></th>\n",
       "      <th>Bussiness</th>\n",
       "    </tr>\n",
       "    <tr>\n",
       "      <th>Make</th>\n",
       "      <th></th>\n",
       "    </tr>\n",
       "  </thead>\n",
       "  <tbody>\n",
       "    <tr>\n",
       "      <th>Hatchback</th>\n",
       "      <td>290</td>\n",
       "    </tr>\n",
       "    <tr>\n",
       "      <th>SUV</th>\n",
       "      <td>89</td>\n",
       "    </tr>\n",
       "    <tr>\n",
       "      <th>Sedan</th>\n",
       "      <td>306</td>\n",
       "    </tr>\n",
       "  </tbody>\n",
       "</table>\n",
       "</div>"
      ],
      "text/plain": [
       "           Bussiness\n",
       "Make                \n",
       "Hatchback        290\n",
       "SUV               89\n",
       "Sedan            306"
      ]
     },
     "execution_count": 77,
     "metadata": {},
     "output_type": "execute_result"
    }
   ],
   "source": [
    "bsd"
   ]
  },
  {
   "cell_type": "code",
   "execution_count": 78,
   "id": "c58fe284-7dd0-450e-82f7-9edd396e7fed",
   "metadata": {},
   "outputs": [
    {
     "name": "stderr",
     "output_type": "stream",
     "text": [
      "C:\\Users\\masoo\\AppData\\Local\\Temp\\ipykernel_3896\\1016350044.py:1: FutureWarning: Series.__getitem__ treating keys as positions is deprecated. In a future version, integer keys will always be treated as labels (consistent with DataFrame behavior). To access a value by position, use `ser.iloc[pos]`\n",
      "  suv=[sal.iloc[1][0],bsd.iloc[1][0]]\n",
      "C:\\Users\\masoo\\AppData\\Local\\Temp\\ipykernel_3896\\1016350044.py:2: FutureWarning: Series.__getitem__ treating keys as positions is deprecated. In a future version, integer keys will always be treated as labels (consistent with DataFrame behavior). To access a value by position, use `ser.iloc[pos]`\n",
      "  sed=[sal.iloc[2][0],bsd.iloc[2][0]]\n"
     ]
    }
   ],
   "source": [
    "suv=[sal.iloc[1][0],bsd.iloc[1][0]]\n",
    "sed=[sal.iloc[2][0],bsd.iloc[2][0]]"
   ]
  },
  {
   "cell_type": "code",
   "execution_count": 79,
   "id": "18b6fd97-53d9-4db9-8b1d-a30df6a9b558",
   "metadata": {},
   "outputs": [],
   "source": [
    "df4=pd.DataFrame({\"Suv\":suv,\"Sedan\":sed},index=[\"Salaried\",\"Business\"])"
   ]
  },
  {
   "cell_type": "code",
   "execution_count": 80,
   "id": "e6db2124-b4af-47e2-9910-ab5a51428698",
   "metadata": {},
   "outputs": [
    {
     "data": {
      "text/plain": [
       "<Axes: >"
      ]
     },
     "execution_count": 80,
     "metadata": {},
     "output_type": "execute_result"
    },
    {
     "data": {
      "image/png": "[encoded data removed]",
      "text/plain": [
       "<Figure size 640x480 with 1 Axes>"
      ]
     },
     "metadata": {},
     "output_type": "display_data"
    }
   ],
   "source": [
    "df4.plot.bar()"
   ]
  },
  {
   "cell_type": "code",
   "execution_count": 81,
   "id": "71d5c6f3-0160-44ad-9670-a9f0accf1098",
   "metadata": {},
   "outputs": [
    {
     "data": {
      "text/html": [
       "<div>\n",
       "<style scoped>\n",
       "    .dataframe tbody tr th:only-of-type {\n",
       "        vertical-align: middle;\n",
       "    }\n",
       "\n",
       "    .dataframe tbody tr th {\n",
       "        vertical-align: top;\n",
       "    }\n",
       "\n",
       "    .dataframe thead th {\n",
       "        text-align: right;\n",
       "    }\n",
       "</style>\n",
       "<table border=\"1\" class=\"dataframe\">\n",
       "  <thead>\n",
       "    <tr style=\"text-align: right;\">\n",
       "      <th></th>\n",
       "      <th>Gender</th>\n",
       "      <th>Profession</th>\n",
       "      <th>Make</th>\n",
       "    </tr>\n",
       "  </thead>\n",
       "  <tbody>\n",
       "    <tr>\n",
       "      <th>0</th>\n",
       "      <td>Male</td>\n",
       "      <td>Business</td>\n",
       "      <td>SUV</td>\n",
       "    </tr>\n",
       "    <tr>\n",
       "      <th>1</th>\n",
       "      <td>Female</td>\n",
       "      <td>Salaried</td>\n",
       "      <td>SUV</td>\n",
       "    </tr>\n",
       "    <tr>\n",
       "      <th>2</th>\n",
       "      <td>Female</td>\n",
       "      <td>Salaried</td>\n",
       "      <td>SUV</td>\n",
       "    </tr>\n",
       "    <tr>\n",
       "      <th>3</th>\n",
       "      <td>Female</td>\n",
       "      <td>Salaried</td>\n",
       "      <td>SUV</td>\n",
       "    </tr>\n",
       "    <tr>\n",
       "      <th>4</th>\n",
       "      <td>Male</td>\n",
       "      <td>Salaried</td>\n",
       "      <td>SUV</td>\n",
       "    </tr>\n",
       "    <tr>\n",
       "      <th>...</th>\n",
       "      <td>...</td>\n",
       "      <td>...</td>\n",
       "      <td>...</td>\n",
       "    </tr>\n",
       "    <tr>\n",
       "      <th>1576</th>\n",
       "      <td>Male</td>\n",
       "      <td>Salaried</td>\n",
       "      <td>Hatchback</td>\n",
       "    </tr>\n",
       "    <tr>\n",
       "      <th>1577</th>\n",
       "      <td>Male</td>\n",
       "      <td>Business</td>\n",
       "      <td>Hatchback</td>\n",
       "    </tr>\n",
       "    <tr>\n",
       "      <th>1578</th>\n",
       "      <td>Male</td>\n",
       "      <td>Business</td>\n",
       "      <td>Hatchback</td>\n",
       "    </tr>\n",
       "    <tr>\n",
       "      <th>1579</th>\n",
       "      <td>Male</td>\n",
       "      <td>Business</td>\n",
       "      <td>Hatchback</td>\n",
       "    </tr>\n",
       "    <tr>\n",
       "      <th>1580</th>\n",
       "      <td>Male</td>\n",
       "      <td>Salaried</td>\n",
       "      <td>Hatchback</td>\n",
       "    </tr>\n",
       "  </tbody>\n",
       "</table>\n",
       "<p>1581 rows × 3 columns</p>\n",
       "</div>"
      ],
      "text/plain": [
       "      Gender Profession       Make\n",
       "0       Male   Business        SUV\n",
       "1     Female   Salaried        SUV\n",
       "2     Female   Salaried        SUV\n",
       "3     Female   Salaried        SUV\n",
       "4       Male   Salaried        SUV\n",
       "...      ...        ...        ...\n",
       "1576    Male   Salaried  Hatchback\n",
       "1577    Male   Business  Hatchback\n",
       "1578    Male   Business  Hatchback\n",
       "1579    Male   Business  Hatchback\n",
       "1580    Male   Salaried  Hatchback\n",
       "\n",
       "[1581 rows x 3 columns]"
      ]
     },
     "execution_count": 81,
     "metadata": {},
     "output_type": "execute_result"
    }
   ],
   "source": [
    "# E3- Sheldon Cooper does not believe any of them; he claims that a salaried male is an easier target for a SUV sale over a Sedan Sale.\n",
    "\n",
    "df=sm[[\"Gender\",\"Profession\",\"Make\"]].dropna()\n",
    "df"
   ]
  },
  {
   "cell_type": "code",
   "execution_count": 82,
   "id": "47dcd4ea-2ecb-4b6c-884b-de369a9696c2",
   "metadata": {},
   "outputs": [
    {
     "data": {
      "text/plain": [
       "Gender  Profession  Make     \n",
       "Female  Business    SUV           55\n",
       "                    Sedan         50\n",
       "        Salaried    Hatchback     15\n",
       "                    SUV          118\n",
       "                    Sedan         91\n",
       "Male    Business    Hatchback    290\n",
       "                    SUV           34\n",
       "                    Sedan        256\n",
       "        Salaried    Hatchback    277\n",
       "                    SUV           90\n",
       "                    Sedan        305\n",
       "Name: Make, dtype: int64"
      ]
     },
     "execution_count": 82,
     "metadata": {},
     "output_type": "execute_result"
    }
   ],
   "source": [
    "dff=df.groupby([\"Gender\",\"Profession\",\"Make\"])[\"Make\"].count()\n",
    "\n",
    "dff"
   ]
  },
  {
   "cell_type": "code",
   "execution_count": 83,
   "id": "b582e4b4-fc95-4d85-89d4-6978b598d049",
   "metadata": {},
   "outputs": [
    {
     "data": {
      "text/html": [
       "<div>\n",
       "<style scoped>\n",
       "    .dataframe tbody tr th:only-of-type {\n",
       "        vertical-align: middle;\n",
       "    }\n",
       "\n",
       "    .dataframe tbody tr th {\n",
       "        vertical-align: top;\n",
       "    }\n",
       "\n",
       "    .dataframe thead th {\n",
       "        text-align: right;\n",
       "    }\n",
       "</style>\n",
       "<table border=\"1\" class=\"dataframe\">\n",
       "  <thead>\n",
       "    <tr style=\"text-align: right;\">\n",
       "      <th></th>\n",
       "      <th>Gender</th>\n",
       "      <th>Profession</th>\n",
       "      <th>Make</th>\n",
       "    </tr>\n",
       "  </thead>\n",
       "  <tbody>\n",
       "    <tr>\n",
       "      <th>1</th>\n",
       "      <td>Female</td>\n",
       "      <td>Salaried</td>\n",
       "      <td>SUV</td>\n",
       "    </tr>\n",
       "    <tr>\n",
       "      <th>2</th>\n",
       "      <td>Female</td>\n",
       "      <td>Salaried</td>\n",
       "      <td>SUV</td>\n",
       "    </tr>\n",
       "    <tr>\n",
       "      <th>3</th>\n",
       "      <td>Female</td>\n",
       "      <td>Salaried</td>\n",
       "      <td>SUV</td>\n",
       "    </tr>\n",
       "    <tr>\n",
       "      <th>5</th>\n",
       "      <td>Female</td>\n",
       "      <td>Salaried</td>\n",
       "      <td>SUV</td>\n",
       "    </tr>\n",
       "    <tr>\n",
       "      <th>6</th>\n",
       "      <td>Female</td>\n",
       "      <td>Salaried</td>\n",
       "      <td>SUV</td>\n",
       "    </tr>\n",
       "    <tr>\n",
       "      <th>...</th>\n",
       "      <td>...</td>\n",
       "      <td>...</td>\n",
       "      <td>...</td>\n",
       "    </tr>\n",
       "    <tr>\n",
       "      <th>1350</th>\n",
       "      <td>Female</td>\n",
       "      <td>Salaried</td>\n",
       "      <td>Hatchback</td>\n",
       "    </tr>\n",
       "    <tr>\n",
       "      <th>1389</th>\n",
       "      <td>Female</td>\n",
       "      <td>Salaried</td>\n",
       "      <td>Hatchback</td>\n",
       "    </tr>\n",
       "    <tr>\n",
       "      <th>1503</th>\n",
       "      <td>Female</td>\n",
       "      <td>Salaried</td>\n",
       "      <td>Hatchback</td>\n",
       "    </tr>\n",
       "    <tr>\n",
       "      <th>1518</th>\n",
       "      <td>Female</td>\n",
       "      <td>Salaried</td>\n",
       "      <td>Hatchback</td>\n",
       "    </tr>\n",
       "    <tr>\n",
       "      <th>1536</th>\n",
       "      <td>Female</td>\n",
       "      <td>Salaried</td>\n",
       "      <td>Hatchback</td>\n",
       "    </tr>\n",
       "  </tbody>\n",
       "</table>\n",
       "<p>329 rows × 3 columns</p>\n",
       "</div>"
      ],
      "text/plain": [
       "      Gender Profession       Make\n",
       "1     Female   Salaried        SUV\n",
       "2     Female   Salaried        SUV\n",
       "3     Female   Salaried        SUV\n",
       "5     Female   Salaried        SUV\n",
       "6     Female   Salaried        SUV\n",
       "...      ...        ...        ...\n",
       "1350  Female   Salaried  Hatchback\n",
       "1389  Female   Salaried  Hatchback\n",
       "1503  Female   Salaried  Hatchback\n",
       "1518  Female   Salaried  Hatchback\n",
       "1536  Female   Salaried  Hatchback\n",
       "\n",
       "[329 rows x 3 columns]"
      ]
     },
     "execution_count": 83,
     "metadata": {},
     "output_type": "execute_result"
    }
   ],
   "source": [
    "F=df.where(df[\"Gender\"]==\"Female\").dropna()\n",
    "\n",
    "F"
   ]
  },
  {
   "cell_type": "code",
   "execution_count": 84,
   "id": "202e2c74-5649-4389-8591-f6a6ef821712",
   "metadata": {},
   "outputs": [
    {
     "data": {
      "text/plain": [
       "Gender  Profession  Make     \n",
       "Female  Business    SUV           55\n",
       "                    Sedan         50\n",
       "        Salaried    Hatchback     15\n",
       "                    SUV          118\n",
       "                    Sedan         91\n",
       "Name: Make, dtype: int64"
      ]
     },
     "execution_count": 84,
     "metadata": {},
     "output_type": "execute_result"
    }
   ],
   "source": [
    "F=F.groupby([\"Gender\",\"Profession\",\"Make\"])[\"Make\"].count()\n",
    "\n",
    "F\n"
   ]
  },
  {
   "cell_type": "code",
   "execution_count": 85,
   "id": "cba65bf9-fd9d-4945-bedc-6eedc8c0b875",
   "metadata": {},
   "outputs": [
    {
     "data": {
      "text/html": [
       "<div>\n",
       "<style scoped>\n",
       "    .dataframe tbody tr th:only-of-type {\n",
       "        vertical-align: middle;\n",
       "    }\n",
       "\n",
       "    .dataframe tbody tr th {\n",
       "        vertical-align: top;\n",
       "    }\n",
       "\n",
       "    .dataframe thead th {\n",
       "        text-align: right;\n",
       "    }\n",
       "</style>\n",
       "<table border=\"1\" class=\"dataframe\">\n",
       "  <thead>\n",
       "    <tr style=\"text-align: right;\">\n",
       "      <th></th>\n",
       "      <th>Gender</th>\n",
       "      <th>Profession</th>\n",
       "      <th>Make</th>\n",
       "    </tr>\n",
       "  </thead>\n",
       "  <tbody>\n",
       "    <tr>\n",
       "      <th>0</th>\n",
       "      <td>Male</td>\n",
       "      <td>Business</td>\n",
       "      <td>SUV</td>\n",
       "    </tr>\n",
       "    <tr>\n",
       "      <th>4</th>\n",
       "      <td>Male</td>\n",
       "      <td>Salaried</td>\n",
       "      <td>SUV</td>\n",
       "    </tr>\n",
       "    <tr>\n",
       "      <th>7</th>\n",
       "      <td>Male</td>\n",
       "      <td>Salaried</td>\n",
       "      <td>SUV</td>\n",
       "    </tr>\n",
       "    <tr>\n",
       "      <th>8</th>\n",
       "      <td>Male</td>\n",
       "      <td>Salaried</td>\n",
       "      <td>SUV</td>\n",
       "    </tr>\n",
       "    <tr>\n",
       "      <th>9</th>\n",
       "      <td>Male</td>\n",
       "      <td>Salaried</td>\n",
       "      <td>SUV</td>\n",
       "    </tr>\n",
       "    <tr>\n",
       "      <th>...</th>\n",
       "      <td>...</td>\n",
       "      <td>...</td>\n",
       "      <td>...</td>\n",
       "    </tr>\n",
       "    <tr>\n",
       "      <th>1576</th>\n",
       "      <td>Male</td>\n",
       "      <td>Salaried</td>\n",
       "      <td>Hatchback</td>\n",
       "    </tr>\n",
       "    <tr>\n",
       "      <th>1577</th>\n",
       "      <td>Male</td>\n",
       "      <td>Business</td>\n",
       "      <td>Hatchback</td>\n",
       "    </tr>\n",
       "    <tr>\n",
       "      <th>1578</th>\n",
       "      <td>Male</td>\n",
       "      <td>Business</td>\n",
       "      <td>Hatchback</td>\n",
       "    </tr>\n",
       "    <tr>\n",
       "      <th>1579</th>\n",
       "      <td>Male</td>\n",
       "      <td>Business</td>\n",
       "      <td>Hatchback</td>\n",
       "    </tr>\n",
       "    <tr>\n",
       "      <th>1580</th>\n",
       "      <td>Male</td>\n",
       "      <td>Salaried</td>\n",
       "      <td>Hatchback</td>\n",
       "    </tr>\n",
       "  </tbody>\n",
       "</table>\n",
       "<p>1252 rows × 3 columns</p>\n",
       "</div>"
      ],
      "text/plain": [
       "     Gender Profession       Make\n",
       "0      Male   Business        SUV\n",
       "4      Male   Salaried        SUV\n",
       "7      Male   Salaried        SUV\n",
       "8      Male   Salaried        SUV\n",
       "9      Male   Salaried        SUV\n",
       "...     ...        ...        ...\n",
       "1576   Male   Salaried  Hatchback\n",
       "1577   Male   Business  Hatchback\n",
       "1578   Male   Business  Hatchback\n",
       "1579   Male   Business  Hatchback\n",
       "1580   Male   Salaried  Hatchback\n",
       "\n",
       "[1252 rows x 3 columns]"
      ]
     },
     "execution_count": 85,
     "metadata": {},
     "output_type": "execute_result"
    }
   ],
   "source": [
    "M=df.where(df[\"Gender\"]==\"Male\").dropna()\n",
    "\n",
    "M"
   ]
  },
  {
   "cell_type": "code",
   "execution_count": 86,
   "id": "28629267-e836-4727-b7c8-55fc3878b2bf",
   "metadata": {},
   "outputs": [
    {
     "data": {
      "text/plain": [
       "Gender  Profession  Make     \n",
       "Male    Business    Hatchback    290\n",
       "                    SUV           34\n",
       "                    Sedan        256\n",
       "        Salaried    Hatchback    277\n",
       "                    SUV           90\n",
       "                    Sedan        305\n",
       "Name: Make, dtype: int64"
      ]
     },
     "execution_count": 86,
     "metadata": {},
     "output_type": "execute_result"
    }
   ],
   "source": [
    "M=M.groupby([\"Gender\",\"Profession\",\"Make\"])[\"Make\"].count()\n",
    "\n",
    "M"
   ]
  },
  {
   "cell_type": "code",
   "execution_count": 87,
   "id": "290d71ef-8d6d-4e3d-b6ae-1e9a0a401b16",
   "metadata": {},
   "outputs": [
    {
     "data": {
      "text/plain": [
       "Gender  Profession  Make     \n",
       "Female  Business    SUV           55\n",
       "                    Sedan         50\n",
       "        Salaried    Hatchback     15\n",
       "                    SUV          118\n",
       "                    Sedan         91\n",
       "Name: Make, dtype: int64"
      ]
     },
     "execution_count": 87,
     "metadata": {},
     "output_type": "execute_result"
    }
   ],
   "source": [
    "F"
   ]
  },
  {
   "cell_type": "code",
   "execution_count": 88,
   "id": "8a3d54ee-c4ae-4d09-9f98-026967b977d7",
   "metadata": {},
   "outputs": [
    {
     "data": {
      "text/plain": [
       "Gender  Profession  Make     \n",
       "Male    Business    Hatchback    290\n",
       "                    SUV           34\n",
       "                    Sedan        256\n",
       "        Salaried    Hatchback    277\n",
       "                    SUV           90\n",
       "                    Sedan        305\n",
       "Name: Make, dtype: int64"
      ]
     },
     "execution_count": 88,
     "metadata": {},
     "output_type": "execute_result"
    }
   ],
   "source": [
    "M"
   ]
  },
  {
   "cell_type": "markdown",
   "id": "e03d499d-3a3a-4723-9a99-0813d3800ab0",
   "metadata": {},
   "source": [
    "## From the given data, comment on the amount spent on purchasing automobiles across the following categories. Comment on how a Business can utilize the results from this exercise. Give justification along with presenting metrics/charts used for arriving at the conclusions. Give justification along with presenting metrics/charts used for arriving at the conclusions."
   ]
  },
  {
   "cell_type": "code",
   "execution_count": 89,
   "id": "cc75dcc3-ac81-4e43-9195-44f8d40a9719",
   "metadata": {},
   "outputs": [
    {
     "data": {
      "text/html": [
       "<div>\n",
       "<style scoped>\n",
       "    .dataframe tbody tr th:only-of-type {\n",
       "        vertical-align: middle;\n",
       "    }\n",
       "\n",
       "    .dataframe tbody tr th {\n",
       "        vertical-align: top;\n",
       "    }\n",
       "\n",
       "    .dataframe thead th {\n",
       "        text-align: right;\n",
       "    }\n",
       "</style>\n",
       "<table border=\"1\" class=\"dataframe\">\n",
       "  <thead>\n",
       "    <tr style=\"text-align: right;\">\n",
       "      <th></th>\n",
       "      <th>Gender</th>\n",
       "      <th>Make</th>\n",
       "      <th>Price</th>\n",
       "    </tr>\n",
       "  </thead>\n",
       "  <tbody>\n",
       "    <tr>\n",
       "      <th>0</th>\n",
       "      <td>Male</td>\n",
       "      <td>SUV</td>\n",
       "      <td>61000</td>\n",
       "    </tr>\n",
       "    <tr>\n",
       "      <th>1</th>\n",
       "      <td>Female</td>\n",
       "      <td>SUV</td>\n",
       "      <td>61000</td>\n",
       "    </tr>\n",
       "    <tr>\n",
       "      <th>2</th>\n",
       "      <td>Female</td>\n",
       "      <td>SUV</td>\n",
       "      <td>57000</td>\n",
       "    </tr>\n",
       "    <tr>\n",
       "      <th>3</th>\n",
       "      <td>Female</td>\n",
       "      <td>SUV</td>\n",
       "      <td>61000</td>\n",
       "    </tr>\n",
       "    <tr>\n",
       "      <th>4</th>\n",
       "      <td>Male</td>\n",
       "      <td>SUV</td>\n",
       "      <td>57000</td>\n",
       "    </tr>\n",
       "    <tr>\n",
       "      <th>...</th>\n",
       "      <td>...</td>\n",
       "      <td>...</td>\n",
       "      <td>...</td>\n",
       "    </tr>\n",
       "    <tr>\n",
       "      <th>1576</th>\n",
       "      <td>Male</td>\n",
       "      <td>Hatchback</td>\n",
       "      <td>27000</td>\n",
       "    </tr>\n",
       "    <tr>\n",
       "      <th>1577</th>\n",
       "      <td>Male</td>\n",
       "      <td>Hatchback</td>\n",
       "      <td>31000</td>\n",
       "    </tr>\n",
       "    <tr>\n",
       "      <th>1578</th>\n",
       "      <td>Male</td>\n",
       "      <td>Hatchback</td>\n",
       "      <td>30000</td>\n",
       "    </tr>\n",
       "    <tr>\n",
       "      <th>1579</th>\n",
       "      <td>Male</td>\n",
       "      <td>Hatchback</td>\n",
       "      <td>24000</td>\n",
       "    </tr>\n",
       "    <tr>\n",
       "      <th>1580</th>\n",
       "      <td>Male</td>\n",
       "      <td>Hatchback</td>\n",
       "      <td>31000</td>\n",
       "    </tr>\n",
       "  </tbody>\n",
       "</table>\n",
       "<p>1581 rows × 3 columns</p>\n",
       "</div>"
      ],
      "text/plain": [
       "      Gender       Make  Price\n",
       "0       Male        SUV  61000\n",
       "1     Female        SUV  61000\n",
       "2     Female        SUV  57000\n",
       "3     Female        SUV  61000\n",
       "4       Male        SUV  57000\n",
       "...      ...        ...    ...\n",
       "1576    Male  Hatchback  27000\n",
       "1577    Male  Hatchback  31000\n",
       "1578    Male  Hatchback  30000\n",
       "1579    Male  Hatchback  24000\n",
       "1580    Male  Hatchback  31000\n",
       "\n",
       "[1581 rows x 3 columns]"
      ]
     },
     "execution_count": 89,
     "metadata": {},
     "output_type": "execute_result"
    }
   ],
   "source": [
    "## F1-Gender \n",
    "sm1=sm[[\"Gender\",\"Make\",\"Price\"]].dropna()\n",
    "sm1"
   ]
  },
  {
   "cell_type": "code",
   "execution_count": 90,
   "id": "8c5025de-500b-463a-910e-3dc8b7b6a9d9",
   "metadata": {},
   "outputs": [
    {
     "data": {
      "text/plain": [
       "Gender  Make     \n",
       "Female  Hatchback      412000\n",
       "        SUV           9252000\n",
       "        Sedan         6031000\n",
       "Male    Hatchback    14996000\n",
       "        SUV           7328000\n",
       "        Sedan        18261000\n",
       "Name: Price, dtype: int64"
      ]
     },
     "execution_count": 90,
     "metadata": {},
     "output_type": "execute_result"
    }
   ],
   "source": [
    "sm1.groupby([\"Gender\",\"Make\"])[\"Price\"].sum()\n"
   ]
  },
  {
   "cell_type": "code",
   "execution_count": 91,
   "id": "8b34a37f-16d7-4075-85a5-195bde9074e7",
   "metadata": {},
   "outputs": [],
   "source": [
    "## F1- Gender (another way)"
   ]
  },
  {
   "cell_type": "code",
   "execution_count": 92,
   "id": "d4ea83b7-e433-4792-9f30-788c29d9ca17",
   "metadata": {},
   "outputs": [
    {
     "data": {
      "text/html": [
       "<div>\n",
       "<style scoped>\n",
       "    .dataframe tbody tr th:only-of-type {\n",
       "        vertical-align: middle;\n",
       "    }\n",
       "\n",
       "    .dataframe tbody tr th {\n",
       "        vertical-align: top;\n",
       "    }\n",
       "\n",
       "    .dataframe thead th {\n",
       "        text-align: right;\n",
       "    }\n",
       "</style>\n",
       "<table border=\"1\" class=\"dataframe\">\n",
       "  <thead>\n",
       "    <tr style=\"text-align: right;\">\n",
       "      <th></th>\n",
       "      <th>Gender</th>\n",
       "      <th>Make</th>\n",
       "    </tr>\n",
       "  </thead>\n",
       "  <tbody>\n",
       "    <tr>\n",
       "      <th>0</th>\n",
       "      <td>Male</td>\n",
       "      <td>SUV</td>\n",
       "    </tr>\n",
       "    <tr>\n",
       "      <th>1</th>\n",
       "      <td>Female</td>\n",
       "      <td>SUV</td>\n",
       "    </tr>\n",
       "    <tr>\n",
       "      <th>2</th>\n",
       "      <td>Female</td>\n",
       "      <td>SUV</td>\n",
       "    </tr>\n",
       "    <tr>\n",
       "      <th>3</th>\n",
       "      <td>Female</td>\n",
       "      <td>SUV</td>\n",
       "    </tr>\n",
       "    <tr>\n",
       "      <th>4</th>\n",
       "      <td>Male</td>\n",
       "      <td>SUV</td>\n",
       "    </tr>\n",
       "    <tr>\n",
       "      <th>...</th>\n",
       "      <td>...</td>\n",
       "      <td>...</td>\n",
       "    </tr>\n",
       "    <tr>\n",
       "      <th>1576</th>\n",
       "      <td>Male</td>\n",
       "      <td>Hatchback</td>\n",
       "    </tr>\n",
       "    <tr>\n",
       "      <th>1577</th>\n",
       "      <td>Male</td>\n",
       "      <td>Hatchback</td>\n",
       "    </tr>\n",
       "    <tr>\n",
       "      <th>1578</th>\n",
       "      <td>Male</td>\n",
       "      <td>Hatchback</td>\n",
       "    </tr>\n",
       "    <tr>\n",
       "      <th>1579</th>\n",
       "      <td>Male</td>\n",
       "      <td>Hatchback</td>\n",
       "    </tr>\n",
       "    <tr>\n",
       "      <th>1580</th>\n",
       "      <td>Male</td>\n",
       "      <td>Hatchback</td>\n",
       "    </tr>\n",
       "  </tbody>\n",
       "</table>\n",
       "<p>1581 rows × 2 columns</p>\n",
       "</div>"
      ],
      "text/plain": [
       "      Gender       Make\n",
       "0       Male        SUV\n",
       "1     Female        SUV\n",
       "2     Female        SUV\n",
       "3     Female        SUV\n",
       "4       Male        SUV\n",
       "...      ...        ...\n",
       "1576    Male  Hatchback\n",
       "1577    Male  Hatchback\n",
       "1578    Male  Hatchback\n",
       "1579    Male  Hatchback\n",
       "1580    Male  Hatchback\n",
       "\n",
       "[1581 rows x 2 columns]"
      ]
     },
     "execution_count": 92,
     "metadata": {},
     "output_type": "execute_result"
    }
   ],
   "source": [
    "G=sm[[\"Gender\",\"Make\"]].dropna()\n",
    "\n",
    "G"
   ]
  },
  {
   "cell_type": "code",
   "execution_count": 93,
   "id": "4481b402-3eb9-415b-bc82-ccfc8015963d",
   "metadata": {},
   "outputs": [
    {
     "data": {
      "text/plain": [
       "Gender  Make     \n",
       "Female  Hatchback     15\n",
       "        SUV          173\n",
       "        Sedan        141\n",
       "Male    Hatchback    567\n",
       "        SUV          124\n",
       "        Sedan        561\n",
       "Name: Make, dtype: int64"
      ]
     },
     "execution_count": 93,
     "metadata": {},
     "output_type": "execute_result"
    }
   ],
   "source": [
    "sm.groupby([\"Gender\",\"Make\"])[\"Make\"].count()"
   ]
  },
  {
   "cell_type": "code",
   "execution_count": 94,
   "id": "44780041-036d-41b2-a99d-c5f8bef80190",
   "metadata": {},
   "outputs": [
    {
     "data": {
      "text/html": [
       "<div>\n",
       "<style scoped>\n",
       "    .dataframe tbody tr th:only-of-type {\n",
       "        vertical-align: middle;\n",
       "    }\n",
       "\n",
       "    .dataframe tbody tr th {\n",
       "        vertical-align: top;\n",
       "    }\n",
       "\n",
       "    .dataframe thead th {\n",
       "        text-align: right;\n",
       "    }\n",
       "</style>\n",
       "<table border=\"1\" class=\"dataframe\">\n",
       "  <thead>\n",
       "    <tr style=\"text-align: right;\">\n",
       "      <th></th>\n",
       "      <th>Gender</th>\n",
       "      <th>Make</th>\n",
       "    </tr>\n",
       "  </thead>\n",
       "  <tbody>\n",
       "    <tr>\n",
       "      <th>0</th>\n",
       "      <td>Male</td>\n",
       "      <td>SUV</td>\n",
       "    </tr>\n",
       "    <tr>\n",
       "      <th>4</th>\n",
       "      <td>Male</td>\n",
       "      <td>SUV</td>\n",
       "    </tr>\n",
       "    <tr>\n",
       "      <th>7</th>\n",
       "      <td>Male</td>\n",
       "      <td>SUV</td>\n",
       "    </tr>\n",
       "    <tr>\n",
       "      <th>8</th>\n",
       "      <td>Male</td>\n",
       "      <td>SUV</td>\n",
       "    </tr>\n",
       "    <tr>\n",
       "      <th>9</th>\n",
       "      <td>Male</td>\n",
       "      <td>SUV</td>\n",
       "    </tr>\n",
       "    <tr>\n",
       "      <th>...</th>\n",
       "      <td>...</td>\n",
       "      <td>...</td>\n",
       "    </tr>\n",
       "    <tr>\n",
       "      <th>1576</th>\n",
       "      <td>Male</td>\n",
       "      <td>Hatchback</td>\n",
       "    </tr>\n",
       "    <tr>\n",
       "      <th>1577</th>\n",
       "      <td>Male</td>\n",
       "      <td>Hatchback</td>\n",
       "    </tr>\n",
       "    <tr>\n",
       "      <th>1578</th>\n",
       "      <td>Male</td>\n",
       "      <td>Hatchback</td>\n",
       "    </tr>\n",
       "    <tr>\n",
       "      <th>1579</th>\n",
       "      <td>Male</td>\n",
       "      <td>Hatchback</td>\n",
       "    </tr>\n",
       "    <tr>\n",
       "      <th>1580</th>\n",
       "      <td>Male</td>\n",
       "      <td>Hatchback</td>\n",
       "    </tr>\n",
       "  </tbody>\n",
       "</table>\n",
       "<p>1252 rows × 2 columns</p>\n",
       "</div>"
      ],
      "text/plain": [
       "     Gender       Make\n",
       "0      Male        SUV\n",
       "4      Male        SUV\n",
       "7      Male        SUV\n",
       "8      Male        SUV\n",
       "9      Male        SUV\n",
       "...     ...        ...\n",
       "1576   Male  Hatchback\n",
       "1577   Male  Hatchback\n",
       "1578   Male  Hatchback\n",
       "1579   Male  Hatchback\n",
       "1580   Male  Hatchback\n",
       "\n",
       "[1252 rows x 2 columns]"
      ]
     },
     "execution_count": 94,
     "metadata": {},
     "output_type": "execute_result"
    }
   ],
   "source": [
    "GM=G.where(G[\"Gender\"]==\"Male\").dropna()\n",
    "\n",
    "GM"
   ]
  },
  {
   "cell_type": "code",
   "execution_count": 95,
   "id": "f352c5b3-9ba4-4629-9940-076661c493c2",
   "metadata": {},
   "outputs": [
    {
     "data": {
      "text/html": [
       "<div>\n",
       "<style scoped>\n",
       "    .dataframe tbody tr th:only-of-type {\n",
       "        vertical-align: middle;\n",
       "    }\n",
       "\n",
       "    .dataframe tbody tr th {\n",
       "        vertical-align: top;\n",
       "    }\n",
       "\n",
       "    .dataframe thead th {\n",
       "        text-align: right;\n",
       "    }\n",
       "</style>\n",
       "<table border=\"1\" class=\"dataframe\">\n",
       "  <thead>\n",
       "    <tr style=\"text-align: right;\">\n",
       "      <th></th>\n",
       "      <th>Male</th>\n",
       "    </tr>\n",
       "    <tr>\n",
       "      <th>Make</th>\n",
       "      <th></th>\n",
       "    </tr>\n",
       "  </thead>\n",
       "  <tbody>\n",
       "    <tr>\n",
       "      <th>Hatchback</th>\n",
       "      <td>567</td>\n",
       "    </tr>\n",
       "    <tr>\n",
       "      <th>SUV</th>\n",
       "      <td>124</td>\n",
       "    </tr>\n",
       "    <tr>\n",
       "      <th>Sedan</th>\n",
       "      <td>561</td>\n",
       "    </tr>\n",
       "  </tbody>\n",
       "</table>\n",
       "</div>"
      ],
      "text/plain": [
       "           Male\n",
       "Make           \n",
       "Hatchback   567\n",
       "SUV         124\n",
       "Sedan       561"
      ]
     },
     "execution_count": 95,
     "metadata": {},
     "output_type": "execute_result"
    }
   ],
   "source": [
    "GM=GM.groupby(\"Make\").count().rename(columns={\"Gender\":\"Male\"})\n",
    "\n",
    "GM"
   ]
  },
  {
   "cell_type": "code",
   "execution_count": 96,
   "id": "b420609c-8dac-484c-bbbf-2dacf45ace88",
   "metadata": {},
   "outputs": [
    {
     "data": {
      "text/html": [
       "<div>\n",
       "<style scoped>\n",
       "    .dataframe tbody tr th:only-of-type {\n",
       "        vertical-align: middle;\n",
       "    }\n",
       "\n",
       "    .dataframe tbody tr th {\n",
       "        vertical-align: top;\n",
       "    }\n",
       "\n",
       "    .dataframe thead th {\n",
       "        text-align: right;\n",
       "    }\n",
       "</style>\n",
       "<table border=\"1\" class=\"dataframe\">\n",
       "  <thead>\n",
       "    <tr style=\"text-align: right;\">\n",
       "      <th></th>\n",
       "      <th>Gender</th>\n",
       "      <th>Make</th>\n",
       "    </tr>\n",
       "  </thead>\n",
       "  <tbody>\n",
       "    <tr>\n",
       "      <th>1</th>\n",
       "      <td>Female</td>\n",
       "      <td>SUV</td>\n",
       "    </tr>\n",
       "    <tr>\n",
       "      <th>2</th>\n",
       "      <td>Female</td>\n",
       "      <td>SUV</td>\n",
       "    </tr>\n",
       "    <tr>\n",
       "      <th>3</th>\n",
       "      <td>Female</td>\n",
       "      <td>SUV</td>\n",
       "    </tr>\n",
       "    <tr>\n",
       "      <th>5</th>\n",
       "      <td>Female</td>\n",
       "      <td>SUV</td>\n",
       "    </tr>\n",
       "    <tr>\n",
       "      <th>6</th>\n",
       "      <td>Female</td>\n",
       "      <td>SUV</td>\n",
       "    </tr>\n",
       "    <tr>\n",
       "      <th>...</th>\n",
       "      <td>...</td>\n",
       "      <td>...</td>\n",
       "    </tr>\n",
       "    <tr>\n",
       "      <th>1350</th>\n",
       "      <td>Female</td>\n",
       "      <td>Hatchback</td>\n",
       "    </tr>\n",
       "    <tr>\n",
       "      <th>1389</th>\n",
       "      <td>Female</td>\n",
       "      <td>Hatchback</td>\n",
       "    </tr>\n",
       "    <tr>\n",
       "      <th>1503</th>\n",
       "      <td>Female</td>\n",
       "      <td>Hatchback</td>\n",
       "    </tr>\n",
       "    <tr>\n",
       "      <th>1518</th>\n",
       "      <td>Female</td>\n",
       "      <td>Hatchback</td>\n",
       "    </tr>\n",
       "    <tr>\n",
       "      <th>1536</th>\n",
       "      <td>Female</td>\n",
       "      <td>Hatchback</td>\n",
       "    </tr>\n",
       "  </tbody>\n",
       "</table>\n",
       "<p>329 rows × 2 columns</p>\n",
       "</div>"
      ],
      "text/plain": [
       "      Gender       Make\n",
       "1     Female        SUV\n",
       "2     Female        SUV\n",
       "3     Female        SUV\n",
       "5     Female        SUV\n",
       "6     Female        SUV\n",
       "...      ...        ...\n",
       "1350  Female  Hatchback\n",
       "1389  Female  Hatchback\n",
       "1503  Female  Hatchback\n",
       "1518  Female  Hatchback\n",
       "1536  Female  Hatchback\n",
       "\n",
       "[329 rows x 2 columns]"
      ]
     },
     "execution_count": 96,
     "metadata": {},
     "output_type": "execute_result"
    }
   ],
   "source": [
    "GF=G.where(G[\"Gender\"]==\"Female\").dropna()\n",
    "\n",
    "GF"
   ]
  },
  {
   "cell_type": "code",
   "execution_count": 97,
   "id": "5ab1aea8-2739-4c52-9b76-e8f5823a8455",
   "metadata": {},
   "outputs": [
    {
     "data": {
      "text/html": [
       "<div>\n",
       "<style scoped>\n",
       "    .dataframe tbody tr th:only-of-type {\n",
       "        vertical-align: middle;\n",
       "    }\n",
       "\n",
       "    .dataframe tbody tr th {\n",
       "        vertical-align: top;\n",
       "    }\n",
       "\n",
       "    .dataframe thead th {\n",
       "        text-align: right;\n",
       "    }\n",
       "</style>\n",
       "<table border=\"1\" class=\"dataframe\">\n",
       "  <thead>\n",
       "    <tr style=\"text-align: right;\">\n",
       "      <th></th>\n",
       "      <th>Female</th>\n",
       "    </tr>\n",
       "    <tr>\n",
       "      <th>Make</th>\n",
       "      <th></th>\n",
       "    </tr>\n",
       "  </thead>\n",
       "  <tbody>\n",
       "    <tr>\n",
       "      <th>Hatchback</th>\n",
       "      <td>15</td>\n",
       "    </tr>\n",
       "    <tr>\n",
       "      <th>SUV</th>\n",
       "      <td>173</td>\n",
       "    </tr>\n",
       "    <tr>\n",
       "      <th>Sedan</th>\n",
       "      <td>141</td>\n",
       "    </tr>\n",
       "  </tbody>\n",
       "</table>\n",
       "</div>"
      ],
      "text/plain": [
       "           Female\n",
       "Make             \n",
       "Hatchback      15\n",
       "SUV           173\n",
       "Sedan         141"
      ]
     },
     "execution_count": 97,
     "metadata": {},
     "output_type": "execute_result"
    }
   ],
   "source": [
    "GF=GF.groupby(\"Make\").count().rename(columns={\"Gender\":\"Female\"})\n",
    "\n",
    "GF"
   ]
  },
  {
   "cell_type": "code",
   "execution_count": 98,
   "id": "782b0120-dd2b-4d2f-be7a-6de2a3ed4a1a",
   "metadata": {},
   "outputs": [
    {
     "name": "stderr",
     "output_type": "stream",
     "text": [
      "C:\\Users\\masoo\\AppData\\Local\\Temp\\ipykernel_3896\\2929009610.py:1: FutureWarning: Series.__getitem__ treating keys as positions is deprecated. In a future version, integer keys will always be treated as labels (consistent with DataFrame behavior). To access a value by position, use `ser.iloc[pos]`\n",
      "  Hat=[GM.iloc[0][0],GF.iloc[0][0]]\n",
      "C:\\Users\\masoo\\AppData\\Local\\Temp\\ipykernel_3896\\2929009610.py:2: FutureWarning: Series.__getitem__ treating keys as positions is deprecated. In a future version, integer keys will always be treated as labels (consistent with DataFrame behavior). To access a value by position, use `ser.iloc[pos]`\n",
      "  Suv=[GM.iloc[1][0],GF.iloc[1][0]]\n",
      "C:\\Users\\masoo\\AppData\\Local\\Temp\\ipykernel_3896\\2929009610.py:3: FutureWarning: Series.__getitem__ treating keys as positions is deprecated. In a future version, integer keys will always be treated as labels (consistent with DataFrame behavior). To access a value by position, use `ser.iloc[pos]`\n",
      "  Sed=[GM.iloc[2][0],GF.iloc[2][0]]\n"
     ]
    }
   ],
   "source": [
    "Hat=[GM.iloc[0][0],GF.iloc[0][0]]\n",
    "Suv=[GM.iloc[1][0],GF.iloc[1][0]]\n",
    "Sed=[GM.iloc[2][0],GF.iloc[2][0]]"
   ]
  },
  {
   "cell_type": "code",
   "execution_count": 99,
   "id": "81f92e3b-19d7-4344-b88c-8b7187e28a4b",
   "metadata": {},
   "outputs": [],
   "source": [
    "dfg=pd.DataFrame({\"Hacthback\":Hat,\"SUV\":Suv,\"Sedan\":Sed},index=[\"Male\",\"Female\"]).T"
   ]
  },
  {
   "cell_type": "code",
   "execution_count": 100,
   "id": "74ed6e6b-84d7-4d32-b819-010d0cb86036",
   "metadata": {},
   "outputs": [
    {
     "data": {
      "text/plain": [
       "<Axes: >"
      ]
     },
     "execution_count": 100,
     "metadata": {},
     "output_type": "execute_result"
    },
    {
     "data": {
      "image/png": "[encoded data removed]",
      "text/plain": [
       "<Figure size 640x480 with 1 Axes>"
      ]
     },
     "metadata": {},
     "output_type": "display_data"
    }
   ],
   "source": [
    "dfg.plot.bar()"
   ]
  },
  {
   "cell_type": "markdown",
   "id": "57713a39-b2cb-4ec8-8868-1d59920bbf2b",
   "metadata": {},
   "source": [
    " ## F2- Personal Loan "
   ]
  },
  {
   "cell_type": "code",
   "execution_count": 101,
   "id": "30b1cad8-b0f8-44b2-8980-e357d7ffc6c4",
   "metadata": {},
   "outputs": [
    {
     "data": {
      "text/html": [
       "<div>\n",
       "<style scoped>\n",
       "    .dataframe tbody tr th:only-of-type {\n",
       "        vertical-align: middle;\n",
       "    }\n",
       "\n",
       "    .dataframe tbody tr th {\n",
       "        vertical-align: top;\n",
       "    }\n",
       "\n",
       "    .dataframe thead th {\n",
       "        text-align: right;\n",
       "    }\n",
       "</style>\n",
       "<table border=\"1\" class=\"dataframe\">\n",
       "  <thead>\n",
       "    <tr style=\"text-align: right;\">\n",
       "      <th></th>\n",
       "      <th>Personal_loan</th>\n",
       "      <th>Make</th>\n",
       "      <th>Price</th>\n",
       "    </tr>\n",
       "  </thead>\n",
       "  <tbody>\n",
       "    <tr>\n",
       "      <th>0</th>\n",
       "      <td>No</td>\n",
       "      <td>SUV</td>\n",
       "      <td>61000</td>\n",
       "    </tr>\n",
       "    <tr>\n",
       "      <th>1</th>\n",
       "      <td>Yes</td>\n",
       "      <td>SUV</td>\n",
       "      <td>61000</td>\n",
       "    </tr>\n",
       "    <tr>\n",
       "      <th>2</th>\n",
       "      <td>No</td>\n",
       "      <td>SUV</td>\n",
       "      <td>57000</td>\n",
       "    </tr>\n",
       "    <tr>\n",
       "      <th>3</th>\n",
       "      <td>Yes</td>\n",
       "      <td>SUV</td>\n",
       "      <td>61000</td>\n",
       "    </tr>\n",
       "    <tr>\n",
       "      <th>4</th>\n",
       "      <td>No</td>\n",
       "      <td>SUV</td>\n",
       "      <td>57000</td>\n",
       "    </tr>\n",
       "    <tr>\n",
       "      <th>...</th>\n",
       "      <td>...</td>\n",
       "      <td>...</td>\n",
       "      <td>...</td>\n",
       "    </tr>\n",
       "    <tr>\n",
       "      <th>1576</th>\n",
       "      <td>No</td>\n",
       "      <td>Hatchback</td>\n",
       "      <td>27000</td>\n",
       "    </tr>\n",
       "    <tr>\n",
       "      <th>1577</th>\n",
       "      <td>No</td>\n",
       "      <td>Hatchback</td>\n",
       "      <td>31000</td>\n",
       "    </tr>\n",
       "    <tr>\n",
       "      <th>1578</th>\n",
       "      <td>No</td>\n",
       "      <td>Hatchback</td>\n",
       "      <td>30000</td>\n",
       "    </tr>\n",
       "    <tr>\n",
       "      <th>1579</th>\n",
       "      <td>Yes</td>\n",
       "      <td>Hatchback</td>\n",
       "      <td>24000</td>\n",
       "    </tr>\n",
       "    <tr>\n",
       "      <th>1580</th>\n",
       "      <td>No</td>\n",
       "      <td>Hatchback</td>\n",
       "      <td>31000</td>\n",
       "    </tr>\n",
       "  </tbody>\n",
       "</table>\n",
       "<p>1581 rows × 3 columns</p>\n",
       "</div>"
      ],
      "text/plain": [
       "     Personal_loan       Make  Price\n",
       "0               No        SUV  61000\n",
       "1              Yes        SUV  61000\n",
       "2               No        SUV  57000\n",
       "3              Yes        SUV  61000\n",
       "4               No        SUV  57000\n",
       "...            ...        ...    ...\n",
       "1576            No  Hatchback  27000\n",
       "1577            No  Hatchback  31000\n",
       "1578            No  Hatchback  30000\n",
       "1579           Yes  Hatchback  24000\n",
       "1580            No  Hatchback  31000\n",
       "\n",
       "[1581 rows x 3 columns]"
      ]
     },
     "execution_count": 101,
     "metadata": {},
     "output_type": "execute_result"
    }
   ],
   "source": [
    "sm2=sm[[\"Personal_loan\",\"Make\",\"Price\"]].dropna()\n",
    "sm2"
   ]
  },
  {
   "cell_type": "code",
   "execution_count": 102,
   "id": "2fc3ffe7-e9e2-45dd-9dfb-ad294e22982c",
   "metadata": {},
   "outputs": [
    {
     "data": {
      "text/plain": [
       "Personal_loan  Make     \n",
       "No             Hatchback     7765000\n",
       "               SUV          10373000\n",
       "               Sedan        10852000\n",
       "Yes            Hatchback     7643000\n",
       "               SUV           6207000\n",
       "               Sedan        13440000\n",
       "Name: Price, dtype: int64"
      ]
     },
     "execution_count": 102,
     "metadata": {},
     "output_type": "execute_result"
    }
   ],
   "source": [
    "sm2.groupby([\"Personal_loan\",\"Make\"])[\"Price\"].sum()"
   ]
  },
  {
   "cell_type": "code",
   "execution_count": null,
   "id": "b4871d58-c8df-4613-af46-4028f9bf0133",
   "metadata": {},
   "outputs": [],
   "source": []
  },
  {
   "cell_type": "code",
   "execution_count": 103,
   "id": "83c916d7-e504-43f1-a1c4-04b3eb483c0f",
   "metadata": {},
   "outputs": [],
   "source": [
    "## F2- Profession (extra)"
   ]
  },
  {
   "cell_type": "code",
   "execution_count": 104,
   "id": "f29a3ff6-2a04-4ee8-a8bf-83d77737d74c",
   "metadata": {},
   "outputs": [
    {
     "data": {
      "text/html": [
       "<div>\n",
       "<style scoped>\n",
       "    .dataframe tbody tr th:only-of-type {\n",
       "        vertical-align: middle;\n",
       "    }\n",
       "\n",
       "    .dataframe tbody tr th {\n",
       "        vertical-align: top;\n",
       "    }\n",
       "\n",
       "    .dataframe thead th {\n",
       "        text-align: right;\n",
       "    }\n",
       "</style>\n",
       "<table border=\"1\" class=\"dataframe\">\n",
       "  <thead>\n",
       "    <tr style=\"text-align: right;\">\n",
       "      <th></th>\n",
       "      <th>Profession</th>\n",
       "      <th>Make</th>\n",
       "    </tr>\n",
       "  </thead>\n",
       "  <tbody>\n",
       "    <tr>\n",
       "      <th>0</th>\n",
       "      <td>Business</td>\n",
       "      <td>SUV</td>\n",
       "    </tr>\n",
       "    <tr>\n",
       "      <th>1</th>\n",
       "      <td>Salaried</td>\n",
       "      <td>SUV</td>\n",
       "    </tr>\n",
       "    <tr>\n",
       "      <th>2</th>\n",
       "      <td>Salaried</td>\n",
       "      <td>SUV</td>\n",
       "    </tr>\n",
       "    <tr>\n",
       "      <th>3</th>\n",
       "      <td>Salaried</td>\n",
       "      <td>SUV</td>\n",
       "    </tr>\n",
       "    <tr>\n",
       "      <th>4</th>\n",
       "      <td>Salaried</td>\n",
       "      <td>SUV</td>\n",
       "    </tr>\n",
       "    <tr>\n",
       "      <th>...</th>\n",
       "      <td>...</td>\n",
       "      <td>...</td>\n",
       "    </tr>\n",
       "    <tr>\n",
       "      <th>1576</th>\n",
       "      <td>Salaried</td>\n",
       "      <td>Hatchback</td>\n",
       "    </tr>\n",
       "    <tr>\n",
       "      <th>1577</th>\n",
       "      <td>Business</td>\n",
       "      <td>Hatchback</td>\n",
       "    </tr>\n",
       "    <tr>\n",
       "      <th>1578</th>\n",
       "      <td>Business</td>\n",
       "      <td>Hatchback</td>\n",
       "    </tr>\n",
       "    <tr>\n",
       "      <th>1579</th>\n",
       "      <td>Business</td>\n",
       "      <td>Hatchback</td>\n",
       "    </tr>\n",
       "    <tr>\n",
       "      <th>1580</th>\n",
       "      <td>Salaried</td>\n",
       "      <td>Hatchback</td>\n",
       "    </tr>\n",
       "  </tbody>\n",
       "</table>\n",
       "<p>1581 rows × 2 columns</p>\n",
       "</div>"
      ],
      "text/plain": [
       "     Profession       Make\n",
       "0      Business        SUV\n",
       "1      Salaried        SUV\n",
       "2      Salaried        SUV\n",
       "3      Salaried        SUV\n",
       "4      Salaried        SUV\n",
       "...         ...        ...\n",
       "1576   Salaried  Hatchback\n",
       "1577   Business  Hatchback\n",
       "1578   Business  Hatchback\n",
       "1579   Business  Hatchback\n",
       "1580   Salaried  Hatchback\n",
       "\n",
       "[1581 rows x 2 columns]"
      ]
     },
     "execution_count": 104,
     "metadata": {},
     "output_type": "execute_result"
    }
   ],
   "source": [
    "P=sm[[\"Profession\",\"Make\"]].dropna()\n",
    "\n",
    "P"
   ]
  },
  {
   "cell_type": "code",
   "execution_count": 105,
   "id": "e40e1e51-4fba-49c9-aadf-6b54e076dc79",
   "metadata": {},
   "outputs": [
    {
     "data": {
      "text/html": [
       "<div>\n",
       "<style scoped>\n",
       "    .dataframe tbody tr th:only-of-type {\n",
       "        vertical-align: middle;\n",
       "    }\n",
       "\n",
       "    .dataframe tbody tr th {\n",
       "        vertical-align: top;\n",
       "    }\n",
       "\n",
       "    .dataframe thead th {\n",
       "        text-align: right;\n",
       "    }\n",
       "</style>\n",
       "<table border=\"1\" class=\"dataframe\">\n",
       "  <thead>\n",
       "    <tr style=\"text-align: right;\">\n",
       "      <th></th>\n",
       "      <th>Profession</th>\n",
       "      <th>Make</th>\n",
       "    </tr>\n",
       "  </thead>\n",
       "  <tbody>\n",
       "    <tr>\n",
       "      <th>0</th>\n",
       "      <td>Business</td>\n",
       "      <td>SUV</td>\n",
       "    </tr>\n",
       "    <tr>\n",
       "      <th>14</th>\n",
       "      <td>Business</td>\n",
       "      <td>SUV</td>\n",
       "    </tr>\n",
       "    <tr>\n",
       "      <th>16</th>\n",
       "      <td>Business</td>\n",
       "      <td>SUV</td>\n",
       "    </tr>\n",
       "    <tr>\n",
       "      <th>18</th>\n",
       "      <td>Business</td>\n",
       "      <td>SUV</td>\n",
       "    </tr>\n",
       "    <tr>\n",
       "      <th>22</th>\n",
       "      <td>Business</td>\n",
       "      <td>SUV</td>\n",
       "    </tr>\n",
       "    <tr>\n",
       "      <th>...</th>\n",
       "      <td>...</td>\n",
       "      <td>...</td>\n",
       "    </tr>\n",
       "    <tr>\n",
       "      <th>1572</th>\n",
       "      <td>Business</td>\n",
       "      <td>Hatchback</td>\n",
       "    </tr>\n",
       "    <tr>\n",
       "      <th>1573</th>\n",
       "      <td>Business</td>\n",
       "      <td>Hatchback</td>\n",
       "    </tr>\n",
       "    <tr>\n",
       "      <th>1577</th>\n",
       "      <td>Business</td>\n",
       "      <td>Hatchback</td>\n",
       "    </tr>\n",
       "    <tr>\n",
       "      <th>1578</th>\n",
       "      <td>Business</td>\n",
       "      <td>Hatchback</td>\n",
       "    </tr>\n",
       "    <tr>\n",
       "      <th>1579</th>\n",
       "      <td>Business</td>\n",
       "      <td>Hatchback</td>\n",
       "    </tr>\n",
       "  </tbody>\n",
       "</table>\n",
       "<p>685 rows × 2 columns</p>\n",
       "</div>"
      ],
      "text/plain": [
       "     Profession       Make\n",
       "0      Business        SUV\n",
       "14     Business        SUV\n",
       "16     Business        SUV\n",
       "18     Business        SUV\n",
       "22     Business        SUV\n",
       "...         ...        ...\n",
       "1572   Business  Hatchback\n",
       "1573   Business  Hatchback\n",
       "1577   Business  Hatchback\n",
       "1578   Business  Hatchback\n",
       "1579   Business  Hatchback\n",
       "\n",
       "[685 rows x 2 columns]"
      ]
     },
     "execution_count": 105,
     "metadata": {},
     "output_type": "execute_result"
    }
   ],
   "source": [
    "Pb=P.where(P[\"Profession\"]==\"Business\").dropna()\n",
    "Pb"
   ]
  },
  {
   "cell_type": "code",
   "execution_count": 106,
   "id": "10698dd5-7e67-45e4-8a15-29b2f626529f",
   "metadata": {},
   "outputs": [
    {
     "data": {
      "text/html": [
       "<div>\n",
       "<style scoped>\n",
       "    .dataframe tbody tr th:only-of-type {\n",
       "        vertical-align: middle;\n",
       "    }\n",
       "\n",
       "    .dataframe tbody tr th {\n",
       "        vertical-align: top;\n",
       "    }\n",
       "\n",
       "    .dataframe thead th {\n",
       "        text-align: right;\n",
       "    }\n",
       "</style>\n",
       "<table border=\"1\" class=\"dataframe\">\n",
       "  <thead>\n",
       "    <tr style=\"text-align: right;\">\n",
       "      <th></th>\n",
       "      <th>Business</th>\n",
       "    </tr>\n",
       "    <tr>\n",
       "      <th>Make</th>\n",
       "      <th></th>\n",
       "    </tr>\n",
       "  </thead>\n",
       "  <tbody>\n",
       "    <tr>\n",
       "      <th>Hatchback</th>\n",
       "      <td>290</td>\n",
       "    </tr>\n",
       "    <tr>\n",
       "      <th>SUV</th>\n",
       "      <td>89</td>\n",
       "    </tr>\n",
       "    <tr>\n",
       "      <th>Sedan</th>\n",
       "      <td>306</td>\n",
       "    </tr>\n",
       "  </tbody>\n",
       "</table>\n",
       "</div>"
      ],
      "text/plain": [
       "           Business\n",
       "Make               \n",
       "Hatchback       290\n",
       "SUV              89\n",
       "Sedan           306"
      ]
     },
     "execution_count": 106,
     "metadata": {},
     "output_type": "execute_result"
    }
   ],
   "source": [
    "bsn=Pb.groupby(\"Make\").count().rename(columns={\"Profession\": \"Business\"})\n",
    "bsn"
   ]
  },
  {
   "cell_type": "code",
   "execution_count": 107,
   "id": "a8d0ddff-43bf-4ae4-9212-542227d1cf49",
   "metadata": {},
   "outputs": [
    {
     "data": {
      "text/html": [
       "<div>\n",
       "<style scoped>\n",
       "    .dataframe tbody tr th:only-of-type {\n",
       "        vertical-align: middle;\n",
       "    }\n",
       "\n",
       "    .dataframe tbody tr th {\n",
       "        vertical-align: top;\n",
       "    }\n",
       "\n",
       "    .dataframe thead th {\n",
       "        text-align: right;\n",
       "    }\n",
       "</style>\n",
       "<table border=\"1\" class=\"dataframe\">\n",
       "  <thead>\n",
       "    <tr style=\"text-align: right;\">\n",
       "      <th></th>\n",
       "      <th>Profession</th>\n",
       "      <th>Make</th>\n",
       "    </tr>\n",
       "  </thead>\n",
       "  <tbody>\n",
       "    <tr>\n",
       "      <th>1</th>\n",
       "      <td>Salaried</td>\n",
       "      <td>SUV</td>\n",
       "    </tr>\n",
       "    <tr>\n",
       "      <th>2</th>\n",
       "      <td>Salaried</td>\n",
       "      <td>SUV</td>\n",
       "    </tr>\n",
       "    <tr>\n",
       "      <th>3</th>\n",
       "      <td>Salaried</td>\n",
       "      <td>SUV</td>\n",
       "    </tr>\n",
       "    <tr>\n",
       "      <th>4</th>\n",
       "      <td>Salaried</td>\n",
       "      <td>SUV</td>\n",
       "    </tr>\n",
       "    <tr>\n",
       "      <th>5</th>\n",
       "      <td>Salaried</td>\n",
       "      <td>SUV</td>\n",
       "    </tr>\n",
       "    <tr>\n",
       "      <th>...</th>\n",
       "      <td>...</td>\n",
       "      <td>...</td>\n",
       "    </tr>\n",
       "    <tr>\n",
       "      <th>1569</th>\n",
       "      <td>Salaried</td>\n",
       "      <td>Hatchback</td>\n",
       "    </tr>\n",
       "    <tr>\n",
       "      <th>1574</th>\n",
       "      <td>Salaried</td>\n",
       "      <td>Sedan</td>\n",
       "    </tr>\n",
       "    <tr>\n",
       "      <th>1575</th>\n",
       "      <td>Salaried</td>\n",
       "      <td>Hatchback</td>\n",
       "    </tr>\n",
       "    <tr>\n",
       "      <th>1576</th>\n",
       "      <td>Salaried</td>\n",
       "      <td>Hatchback</td>\n",
       "    </tr>\n",
       "    <tr>\n",
       "      <th>1580</th>\n",
       "      <td>Salaried</td>\n",
       "      <td>Hatchback</td>\n",
       "    </tr>\n",
       "  </tbody>\n",
       "</table>\n",
       "<p>896 rows × 2 columns</p>\n",
       "</div>"
      ],
      "text/plain": [
       "     Profession       Make\n",
       "1      Salaried        SUV\n",
       "2      Salaried        SUV\n",
       "3      Salaried        SUV\n",
       "4      Salaried        SUV\n",
       "5      Salaried        SUV\n",
       "...         ...        ...\n",
       "1569   Salaried  Hatchback\n",
       "1574   Salaried      Sedan\n",
       "1575   Salaried  Hatchback\n",
       "1576   Salaried  Hatchback\n",
       "1580   Salaried  Hatchback\n",
       "\n",
       "[896 rows x 2 columns]"
      ]
     },
     "execution_count": 107,
     "metadata": {},
     "output_type": "execute_result"
    }
   ],
   "source": [
    "Ps=P.where(P[\"Profession\"]==\"Salaried\").dropna()\n",
    "Ps\n"
   ]
  },
  {
   "cell_type": "code",
   "execution_count": 108,
   "id": "00b99d46-6e69-4219-b8bf-03307b9487e6",
   "metadata": {},
   "outputs": [
    {
     "data": {
      "text/html": [
       "<div>\n",
       "<style scoped>\n",
       "    .dataframe tbody tr th:only-of-type {\n",
       "        vertical-align: middle;\n",
       "    }\n",
       "\n",
       "    .dataframe tbody tr th {\n",
       "        vertical-align: top;\n",
       "    }\n",
       "\n",
       "    .dataframe thead th {\n",
       "        text-align: right;\n",
       "    }\n",
       "</style>\n",
       "<table border=\"1\" class=\"dataframe\">\n",
       "  <thead>\n",
       "    <tr style=\"text-align: right;\">\n",
       "      <th></th>\n",
       "      <th>Salaried</th>\n",
       "    </tr>\n",
       "    <tr>\n",
       "      <th>Make</th>\n",
       "      <th></th>\n",
       "    </tr>\n",
       "  </thead>\n",
       "  <tbody>\n",
       "    <tr>\n",
       "      <th>Hatchback</th>\n",
       "      <td>292</td>\n",
       "    </tr>\n",
       "    <tr>\n",
       "      <th>SUV</th>\n",
       "      <td>208</td>\n",
       "    </tr>\n",
       "    <tr>\n",
       "      <th>Sedan</th>\n",
       "      <td>396</td>\n",
       "    </tr>\n",
       "  </tbody>\n",
       "</table>\n",
       "</div>"
      ],
      "text/plain": [
       "           Salaried\n",
       "Make               \n",
       "Hatchback       292\n",
       "SUV             208\n",
       "Sedan           396"
      ]
     },
     "execution_count": 108,
     "metadata": {},
     "output_type": "execute_result"
    }
   ],
   "source": [
    "sld=Ps.groupby(\"Make\").count().rename(columns={\"Profession\":\"Salaried\"})\n",
    "sld"
   ]
  },
  {
   "cell_type": "code",
   "execution_count": 109,
   "id": "f92ffb59-29ae-41da-bf0c-a233ce0fe41f",
   "metadata": {},
   "outputs": [
    {
     "name": "stderr",
     "output_type": "stream",
     "text": [
      "C:\\Users\\masoo\\AppData\\Local\\Temp\\ipykernel_3896\\484090603.py:1: FutureWarning: Series.__getitem__ treating keys as positions is deprecated. In a future version, integer keys will always be treated as labels (consistent with DataFrame behavior). To access a value by position, use `ser.iloc[pos]`\n",
      "  Hat=[bsn.iloc[0][0],sld.iloc[0][0]]\n",
      "C:\\Users\\masoo\\AppData\\Local\\Temp\\ipykernel_3896\\484090603.py:2: FutureWarning: Series.__getitem__ treating keys as positions is deprecated. In a future version, integer keys will always be treated as labels (consistent with DataFrame behavior). To access a value by position, use `ser.iloc[pos]`\n",
      "  Suv=[bsn.iloc[1][0],sld.iloc[1][0]]\n",
      "C:\\Users\\masoo\\AppData\\Local\\Temp\\ipykernel_3896\\484090603.py:3: FutureWarning: Series.__getitem__ treating keys as positions is deprecated. In a future version, integer keys will always be treated as labels (consistent with DataFrame behavior). To access a value by position, use `ser.iloc[pos]`\n",
      "  Sed=[bsn.iloc[2][0],sld.iloc[2][0]]\n"
     ]
    }
   ],
   "source": [
    "Hat=[bsn.iloc[0][0],sld.iloc[0][0]]\n",
    "Suv=[bsn.iloc[1][0],sld.iloc[1][0]]\n",
    "Sed=[bsn.iloc[2][0],sld.iloc[2][0]]"
   ]
  },
  {
   "cell_type": "code",
   "execution_count": 110,
   "id": "051dfdc0-c8d2-4356-b0c3-fe888b284fc9",
   "metadata": {},
   "outputs": [],
   "source": [
    "pdd=pd.DataFrame({\"Hatchback\":Hat,\"SUV\":Suv,\"Sedan\":Sed},index=[\"Business\",\"Salaried\"]).T"
   ]
  },
  {
   "cell_type": "code",
   "execution_count": 111,
   "id": "10632c77-45f9-40f5-bd6b-e5d7ae02d2dc",
   "metadata": {},
   "outputs": [
    {
     "data": {
      "text/plain": [
       "<Axes: >"
      ]
     },
     "execution_count": 111,
     "metadata": {},
     "output_type": "execute_result"
    },
    {
     "data": {
      "image/png": "[encoded data removed]",
      "text/plain": [
       "<Figure size 640x480 with 1 Axes>"
      ]
     },
     "metadata": {},
     "output_type": "display_data"
    }
   ],
   "source": [
    "pdd.plot.bar()"
   ]
  },
  {
   "cell_type": "markdown",
   "id": "875ed78a-5f38-4147-8bcc-4f33423d013f",
   "metadata": {},
   "source": [
    "## G- From the current data set comment if having a working partner leads to the purchase of a higher-priced car."
   ]
  },
  {
   "cell_type": "code",
   "execution_count": 112,
   "id": "7f45d661-bcb5-41ae-b057-f076e0d06ae2",
   "metadata": {},
   "outputs": [
    {
     "data": {
      "text/html": [
       "<div>\n",
       "<style scoped>\n",
       "    .dataframe tbody tr th:only-of-type {\n",
       "        vertical-align: middle;\n",
       "    }\n",
       "\n",
       "    .dataframe tbody tr th {\n",
       "        vertical-align: top;\n",
       "    }\n",
       "\n",
       "    .dataframe thead th {\n",
       "        text-align: right;\n",
       "    }\n",
       "</style>\n",
       "<table border=\"1\" class=\"dataframe\">\n",
       "  <thead>\n",
       "    <tr style=\"text-align: right;\">\n",
       "      <th></th>\n",
       "      <th>Partner_working</th>\n",
       "      <th>Price</th>\n",
       "      <th>Make</th>\n",
       "    </tr>\n",
       "  </thead>\n",
       "  <tbody>\n",
       "    <tr>\n",
       "      <th>0</th>\n",
       "      <td>Yes</td>\n",
       "      <td>61000</td>\n",
       "      <td>SUV</td>\n",
       "    </tr>\n",
       "    <tr>\n",
       "      <th>1</th>\n",
       "      <td>Yes</td>\n",
       "      <td>61000</td>\n",
       "      <td>SUV</td>\n",
       "    </tr>\n",
       "    <tr>\n",
       "      <th>2</th>\n",
       "      <td>Yes</td>\n",
       "      <td>57000</td>\n",
       "      <td>SUV</td>\n",
       "    </tr>\n",
       "    <tr>\n",
       "      <th>3</th>\n",
       "      <td>Yes</td>\n",
       "      <td>61000</td>\n",
       "      <td>SUV</td>\n",
       "    </tr>\n",
       "    <tr>\n",
       "      <th>4</th>\n",
       "      <td>Yes</td>\n",
       "      <td>57000</td>\n",
       "      <td>SUV</td>\n",
       "    </tr>\n",
       "    <tr>\n",
       "      <th>...</th>\n",
       "      <td>...</td>\n",
       "      <td>...</td>\n",
       "      <td>...</td>\n",
       "    </tr>\n",
       "    <tr>\n",
       "      <th>1576</th>\n",
       "      <td>No</td>\n",
       "      <td>27000</td>\n",
       "      <td>Hatchback</td>\n",
       "    </tr>\n",
       "    <tr>\n",
       "      <th>1577</th>\n",
       "      <td>No</td>\n",
       "      <td>31000</td>\n",
       "      <td>Hatchback</td>\n",
       "    </tr>\n",
       "    <tr>\n",
       "      <th>1578</th>\n",
       "      <td>No</td>\n",
       "      <td>30000</td>\n",
       "      <td>Hatchback</td>\n",
       "    </tr>\n",
       "    <tr>\n",
       "      <th>1579</th>\n",
       "      <td>No</td>\n",
       "      <td>24000</td>\n",
       "      <td>Hatchback</td>\n",
       "    </tr>\n",
       "    <tr>\n",
       "      <th>1580</th>\n",
       "      <td>No</td>\n",
       "      <td>31000</td>\n",
       "      <td>Hatchback</td>\n",
       "    </tr>\n",
       "  </tbody>\n",
       "</table>\n",
       "<p>1581 rows × 3 columns</p>\n",
       "</div>"
      ],
      "text/plain": [
       "     Partner_working  Price       Make\n",
       "0                Yes  61000        SUV\n",
       "1                Yes  61000        SUV\n",
       "2                Yes  57000        SUV\n",
       "3                Yes  61000        SUV\n",
       "4                Yes  57000        SUV\n",
       "...              ...    ...        ...\n",
       "1576              No  27000  Hatchback\n",
       "1577              No  31000  Hatchback\n",
       "1578              No  30000  Hatchback\n",
       "1579              No  24000  Hatchback\n",
       "1580              No  31000  Hatchback\n",
       "\n",
       "[1581 rows x 3 columns]"
      ]
     },
     "execution_count": 112,
     "metadata": {},
     "output_type": "execute_result"
    }
   ],
   "source": [
    "pwd=sm[[\"Partner_working\",\"Price\",\"Make\"]].dropna()\n",
    "pwd"
   ]
  },
  {
   "cell_type": "code",
   "execution_count": 113,
   "id": "621fb97b-31e3-45ec-9211-6bd3deb60d22",
   "metadata": {},
   "outputs": [
    {
     "data": {
      "text/html": [
       "<div>\n",
       "<style scoped>\n",
       "    .dataframe tbody tr th:only-of-type {\n",
       "        vertical-align: middle;\n",
       "    }\n",
       "\n",
       "    .dataframe tbody tr th {\n",
       "        vertical-align: top;\n",
       "    }\n",
       "\n",
       "    .dataframe thead th {\n",
       "        text-align: right;\n",
       "    }\n",
       "</style>\n",
       "<table border=\"1\" class=\"dataframe\">\n",
       "  <thead>\n",
       "    <tr style=\"text-align: right;\">\n",
       "      <th></th>\n",
       "      <th></th>\n",
       "      <th></th>\n",
       "    </tr>\n",
       "    <tr>\n",
       "      <th>Partner_working</th>\n",
       "      <th>Make</th>\n",
       "      <th>Price</th>\n",
       "    </tr>\n",
       "  </thead>\n",
       "  <tbody>\n",
       "    <tr>\n",
       "      <th rowspan=\"5\" valign=\"top\">No</th>\n",
       "      <th rowspan=\"5\" valign=\"top\">Hatchback</th>\n",
       "      <th>18000</th>\n",
       "    </tr>\n",
       "    <tr>\n",
       "      <th>19000</th>\n",
       "    </tr>\n",
       "    <tr>\n",
       "      <th>20000</th>\n",
       "    </tr>\n",
       "    <tr>\n",
       "      <th>21000</th>\n",
       "    </tr>\n",
       "    <tr>\n",
       "      <th>22000</th>\n",
       "    </tr>\n",
       "    <tr>\n",
       "      <th>...</th>\n",
       "      <th>...</th>\n",
       "      <th>...</th>\n",
       "    </tr>\n",
       "    <tr>\n",
       "      <th rowspan=\"5\" valign=\"top\">Yes</th>\n",
       "      <th rowspan=\"5\" valign=\"top\">Sedan</th>\n",
       "      <th>51000</th>\n",
       "    </tr>\n",
       "    <tr>\n",
       "      <th>52000</th>\n",
       "    </tr>\n",
       "    <tr>\n",
       "      <th>53000</th>\n",
       "    </tr>\n",
       "    <tr>\n",
       "      <th>54000</th>\n",
       "    </tr>\n",
       "    <tr>\n",
       "      <th>55000</th>\n",
       "    </tr>\n",
       "  </tbody>\n",
       "</table>\n",
       "<p>163 rows × 0 columns</p>\n",
       "</div>"
      ],
      "text/plain": [
       "Empty DataFrame\n",
       "Columns: []\n",
       "Index: [(No, Hatchback, 18000), (No, Hatchback, 19000), (No, Hatchback, 20000), (No, Hatchback, 21000), (No, Hatchback, 22000), (No, Hatchback, 23000), (No, Hatchback, 24000), (No, Hatchback, 25000), (No, Hatchback, 26000), (No, Hatchback, 27000), (No, Hatchback, 28000), (No, Hatchback, 29000), (No, Hatchback, 30000), (No, Hatchback, 31000), (No, Hatchback, 32000), (No, Hatchback, 33000), (No, SUV, 31000), (No, SUV, 32000), (No, SUV, 36000), (No, SUV, 39000), (No, SUV, 40000), (No, SUV, 45000), (No, SUV, 48000), (No, SUV, 49000), (No, SUV, 50000), (No, SUV, 51000), (No, SUV, 52000), (No, SUV, 53000), (No, SUV, 54000), (No, SUV, 55000), (No, SUV, 56000), (No, SUV, 57000), (No, SUV, 58000), (No, SUV, 59000), (No, SUV, 60000), (No, SUV, 61000), (No, SUV, 62000), (No, SUV, 63000), (No, SUV, 64000), (No, SUV, 65000), (No, SUV, 66000), (No, SUV, 67000), (No, SUV, 68000), (No, SUV, 69000), (No, SUV, 70000), (No, Sedan, 18000), (No, Sedan, 19000), (No, Sedan, 20000), (No, Sedan, 21000), (No, Sedan, 22000), (No, Sedan, 23000), (No, Sedan, 24000), (No, Sedan, 26000), (No, Sedan, 27000), (No, Sedan, 28000), (No, Sedan, 29000), (No, Sedan, 30000), (No, Sedan, 31000), (No, Sedan, 32000), (No, Sedan, 33000), (No, Sedan, 34000), (No, Sedan, 35000), (No, Sedan, 36000), (No, Sedan, 37000), (No, Sedan, 38000), (No, Sedan, 39000), (No, Sedan, 40000), (No, Sedan, 41000), (No, Sedan, 42000), (No, Sedan, 43000), (No, Sedan, 44000), (No, Sedan, 45000), (No, Sedan, 46000), (No, Sedan, 47000), (No, Sedan, 48000), (No, Sedan, 49000), (No, Sedan, 50000), (No, Sedan, 51000), (No, Sedan, 52000), (No, Sedan, 53000), (No, Sedan, 54000), (No, Sedan, 55000), (Yes, Hatchback, 19000), (Yes, Hatchback, 20000), (Yes, Hatchback, 22000), (Yes, Hatchback, 23000), (Yes, Hatchback, 24000), (Yes, Hatchback, 25000), (Yes, Hatchback, 26000), (Yes, Hatchback, 27000), (Yes, Hatchback, 28000), (Yes, Hatchback, 29000), (Yes, Hatchback, 30000), (Yes, Hatchback, 31000), (Yes, Hatchback, 32000), (Yes, Hatchback, 33000), (Yes, SUV, 31000), (Yes, SUV, 32000), (Yes, SUV, 36000), (Yes, SUV, 37000), ...]\n",
       "\n",
       "[163 rows x 0 columns]"
      ]
     },
     "execution_count": 113,
     "metadata": {},
     "output_type": "execute_result"
    }
   ],
   "source": [
    "pwd.groupby([\"Partner_working\",\"Make\",\"Price\"]).count()"
   ]
  },
  {
   "cell_type": "markdown",
   "id": "5cad5ba7-19fb-4bab-8fe1-01d26d9692e0",
   "metadata": {},
   "source": [
    "### H-  The main objective of this analysis is to devise an improved marketing strategy to send targeted information to different groups of potential buyers present in the data. For the current analysis use the Gender and Marital_status - fields to arrive at groups with similar purchase history."
   ]
  },
  {
   "cell_type": "code",
   "execution_count": 114,
   "id": "5ce3f894-d9ca-4b7a-aeac-71a4a43bdd16",
   "metadata": {},
   "outputs": [
    {
     "data": {
      "text/html": [
       "<div>\n",
       "<style scoped>\n",
       "    .dataframe tbody tr th:only-of-type {\n",
       "        vertical-align: middle;\n",
       "    }\n",
       "\n",
       "    .dataframe tbody tr th {\n",
       "        vertical-align: top;\n",
       "    }\n",
       "\n",
       "    .dataframe thead th {\n",
       "        text-align: right;\n",
       "    }\n",
       "</style>\n",
       "<table border=\"1\" class=\"dataframe\">\n",
       "  <thead>\n",
       "    <tr style=\"text-align: right;\">\n",
       "      <th></th>\n",
       "      <th>Marital_status</th>\n",
       "      <th>Gender</th>\n",
       "      <th>Make</th>\n",
       "    </tr>\n",
       "  </thead>\n",
       "  <tbody>\n",
       "    <tr>\n",
       "      <th>0</th>\n",
       "      <td>Married</td>\n",
       "      <td>Male</td>\n",
       "      <td>SUV</td>\n",
       "    </tr>\n",
       "    <tr>\n",
       "      <th>1</th>\n",
       "      <td>Married</td>\n",
       "      <td>Female</td>\n",
       "      <td>SUV</td>\n",
       "    </tr>\n",
       "    <tr>\n",
       "      <th>2</th>\n",
       "      <td>Married</td>\n",
       "      <td>Female</td>\n",
       "      <td>SUV</td>\n",
       "    </tr>\n",
       "    <tr>\n",
       "      <th>3</th>\n",
       "      <td>Married</td>\n",
       "      <td>Female</td>\n",
       "      <td>SUV</td>\n",
       "    </tr>\n",
       "    <tr>\n",
       "      <th>4</th>\n",
       "      <td>Married</td>\n",
       "      <td>Male</td>\n",
       "      <td>SUV</td>\n",
       "    </tr>\n",
       "    <tr>\n",
       "      <th>...</th>\n",
       "      <td>...</td>\n",
       "      <td>...</td>\n",
       "      <td>...</td>\n",
       "    </tr>\n",
       "    <tr>\n",
       "      <th>1576</th>\n",
       "      <td>Single</td>\n",
       "      <td>Male</td>\n",
       "      <td>Hatchback</td>\n",
       "    </tr>\n",
       "    <tr>\n",
       "      <th>1577</th>\n",
       "      <td>Married</td>\n",
       "      <td>Male</td>\n",
       "      <td>Hatchback</td>\n",
       "    </tr>\n",
       "    <tr>\n",
       "      <th>1578</th>\n",
       "      <td>Single</td>\n",
       "      <td>Male</td>\n",
       "      <td>Hatchback</td>\n",
       "    </tr>\n",
       "    <tr>\n",
       "      <th>1579</th>\n",
       "      <td>Married</td>\n",
       "      <td>Male</td>\n",
       "      <td>Hatchback</td>\n",
       "    </tr>\n",
       "    <tr>\n",
       "      <th>1580</th>\n",
       "      <td>Married</td>\n",
       "      <td>Male</td>\n",
       "      <td>Hatchback</td>\n",
       "    </tr>\n",
       "  </tbody>\n",
       "</table>\n",
       "<p>1581 rows × 3 columns</p>\n",
       "</div>"
      ],
      "text/plain": [
       "     Marital_status  Gender       Make\n",
       "0           Married    Male        SUV\n",
       "1           Married  Female        SUV\n",
       "2           Married  Female        SUV\n",
       "3           Married  Female        SUV\n",
       "4           Married    Male        SUV\n",
       "...             ...     ...        ...\n",
       "1576         Single    Male  Hatchback\n",
       "1577        Married    Male  Hatchback\n",
       "1578         Single    Male  Hatchback\n",
       "1579        Married    Male  Hatchback\n",
       "1580        Married    Male  Hatchback\n",
       "\n",
       "[1581 rows x 3 columns]"
      ]
     },
     "execution_count": 114,
     "metadata": {},
     "output_type": "execute_result"
    }
   ],
   "source": [
    "Ms=sm[[\"Marital_status\",\"Gender\",\"Make\"]]\n",
    "Ms"
   ]
  },
  {
   "cell_type": "code",
   "execution_count": 115,
   "id": "11f90554-3cd6-4b15-a7e7-aa74658cd8f6",
   "metadata": {},
   "outputs": [
    {
     "data": {
      "text/plain": [
       "Marital_status  Gender  Make     \n",
       "Married         Female  Hatchback     14\n",
       "                        SUV          166\n",
       "                        Sedan        127\n",
       "                Male    Hatchback    484\n",
       "                        SUV          115\n",
       "                        Sedan        537\n",
       "Single          Female  Hatchback      1\n",
       "                        SUV            7\n",
       "                        Sedan         14\n",
       "                Male    Hatchback     83\n",
       "                        SUV            9\n",
       "                        Sedan         24\n",
       "Name: Make, dtype: int64"
      ]
     },
     "execution_count": 115,
     "metadata": {},
     "output_type": "execute_result"
    }
   ],
   "source": [
    "Ms.groupby([\"Marital_status\",\"Gender\",\"Make\"])[\"Make\"].count()"
   ]
  },
  {
   "cell_type": "code",
   "execution_count": 116,
   "id": "4a98acd4-9ffc-423a-a08d-67048741cc11",
   "metadata": {},
   "outputs": [
    {
     "data": {
      "text/plain": [
       "Marital_status  Gender  Make     \n",
       "Married         Female  Hatchback     14\n",
       "                        SUV          166\n",
       "                        Sedan        127\n",
       "                Male    Hatchback    484\n",
       "                        SUV          115\n",
       "                        Sedan        537\n",
       "Single          Female  Hatchback      1\n",
       "                        SUV            7\n",
       "                        Sedan         14\n",
       "                Male    Hatchback     83\n",
       "                        SUV            9\n",
       "                        Sedan         24\n",
       "Name: Make, dtype: int64"
      ]
     },
     "execution_count": 116,
     "metadata": {},
     "output_type": "execute_result"
    }
   ],
   "source": [
    "Ms.groupby([\"Marital_status\",\"Gender\",\"Make\"])[\"Make\"].count()"
   ]
  },
  {
   "cell_type": "code",
   "execution_count": 117,
   "id": "3307abd7-0d0c-45d3-ba89-e58d12a4dae7",
   "metadata": {},
   "outputs": [
    {
     "data": {
      "text/html": [
       "<div>\n",
       "<style scoped>\n",
       "    .dataframe tbody tr th:only-of-type {\n",
       "        vertical-align: middle;\n",
       "    }\n",
       "\n",
       "    .dataframe tbody tr th {\n",
       "        vertical-align: top;\n",
       "    }\n",
       "\n",
       "    .dataframe thead th {\n",
       "        text-align: right;\n",
       "    }\n",
       "</style>\n",
       "<table border=\"1\" class=\"dataframe\">\n",
       "  <thead>\n",
       "    <tr style=\"text-align: right;\">\n",
       "      <th></th>\n",
       "      <th>Profession</th>\n",
       "      <th>Marital_status</th>\n",
       "      <th>Gender</th>\n",
       "      <th>Make</th>\n",
       "    </tr>\n",
       "  </thead>\n",
       "  <tbody>\n",
       "    <tr>\n",
       "      <th>0</th>\n",
       "      <td>Business</td>\n",
       "      <td>Married</td>\n",
       "      <td>Male</td>\n",
       "      <td>SUV</td>\n",
       "    </tr>\n",
       "    <tr>\n",
       "      <th>1</th>\n",
       "      <td>Salaried</td>\n",
       "      <td>Married</td>\n",
       "      <td>Female</td>\n",
       "      <td>SUV</td>\n",
       "    </tr>\n",
       "    <tr>\n",
       "      <th>2</th>\n",
       "      <td>Salaried</td>\n",
       "      <td>Married</td>\n",
       "      <td>Female</td>\n",
       "      <td>SUV</td>\n",
       "    </tr>\n",
       "    <tr>\n",
       "      <th>3</th>\n",
       "      <td>Salaried</td>\n",
       "      <td>Married</td>\n",
       "      <td>Female</td>\n",
       "      <td>SUV</td>\n",
       "    </tr>\n",
       "    <tr>\n",
       "      <th>4</th>\n",
       "      <td>Salaried</td>\n",
       "      <td>Married</td>\n",
       "      <td>Male</td>\n",
       "      <td>SUV</td>\n",
       "    </tr>\n",
       "    <tr>\n",
       "      <th>...</th>\n",
       "      <td>...</td>\n",
       "      <td>...</td>\n",
       "      <td>...</td>\n",
       "      <td>...</td>\n",
       "    </tr>\n",
       "    <tr>\n",
       "      <th>1576</th>\n",
       "      <td>Salaried</td>\n",
       "      <td>Single</td>\n",
       "      <td>Male</td>\n",
       "      <td>Hatchback</td>\n",
       "    </tr>\n",
       "    <tr>\n",
       "      <th>1577</th>\n",
       "      <td>Business</td>\n",
       "      <td>Married</td>\n",
       "      <td>Male</td>\n",
       "      <td>Hatchback</td>\n",
       "    </tr>\n",
       "    <tr>\n",
       "      <th>1578</th>\n",
       "      <td>Business</td>\n",
       "      <td>Single</td>\n",
       "      <td>Male</td>\n",
       "      <td>Hatchback</td>\n",
       "    </tr>\n",
       "    <tr>\n",
       "      <th>1579</th>\n",
       "      <td>Business</td>\n",
       "      <td>Married</td>\n",
       "      <td>Male</td>\n",
       "      <td>Hatchback</td>\n",
       "    </tr>\n",
       "    <tr>\n",
       "      <th>1580</th>\n",
       "      <td>Salaried</td>\n",
       "      <td>Married</td>\n",
       "      <td>Male</td>\n",
       "      <td>Hatchback</td>\n",
       "    </tr>\n",
       "  </tbody>\n",
       "</table>\n",
       "<p>1581 rows × 4 columns</p>\n",
       "</div>"
      ],
      "text/plain": [
       "     Profession Marital_status  Gender       Make\n",
       "0      Business        Married    Male        SUV\n",
       "1      Salaried        Married  Female        SUV\n",
       "2      Salaried        Married  Female        SUV\n",
       "3      Salaried        Married  Female        SUV\n",
       "4      Salaried        Married    Male        SUV\n",
       "...         ...            ...     ...        ...\n",
       "1576   Salaried         Single    Male  Hatchback\n",
       "1577   Business        Married    Male  Hatchback\n",
       "1578   Business         Single    Male  Hatchback\n",
       "1579   Business        Married    Male  Hatchback\n",
       "1580   Salaried        Married    Male  Hatchback\n",
       "\n",
       "[1581 rows x 4 columns]"
      ]
     },
     "execution_count": 117,
     "metadata": {},
     "output_type": "execute_result"
    }
   ],
   "source": [
    "ms=sm[[\"Profession\",\"Marital_status\",\"Gender\",\"Make\"]]\n",
    "ms"
   ]
  },
  {
   "cell_type": "code",
   "execution_count": 118,
   "id": "e8a5a702-ff99-45f2-b8fc-f955dbd386eb",
   "metadata": {},
   "outputs": [
    {
     "data": {
      "text/plain": [
       "Profession  Marital_status  Gender  Make     \n",
       "Business    Married         Female  SUV           53\n",
       "                                    Sedan         43\n",
       "                            Male    Hatchback    239\n",
       "                                    SUV           33\n",
       "                                    Sedan        246\n",
       "            Single          Female  SUV            2\n",
       "                                    Sedan          7\n",
       "                            Male    Hatchback     51\n",
       "                                    SUV            1\n",
       "                                    Sedan         10\n",
       "Salaried    Married         Female  Hatchback     14\n",
       "                                    SUV          113\n",
       "                                    Sedan         84\n",
       "                            Male    Hatchback    245\n",
       "                                    SUV           82\n",
       "                                    Sedan        291\n",
       "            Single          Female  Hatchback      1\n",
       "                                    SUV            5\n",
       "                                    Sedan          7\n",
       "                            Male    Hatchback     32\n",
       "                                    SUV            8\n",
       "                                    Sedan         14\n",
       "Name: Make, dtype: int64"
      ]
     },
     "execution_count": 118,
     "metadata": {},
     "output_type": "execute_result"
    }
   ],
   "source": [
    "ms.groupby([\"Profession\",\"Marital_status\",\"Gender\",\"Make\"])[\"Make\"].count()"
   ]
  },
  {
   "cell_type": "code",
   "execution_count": null,
   "id": "0135b267-7a6b-44de-b5cf-79ea74fb8eb1",
   "metadata": {},
   "outputs": [],
   "source": []
  }
 ],
 "metadata": {
  "kernelspec": {
   "display_name": "Python 3 (ipykernel)",
   "language": "python",
   "name": "python3"
  },
  "language_info": {
   "codemirror_mode": {
    "name": "ipython",
    "version": 3
   },
   "file_extension": ".py",
   "mimetype": "text/x-python",
   "name": "python",
   "nbconvert_exporter": "python",
   "pygments_lexer": "ipython3",
   "version": "3.12.1"
  }
 },
 "nbformat": 4,
 "nbformat_minor": 5
}
