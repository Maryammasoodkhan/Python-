{
 "cells": [
  {
   "cell_type": "code",
   "execution_count": 90,
   "id": "01bf56f0-ef40-4c66-bb57-1de7666a373b",
   "metadata": {},
   "outputs": [],
   "source": [
    "import numpy as np\n",
    "import pandas as pd\n",
    "import seaborn as sns\n",
    "import matplotlib.pyplot as plt\n",
    "%matplotlib inline"
   ]
  },
  {
   "cell_type": "markdown",
   "id": "41977077-9fc5-4b55-afe8-3e8c2d1f35da",
   "metadata": {},
   "source": [
    "## Data Cleaning"
   ]
  },
  {
   "cell_type": "code",
   "execution_count": 2,
   "id": "accc4e08-e94b-4dc4-90ad-aec6383b27b8",
   "metadata": {},
   "outputs": [
    {
     "data": {
      "text/html": [
       "<div>\n",
       "<style scoped>\n",
       "    .dataframe tbody tr th:only-of-type {\n",
       "        vertical-align: middle;\n",
       "    }\n",
       "\n",
       "    .dataframe tbody tr th {\n",
       "        vertical-align: top;\n",
       "    }\n",
       "\n",
       "    .dataframe thead th {\n",
       "        text-align: right;\n",
       "    }\n",
       "</style>\n",
       "<table border=\"1\" class=\"dataframe\">\n",
       "  <thead>\n",
       "    <tr style=\"text-align: right;\">\n",
       "      <th></th>\n",
       "      <th>User_ID</th>\n",
       "      <th>Cust_name</th>\n",
       "      <th>Product_ID</th>\n",
       "      <th>Gender</th>\n",
       "      <th>Age Group</th>\n",
       "      <th>Age</th>\n",
       "      <th>Marital_Status</th>\n",
       "      <th>State</th>\n",
       "      <th>Zone</th>\n",
       "      <th>Occupation</th>\n",
       "      <th>Product_Category</th>\n",
       "      <th>Orders</th>\n",
       "      <th>Amount</th>\n",
       "      <th>Status</th>\n",
       "      <th>unnamed1</th>\n",
       "    </tr>\n",
       "  </thead>\n",
       "  <tbody>\n",
       "    <tr>\n",
       "      <th>0</th>\n",
       "      <td>1002903</td>\n",
       "      <td>Sanskriti</td>\n",
       "      <td>P00125942</td>\n",
       "      <td>F</td>\n",
       "      <td>26-35</td>\n",
       "      <td>28</td>\n",
       "      <td>Unmarried</td>\n",
       "      <td>Maharashtra</td>\n",
       "      <td>Western</td>\n",
       "      <td>Healthcare</td>\n",
       "      <td>Auto</td>\n",
       "      <td>1</td>\n",
       "      <td>23952.0</td>\n",
       "      <td>NaN</td>\n",
       "      <td>NaN</td>\n",
       "    </tr>\n",
       "    <tr>\n",
       "      <th>1</th>\n",
       "      <td>1000732</td>\n",
       "      <td>Kartik</td>\n",
       "      <td>P00110942</td>\n",
       "      <td>F</td>\n",
       "      <td>26-35</td>\n",
       "      <td>35</td>\n",
       "      <td>Married</td>\n",
       "      <td>Andhra Pradesh</td>\n",
       "      <td>Southern</td>\n",
       "      <td>Govt</td>\n",
       "      <td>Auto</td>\n",
       "      <td>3</td>\n",
       "      <td>23934.0</td>\n",
       "      <td>NaN</td>\n",
       "      <td>NaN</td>\n",
       "    </tr>\n",
       "    <tr>\n",
       "      <th>2</th>\n",
       "      <td>1001990</td>\n",
       "      <td>Bindu</td>\n",
       "      <td>P00118542</td>\n",
       "      <td>F</td>\n",
       "      <td>26-35</td>\n",
       "      <td>35</td>\n",
       "      <td>Married</td>\n",
       "      <td>Uttar Pradesh</td>\n",
       "      <td>Central</td>\n",
       "      <td>Automobile</td>\n",
       "      <td>Auto</td>\n",
       "      <td>3</td>\n",
       "      <td>23924.0</td>\n",
       "      <td>NaN</td>\n",
       "      <td>NaN</td>\n",
       "    </tr>\n",
       "    <tr>\n",
       "      <th>3</th>\n",
       "      <td>1001425</td>\n",
       "      <td>Sudevi</td>\n",
       "      <td>P00237842</td>\n",
       "      <td>M</td>\n",
       "      <td>0-17</td>\n",
       "      <td>16</td>\n",
       "      <td>Unmarried</td>\n",
       "      <td>Karnataka</td>\n",
       "      <td>Southern</td>\n",
       "      <td>Construction</td>\n",
       "      <td>Auto</td>\n",
       "      <td>2</td>\n",
       "      <td>23912.0</td>\n",
       "      <td>NaN</td>\n",
       "      <td>NaN</td>\n",
       "    </tr>\n",
       "    <tr>\n",
       "      <th>4</th>\n",
       "      <td>1000588</td>\n",
       "      <td>Joni</td>\n",
       "      <td>P00057942</td>\n",
       "      <td>M</td>\n",
       "      <td>26-35</td>\n",
       "      <td>28</td>\n",
       "      <td>Married</td>\n",
       "      <td>Gujarat</td>\n",
       "      <td>Western</td>\n",
       "      <td>Food Processing</td>\n",
       "      <td>Auto</td>\n",
       "      <td>2</td>\n",
       "      <td>23877.0</td>\n",
       "      <td>NaN</td>\n",
       "      <td>NaN</td>\n",
       "    </tr>\n",
       "    <tr>\n",
       "      <th>...</th>\n",
       "      <td>...</td>\n",
       "      <td>...</td>\n",
       "      <td>...</td>\n",
       "      <td>...</td>\n",
       "      <td>...</td>\n",
       "      <td>...</td>\n",
       "      <td>...</td>\n",
       "      <td>...</td>\n",
       "      <td>...</td>\n",
       "      <td>...</td>\n",
       "      <td>...</td>\n",
       "      <td>...</td>\n",
       "      <td>...</td>\n",
       "      <td>...</td>\n",
       "      <td>...</td>\n",
       "    </tr>\n",
       "    <tr>\n",
       "      <th>11246</th>\n",
       "      <td>1000695</td>\n",
       "      <td>Manning</td>\n",
       "      <td>P00296942</td>\n",
       "      <td>M</td>\n",
       "      <td>18-25</td>\n",
       "      <td>19</td>\n",
       "      <td>Married</td>\n",
       "      <td>Maharashtra</td>\n",
       "      <td>Western</td>\n",
       "      <td>Chemical</td>\n",
       "      <td>Office</td>\n",
       "      <td>4</td>\n",
       "      <td>370.0</td>\n",
       "      <td>NaN</td>\n",
       "      <td>NaN</td>\n",
       "    </tr>\n",
       "    <tr>\n",
       "      <th>11247</th>\n",
       "      <td>1004089</td>\n",
       "      <td>Reichenbach</td>\n",
       "      <td>P00171342</td>\n",
       "      <td>M</td>\n",
       "      <td>26-35</td>\n",
       "      <td>33</td>\n",
       "      <td>Unmarried</td>\n",
       "      <td>Haryana</td>\n",
       "      <td>Northern</td>\n",
       "      <td>Healthcare</td>\n",
       "      <td>Veterinary</td>\n",
       "      <td>3</td>\n",
       "      <td>367.0</td>\n",
       "      <td>NaN</td>\n",
       "      <td>NaN</td>\n",
       "    </tr>\n",
       "    <tr>\n",
       "      <th>11248</th>\n",
       "      <td>1001209</td>\n",
       "      <td>Oshin</td>\n",
       "      <td>P00201342</td>\n",
       "      <td>F</td>\n",
       "      <td>36-45</td>\n",
       "      <td>40</td>\n",
       "      <td>Unmarried</td>\n",
       "      <td>Madhya Pradesh</td>\n",
       "      <td>Central</td>\n",
       "      <td>Textile</td>\n",
       "      <td>Office</td>\n",
       "      <td>4</td>\n",
       "      <td>213.0</td>\n",
       "      <td>NaN</td>\n",
       "      <td>NaN</td>\n",
       "    </tr>\n",
       "    <tr>\n",
       "      <th>11249</th>\n",
       "      <td>1004023</td>\n",
       "      <td>Noonan</td>\n",
       "      <td>P00059442</td>\n",
       "      <td>M</td>\n",
       "      <td>36-45</td>\n",
       "      <td>37</td>\n",
       "      <td>Unmarried</td>\n",
       "      <td>Karnataka</td>\n",
       "      <td>Southern</td>\n",
       "      <td>Agriculture</td>\n",
       "      <td>Office</td>\n",
       "      <td>3</td>\n",
       "      <td>206.0</td>\n",
       "      <td>NaN</td>\n",
       "      <td>NaN</td>\n",
       "    </tr>\n",
       "    <tr>\n",
       "      <th>11250</th>\n",
       "      <td>1002744</td>\n",
       "      <td>Brumley</td>\n",
       "      <td>P00281742</td>\n",
       "      <td>F</td>\n",
       "      <td>18-25</td>\n",
       "      <td>19</td>\n",
       "      <td>Unmarried</td>\n",
       "      <td>Maharashtra</td>\n",
       "      <td>Western</td>\n",
       "      <td>Healthcare</td>\n",
       "      <td>Office</td>\n",
       "      <td>3</td>\n",
       "      <td>188.0</td>\n",
       "      <td>NaN</td>\n",
       "      <td>NaN</td>\n",
       "    </tr>\n",
       "  </tbody>\n",
       "</table>\n",
       "<p>11251 rows × 15 columns</p>\n",
       "</div>"
      ],
      "text/plain": [
       "       User_ID    Cust_name Product_ID Gender Age Group  Age Marital_Status  \\\n",
       "0      1002903    Sanskriti  P00125942      F     26-35   28      Unmarried   \n",
       "1      1000732       Kartik  P00110942      F     26-35   35        Married   \n",
       "2      1001990        Bindu  P00118542      F     26-35   35        Married   \n",
       "3      1001425       Sudevi  P00237842      M      0-17   16      Unmarried   \n",
       "4      1000588         Joni  P00057942      M     26-35   28        Married   \n",
       "...        ...          ...        ...    ...       ...  ...            ...   \n",
       "11246  1000695      Manning  P00296942      M     18-25   19        Married   \n",
       "11247  1004089  Reichenbach  P00171342      M     26-35   33      Unmarried   \n",
       "11248  1001209        Oshin  P00201342      F     36-45   40      Unmarried   \n",
       "11249  1004023       Noonan  P00059442      M     36-45   37      Unmarried   \n",
       "11250  1002744      Brumley  P00281742      F     18-25   19      Unmarried   \n",
       "\n",
       "                State      Zone       Occupation Product_Category  Orders  \\\n",
       "0         Maharashtra   Western       Healthcare             Auto       1   \n",
       "1      Andhra Pradesh  Southern             Govt             Auto       3   \n",
       "2       Uttar Pradesh   Central       Automobile             Auto       3   \n",
       "3           Karnataka  Southern     Construction             Auto       2   \n",
       "4             Gujarat   Western  Food Processing             Auto       2   \n",
       "...               ...       ...              ...              ...     ...   \n",
       "11246     Maharashtra   Western         Chemical           Office       4   \n",
       "11247         Haryana  Northern       Healthcare       Veterinary       3   \n",
       "11248  Madhya Pradesh   Central          Textile           Office       4   \n",
       "11249       Karnataka  Southern      Agriculture           Office       3   \n",
       "11250     Maharashtra   Western       Healthcare           Office       3   \n",
       "\n",
       "        Amount  Status  unnamed1  \n",
       "0      23952.0     NaN       NaN  \n",
       "1      23934.0     NaN       NaN  \n",
       "2      23924.0     NaN       NaN  \n",
       "3      23912.0     NaN       NaN  \n",
       "4      23877.0     NaN       NaN  \n",
       "...        ...     ...       ...  \n",
       "11246    370.0     NaN       NaN  \n",
       "11247    367.0     NaN       NaN  \n",
       "11248    213.0     NaN       NaN  \n",
       "11249    206.0     NaN       NaN  \n",
       "11250    188.0     NaN       NaN  \n",
       "\n",
       "[11251 rows x 15 columns]"
      ]
     },
     "execution_count": 2,
     "metadata": {},
     "output_type": "execute_result"
    }
   ],
   "source": [
    "data=pd.read_csv(\"Diwali_Sales_Data.csv\",encoding= 'unicode_escape')\n",
    "\n",
    "data"
   ]
  },
  {
   "cell_type": "code",
   "execution_count": 3,
   "id": "59591a40-b9b3-4f85-9464-3b7e898bf527",
   "metadata": {},
   "outputs": [
    {
     "data": {
      "text/html": [
       "<div>\n",
       "<style scoped>\n",
       "    .dataframe tbody tr th:only-of-type {\n",
       "        vertical-align: middle;\n",
       "    }\n",
       "\n",
       "    .dataframe tbody tr th {\n",
       "        vertical-align: top;\n",
       "    }\n",
       "\n",
       "    .dataframe thead th {\n",
       "        text-align: right;\n",
       "    }\n",
       "</style>\n",
       "<table border=\"1\" class=\"dataframe\">\n",
       "  <thead>\n",
       "    <tr style=\"text-align: right;\">\n",
       "      <th></th>\n",
       "      <th>User_ID</th>\n",
       "      <th>Cust_name</th>\n",
       "      <th>Product_ID</th>\n",
       "      <th>Gender</th>\n",
       "      <th>Age Group</th>\n",
       "      <th>Age</th>\n",
       "      <th>Marital_Status</th>\n",
       "      <th>State</th>\n",
       "      <th>Zone</th>\n",
       "      <th>Occupation</th>\n",
       "      <th>Product_Category</th>\n",
       "      <th>Orders</th>\n",
       "      <th>Amount</th>\n",
       "    </tr>\n",
       "  </thead>\n",
       "  <tbody>\n",
       "    <tr>\n",
       "      <th>0</th>\n",
       "      <td>1002903</td>\n",
       "      <td>Sanskriti</td>\n",
       "      <td>P00125942</td>\n",
       "      <td>F</td>\n",
       "      <td>26-35</td>\n",
       "      <td>28</td>\n",
       "      <td>Unmarried</td>\n",
       "      <td>Maharashtra</td>\n",
       "      <td>Western</td>\n",
       "      <td>Healthcare</td>\n",
       "      <td>Auto</td>\n",
       "      <td>1</td>\n",
       "      <td>23952.0</td>\n",
       "    </tr>\n",
       "    <tr>\n",
       "      <th>1</th>\n",
       "      <td>1000732</td>\n",
       "      <td>Kartik</td>\n",
       "      <td>P00110942</td>\n",
       "      <td>F</td>\n",
       "      <td>26-35</td>\n",
       "      <td>35</td>\n",
       "      <td>Married</td>\n",
       "      <td>Andhra Pradesh</td>\n",
       "      <td>Southern</td>\n",
       "      <td>Govt</td>\n",
       "      <td>Auto</td>\n",
       "      <td>3</td>\n",
       "      <td>23934.0</td>\n",
       "    </tr>\n",
       "    <tr>\n",
       "      <th>2</th>\n",
       "      <td>1001990</td>\n",
       "      <td>Bindu</td>\n",
       "      <td>P00118542</td>\n",
       "      <td>F</td>\n",
       "      <td>26-35</td>\n",
       "      <td>35</td>\n",
       "      <td>Married</td>\n",
       "      <td>Uttar Pradesh</td>\n",
       "      <td>Central</td>\n",
       "      <td>Automobile</td>\n",
       "      <td>Auto</td>\n",
       "      <td>3</td>\n",
       "      <td>23924.0</td>\n",
       "    </tr>\n",
       "    <tr>\n",
       "      <th>3</th>\n",
       "      <td>1001425</td>\n",
       "      <td>Sudevi</td>\n",
       "      <td>P00237842</td>\n",
       "      <td>M</td>\n",
       "      <td>0-17</td>\n",
       "      <td>16</td>\n",
       "      <td>Unmarried</td>\n",
       "      <td>Karnataka</td>\n",
       "      <td>Southern</td>\n",
       "      <td>Construction</td>\n",
       "      <td>Auto</td>\n",
       "      <td>2</td>\n",
       "      <td>23912.0</td>\n",
       "    </tr>\n",
       "    <tr>\n",
       "      <th>4</th>\n",
       "      <td>1000588</td>\n",
       "      <td>Joni</td>\n",
       "      <td>P00057942</td>\n",
       "      <td>M</td>\n",
       "      <td>26-35</td>\n",
       "      <td>28</td>\n",
       "      <td>Married</td>\n",
       "      <td>Gujarat</td>\n",
       "      <td>Western</td>\n",
       "      <td>Food Processing</td>\n",
       "      <td>Auto</td>\n",
       "      <td>2</td>\n",
       "      <td>23877.0</td>\n",
       "    </tr>\n",
       "    <tr>\n",
       "      <th>...</th>\n",
       "      <td>...</td>\n",
       "      <td>...</td>\n",
       "      <td>...</td>\n",
       "      <td>...</td>\n",
       "      <td>...</td>\n",
       "      <td>...</td>\n",
       "      <td>...</td>\n",
       "      <td>...</td>\n",
       "      <td>...</td>\n",
       "      <td>...</td>\n",
       "      <td>...</td>\n",
       "      <td>...</td>\n",
       "      <td>...</td>\n",
       "    </tr>\n",
       "    <tr>\n",
       "      <th>11246</th>\n",
       "      <td>1000695</td>\n",
       "      <td>Manning</td>\n",
       "      <td>P00296942</td>\n",
       "      <td>M</td>\n",
       "      <td>18-25</td>\n",
       "      <td>19</td>\n",
       "      <td>Married</td>\n",
       "      <td>Maharashtra</td>\n",
       "      <td>Western</td>\n",
       "      <td>Chemical</td>\n",
       "      <td>Office</td>\n",
       "      <td>4</td>\n",
       "      <td>370.0</td>\n",
       "    </tr>\n",
       "    <tr>\n",
       "      <th>11247</th>\n",
       "      <td>1004089</td>\n",
       "      <td>Reichenbach</td>\n",
       "      <td>P00171342</td>\n",
       "      <td>M</td>\n",
       "      <td>26-35</td>\n",
       "      <td>33</td>\n",
       "      <td>Unmarried</td>\n",
       "      <td>Haryana</td>\n",
       "      <td>Northern</td>\n",
       "      <td>Healthcare</td>\n",
       "      <td>Veterinary</td>\n",
       "      <td>3</td>\n",
       "      <td>367.0</td>\n",
       "    </tr>\n",
       "    <tr>\n",
       "      <th>11248</th>\n",
       "      <td>1001209</td>\n",
       "      <td>Oshin</td>\n",
       "      <td>P00201342</td>\n",
       "      <td>F</td>\n",
       "      <td>36-45</td>\n",
       "      <td>40</td>\n",
       "      <td>Unmarried</td>\n",
       "      <td>Madhya Pradesh</td>\n",
       "      <td>Central</td>\n",
       "      <td>Textile</td>\n",
       "      <td>Office</td>\n",
       "      <td>4</td>\n",
       "      <td>213.0</td>\n",
       "    </tr>\n",
       "    <tr>\n",
       "      <th>11249</th>\n",
       "      <td>1004023</td>\n",
       "      <td>Noonan</td>\n",
       "      <td>P00059442</td>\n",
       "      <td>M</td>\n",
       "      <td>36-45</td>\n",
       "      <td>37</td>\n",
       "      <td>Unmarried</td>\n",
       "      <td>Karnataka</td>\n",
       "      <td>Southern</td>\n",
       "      <td>Agriculture</td>\n",
       "      <td>Office</td>\n",
       "      <td>3</td>\n",
       "      <td>206.0</td>\n",
       "    </tr>\n",
       "    <tr>\n",
       "      <th>11250</th>\n",
       "      <td>1002744</td>\n",
       "      <td>Brumley</td>\n",
       "      <td>P00281742</td>\n",
       "      <td>F</td>\n",
       "      <td>18-25</td>\n",
       "      <td>19</td>\n",
       "      <td>Unmarried</td>\n",
       "      <td>Maharashtra</td>\n",
       "      <td>Western</td>\n",
       "      <td>Healthcare</td>\n",
       "      <td>Office</td>\n",
       "      <td>3</td>\n",
       "      <td>188.0</td>\n",
       "    </tr>\n",
       "  </tbody>\n",
       "</table>\n",
       "<p>11251 rows × 13 columns</p>\n",
       "</div>"
      ],
      "text/plain": [
       "       User_ID    Cust_name Product_ID Gender Age Group  Age Marital_Status  \\\n",
       "0      1002903    Sanskriti  P00125942      F     26-35   28      Unmarried   \n",
       "1      1000732       Kartik  P00110942      F     26-35   35        Married   \n",
       "2      1001990        Bindu  P00118542      F     26-35   35        Married   \n",
       "3      1001425       Sudevi  P00237842      M      0-17   16      Unmarried   \n",
       "4      1000588         Joni  P00057942      M     26-35   28        Married   \n",
       "...        ...          ...        ...    ...       ...  ...            ...   \n",
       "11246  1000695      Manning  P00296942      M     18-25   19        Married   \n",
       "11247  1004089  Reichenbach  P00171342      M     26-35   33      Unmarried   \n",
       "11248  1001209        Oshin  P00201342      F     36-45   40      Unmarried   \n",
       "11249  1004023       Noonan  P00059442      M     36-45   37      Unmarried   \n",
       "11250  1002744      Brumley  P00281742      F     18-25   19      Unmarried   \n",
       "\n",
       "                State      Zone       Occupation Product_Category  Orders  \\\n",
       "0         Maharashtra   Western       Healthcare             Auto       1   \n",
       "1      Andhra Pradesh  Southern             Govt             Auto       3   \n",
       "2       Uttar Pradesh   Central       Automobile             Auto       3   \n",
       "3           Karnataka  Southern     Construction             Auto       2   \n",
       "4             Gujarat   Western  Food Processing             Auto       2   \n",
       "...               ...       ...              ...              ...     ...   \n",
       "11246     Maharashtra   Western         Chemical           Office       4   \n",
       "11247         Haryana  Northern       Healthcare       Veterinary       3   \n",
       "11248  Madhya Pradesh   Central          Textile           Office       4   \n",
       "11249       Karnataka  Southern      Agriculture           Office       3   \n",
       "11250     Maharashtra   Western       Healthcare           Office       3   \n",
       "\n",
       "        Amount  \n",
       "0      23952.0  \n",
       "1      23934.0  \n",
       "2      23924.0  \n",
       "3      23912.0  \n",
       "4      23877.0  \n",
       "...        ...  \n",
       "11246    370.0  \n",
       "11247    367.0  \n",
       "11248    213.0  \n",
       "11249    206.0  \n",
       "11250    188.0  \n",
       "\n",
       "[11251 rows x 13 columns]"
      ]
     },
     "execution_count": 3,
     "metadata": {},
     "output_type": "execute_result"
    }
   ],
   "source": [
    "## Remove all null value columns \n",
    "data=data.drop([\"Status\",\"unnamed1\"],axis=1)\n",
    "data"
   ]
  },
  {
   "cell_type": "code",
   "execution_count": 4,
   "id": "fb6747b8-43a5-4f2d-b1f3-730a1c00a1b6",
   "metadata": {},
   "outputs": [
    {
     "name": "stdout",
     "output_type": "stream",
     "text": [
      "<class 'pandas.core.frame.DataFrame'>\n",
      "RangeIndex: 11251 entries, 0 to 11250\n",
      "Data columns (total 13 columns):\n",
      " #   Column            Non-Null Count  Dtype  \n",
      "---  ------            --------------  -----  \n",
      " 0   User_ID           11251 non-null  int64  \n",
      " 1   Cust_name         11251 non-null  object \n",
      " 2   Product_ID        11251 non-null  object \n",
      " 3   Gender            11251 non-null  object \n",
      " 4   Age Group         11251 non-null  object \n",
      " 5   Age               11251 non-null  int64  \n",
      " 6   Marital_Status    11251 non-null  object \n",
      " 7   State             11251 non-null  object \n",
      " 8   Zone              11251 non-null  object \n",
      " 9   Occupation        11251 non-null  object \n",
      " 10  Product_Category  11251 non-null  object \n",
      " 11  Orders            11251 non-null  int64  \n",
      " 12  Amount            11239 non-null  float64\n",
      "dtypes: float64(1), int64(3), object(9)\n",
      "memory usage: 1.1+ MB\n"
     ]
    }
   ],
   "source": [
    "## Basic Information of data\n",
    "data.info()"
   ]
  },
  {
   "cell_type": "code",
   "execution_count": 5,
   "id": "0058f502-62dc-48e9-bfcb-a640ed69f6b9",
   "metadata": {},
   "outputs": [
    {
     "data": {
      "text/html": [
       "<div>\n",
       "<style scoped>\n",
       "    .dataframe tbody tr th:only-of-type {\n",
       "        vertical-align: middle;\n",
       "    }\n",
       "\n",
       "    .dataframe tbody tr th {\n",
       "        vertical-align: top;\n",
       "    }\n",
       "\n",
       "    .dataframe thead th {\n",
       "        text-align: right;\n",
       "    }\n",
       "</style>\n",
       "<table border=\"1\" class=\"dataframe\">\n",
       "  <thead>\n",
       "    <tr style=\"text-align: right;\">\n",
       "      <th></th>\n",
       "      <th>count</th>\n",
       "      <th>mean</th>\n",
       "      <th>std</th>\n",
       "      <th>min</th>\n",
       "      <th>25%</th>\n",
       "      <th>50%</th>\n",
       "      <th>75%</th>\n",
       "      <th>max</th>\n",
       "    </tr>\n",
       "  </thead>\n",
       "  <tbody>\n",
       "    <tr>\n",
       "      <th>User_ID</th>\n",
       "      <td>11251.0</td>\n",
       "      <td>1.003004e+06</td>\n",
       "      <td>1716.125402</td>\n",
       "      <td>1000001.0</td>\n",
       "      <td>1001492.0</td>\n",
       "      <td>1003065.0</td>\n",
       "      <td>1004430.0</td>\n",
       "      <td>1006040.0</td>\n",
       "    </tr>\n",
       "    <tr>\n",
       "      <th>Age</th>\n",
       "      <td>11251.0</td>\n",
       "      <td>3.542121e+01</td>\n",
       "      <td>12.754122</td>\n",
       "      <td>12.0</td>\n",
       "      <td>27.0</td>\n",
       "      <td>33.0</td>\n",
       "      <td>43.0</td>\n",
       "      <td>92.0</td>\n",
       "    </tr>\n",
       "    <tr>\n",
       "      <th>Orders</th>\n",
       "      <td>11251.0</td>\n",
       "      <td>2.489290e+00</td>\n",
       "      <td>1.115047</td>\n",
       "      <td>1.0</td>\n",
       "      <td>1.5</td>\n",
       "      <td>2.0</td>\n",
       "      <td>3.0</td>\n",
       "      <td>4.0</td>\n",
       "    </tr>\n",
       "    <tr>\n",
       "      <th>Amount</th>\n",
       "      <td>11239.0</td>\n",
       "      <td>9.453611e+03</td>\n",
       "      <td>5222.355869</td>\n",
       "      <td>188.0</td>\n",
       "      <td>5443.0</td>\n",
       "      <td>8109.0</td>\n",
       "      <td>12675.0</td>\n",
       "      <td>23952.0</td>\n",
       "    </tr>\n",
       "  </tbody>\n",
       "</table>\n",
       "</div>"
      ],
      "text/plain": [
       "           count          mean          std        min        25%        50%  \\\n",
       "User_ID  11251.0  1.003004e+06  1716.125402  1000001.0  1001492.0  1003065.0   \n",
       "Age      11251.0  3.542121e+01    12.754122       12.0       27.0       33.0   \n",
       "Orders   11251.0  2.489290e+00     1.115047        1.0        1.5        2.0   \n",
       "Amount   11239.0  9.453611e+03  5222.355869      188.0     5443.0     8109.0   \n",
       "\n",
       "               75%        max  \n",
       "User_ID  1004430.0  1006040.0  \n",
       "Age           43.0       92.0  \n",
       "Orders         3.0        4.0  \n",
       "Amount     12675.0    23952.0  "
      ]
     },
     "execution_count": 5,
     "metadata": {},
     "output_type": "execute_result"
    }
   ],
   "source": [
    "## Basic Description of Data\n",
    "pd.DataFrame(data.describe()).T"
   ]
  },
  {
   "cell_type": "code",
   "execution_count": 6,
   "id": "54b54a0d-cafc-4b13-a552-5b581889a0ab",
   "metadata": {},
   "outputs": [
    {
     "data": {
      "text/html": [
       "<div>\n",
       "<style scoped>\n",
       "    .dataframe tbody tr th:only-of-type {\n",
       "        vertical-align: middle;\n",
       "    }\n",
       "\n",
       "    .dataframe tbody tr th {\n",
       "        vertical-align: top;\n",
       "    }\n",
       "\n",
       "    .dataframe thead th {\n",
       "        text-align: right;\n",
       "    }\n",
       "</style>\n",
       "<table border=\"1\" class=\"dataframe\">\n",
       "  <thead>\n",
       "    <tr style=\"text-align: right;\">\n",
       "      <th></th>\n",
       "      <th>mean</th>\n",
       "      <th>std</th>\n",
       "      <th>min</th>\n",
       "      <th>25%</th>\n",
       "      <th>50%</th>\n",
       "      <th>75%</th>\n",
       "      <th>max</th>\n",
       "    </tr>\n",
       "  </thead>\n",
       "  <tbody>\n",
       "    <tr>\n",
       "      <th>User_ID</th>\n",
       "      <td>1.003004e+06</td>\n",
       "      <td>1716.125402</td>\n",
       "      <td>1000001.0</td>\n",
       "      <td>1001492.0</td>\n",
       "      <td>1003065.0</td>\n",
       "      <td>1004430.0</td>\n",
       "      <td>1006040.0</td>\n",
       "    </tr>\n",
       "    <tr>\n",
       "      <th>Age</th>\n",
       "      <td>3.542121e+01</td>\n",
       "      <td>12.754122</td>\n",
       "      <td>12.0</td>\n",
       "      <td>27.0</td>\n",
       "      <td>33.0</td>\n",
       "      <td>43.0</td>\n",
       "      <td>92.0</td>\n",
       "    </tr>\n",
       "    <tr>\n",
       "      <th>Orders</th>\n",
       "      <td>2.489290e+00</td>\n",
       "      <td>1.115047</td>\n",
       "      <td>1.0</td>\n",
       "      <td>1.5</td>\n",
       "      <td>2.0</td>\n",
       "      <td>3.0</td>\n",
       "      <td>4.0</td>\n",
       "    </tr>\n",
       "    <tr>\n",
       "      <th>Amount</th>\n",
       "      <td>9.453611e+03</td>\n",
       "      <td>5222.355869</td>\n",
       "      <td>188.0</td>\n",
       "      <td>5443.0</td>\n",
       "      <td>8109.0</td>\n",
       "      <td>12675.0</td>\n",
       "      <td>23952.0</td>\n",
       "    </tr>\n",
       "  </tbody>\n",
       "</table>\n",
       "</div>"
      ],
      "text/plain": [
       "                 mean          std        min        25%        50%  \\\n",
       "User_ID  1.003004e+06  1716.125402  1000001.0  1001492.0  1003065.0   \n",
       "Age      3.542121e+01    12.754122       12.0       27.0       33.0   \n",
       "Orders   2.489290e+00     1.115047        1.0        1.5        2.0   \n",
       "Amount   9.453611e+03  5222.355869      188.0     5443.0     8109.0   \n",
       "\n",
       "               75%        max  \n",
       "User_ID  1004430.0  1006040.0  \n",
       "Age           43.0       92.0  \n",
       "Orders         3.0        4.0  \n",
       "Amount     12675.0    23952.0  "
      ]
     },
     "execution_count": 6,
     "metadata": {},
     "output_type": "execute_result"
    }
   ],
   "source": [
    "\n",
    "## Remove count column\n",
    "pd.DataFrame(data.describe()).T.drop(columns=\"count\")"
   ]
  },
  {
   "cell_type": "code",
   "execution_count": 7,
   "id": "a91ec782-4e45-4f1c-8e52-36ecb186c350",
   "metadata": {},
   "outputs": [
    {
     "data": {
      "text/plain": [
       "Index(['User_ID', 'Cust_name', 'Product_ID', 'Gender', 'Age Group', 'Age',\n",
       "       'Marital_Status', 'State', 'Zone', 'Occupation', 'Product_Category',\n",
       "       'Orders', 'Amount'],\n",
       "      dtype='object')"
      ]
     },
     "execution_count": 7,
     "metadata": {},
     "output_type": "execute_result"
    }
   ],
   "source": [
    "data.columns"
   ]
  },
  {
   "cell_type": "markdown",
   "id": "9ce8bb28-9c6f-4308-93d4-3de6950524e7",
   "metadata": {},
   "source": [
    "## Found Discrepancies from column "
   ]
  },
  {
   "cell_type": "code",
   "execution_count": 8,
   "id": "148224e0-aaf9-4749-b8d8-e21744680f35",
   "metadata": {},
   "outputs": [
    {
     "data": {
      "text/plain": [
       "array(['Sanskriti', 'Kartik', 'Bindu', ..., 'Chris', 'Madan Mohan',\n",
       "       'Nicole'], dtype=object)"
      ]
     },
     "execution_count": 8,
     "metadata": {},
     "output_type": "execute_result"
    }
   ],
   "source": [
    "\n",
    "data[\"Cust_name\"].unique()"
   ]
  },
  {
   "cell_type": "code",
   "execution_count": 9,
   "id": "7d3ac2c7-52fa-4f4e-bf65-3ab42a2fe999",
   "metadata": {},
   "outputs": [
    {
     "data": {
      "text/plain": [
       "array(['F', 'M'], dtype=object)"
      ]
     },
     "execution_count": 9,
     "metadata": {},
     "output_type": "execute_result"
    }
   ],
   "source": [
    "data[\"Gender\"].unique()"
   ]
  },
  {
   "cell_type": "code",
   "execution_count": 10,
   "id": "91b0decd-683f-449b-bb57-255a9d822268",
   "metadata": {},
   "outputs": [
    {
     "data": {
      "text/plain": [
       "array(['Maharashtra', 'Andhra\\xa0Pradesh', 'Uttar Pradesh', 'Karnataka',\n",
       "       'Gujarat', 'Himachal Pradesh', 'Delhi', 'Madhya Pradesh',\n",
       "       'Jharkhand', 'Kerala', 'Haryana', 'Bihar', 'Rajasthan',\n",
       "       'Uttarakhand', 'Telangana', 'Punjab'], dtype=object)"
      ]
     },
     "execution_count": 10,
     "metadata": {},
     "output_type": "execute_result"
    }
   ],
   "source": [
    "data[\"State\"].unique()"
   ]
  },
  {
   "cell_type": "code",
   "execution_count": 11,
   "id": "6f32aa9d-10e1-46ee-aff8-be890418d322",
   "metadata": {},
   "outputs": [],
   "source": [
    "## Replacing wrongly spelled name \n",
    "data[\"State\"]=data.State.replace(\"Andhra\\xa0Pradesh\",\"Andhra Pradesh\")"
   ]
  },
  {
   "cell_type": "code",
   "execution_count": 12,
   "id": "2ca86a23-6686-4d6c-a542-2f8225d5e040",
   "metadata": {},
   "outputs": [
    {
     "data": {
      "text/plain": [
       "array(['Maharashtra', 'Andhra Pradesh', 'Uttar Pradesh', 'Karnataka',\n",
       "       'Gujarat', 'Himachal Pradesh', 'Delhi', 'Madhya Pradesh',\n",
       "       'Jharkhand', 'Kerala', 'Haryana', 'Bihar', 'Rajasthan',\n",
       "       'Uttarakhand', 'Telangana', 'Punjab'], dtype=object)"
      ]
     },
     "execution_count": 12,
     "metadata": {},
     "output_type": "execute_result"
    }
   ],
   "source": [
    "data[\"State\"].unique()"
   ]
  },
  {
   "cell_type": "code",
   "execution_count": 13,
   "id": "03838a63-ebd2-4e5a-9f01-042a8a52af25",
   "metadata": {},
   "outputs": [
    {
     "data": {
      "text/plain": [
       "array(['Western', 'Southern', 'Central', 'Northern', 'Eastern'],\n",
       "      dtype=object)"
      ]
     },
     "execution_count": 13,
     "metadata": {},
     "output_type": "execute_result"
    }
   ],
   "source": [
    "data[\"Zone\"].unique()"
   ]
  },
  {
   "cell_type": "code",
   "execution_count": 14,
   "id": "9389730e-6e77-4bd4-80d4-17a48b69cb0a",
   "metadata": {},
   "outputs": [
    {
     "data": {
      "text/plain": [
       "array(['Healthcare', 'Govt', 'Automobile', 'Construction',\n",
       "       'Food Processing', 'Lawyer', 'IT Sector', 'Media', 'Banking',\n",
       "       'Retail', 'Hospitality', 'Aviation', 'Agriculture', 'Textile',\n",
       "       'Chemical'], dtype=object)"
      ]
     },
     "execution_count": 14,
     "metadata": {},
     "output_type": "execute_result"
    }
   ],
   "source": [
    "data[\"Occupation\"].unique()"
   ]
  },
  {
   "cell_type": "code",
   "execution_count": 15,
   "id": "43370bf4-a443-4a10-b457-df46dd0679c3",
   "metadata": {},
   "outputs": [
    {
     "data": {
      "text/plain": [
       "8900"
      ]
     },
     "execution_count": 15,
     "metadata": {},
     "output_type": "execute_result"
    }
   ],
   "source": [
    "data.duplicated(\"Product_ID\").sum()"
   ]
  },
  {
   "cell_type": "code",
   "execution_count": 16,
   "id": "5cf6b163-a4b7-46be-bd54-87ec2c13a52c",
   "metadata": {},
   "outputs": [
    {
     "data": {
      "text/plain": [
       "7496"
      ]
     },
     "execution_count": 16,
     "metadata": {},
     "output_type": "execute_result"
    }
   ],
   "source": [
    "data.duplicated(\"User_ID\").sum()"
   ]
  },
  {
   "cell_type": "code",
   "execution_count": 17,
   "id": "b0c0f6d8-2f31-496f-8347-d15e29eb9501",
   "metadata": {},
   "outputs": [
    {
     "data": {
      "text/plain": [
       "User_ID              0\n",
       "Cust_name            0\n",
       "Product_ID           0\n",
       "Gender               0\n",
       "Age Group            0\n",
       "Age                  0\n",
       "Marital_Status       0\n",
       "State                0\n",
       "Zone                 0\n",
       "Occupation           0\n",
       "Product_Category     0\n",
       "Orders               0\n",
       "Amount              12\n",
       "dtype: int64"
      ]
     },
     "execution_count": 17,
     "metadata": {},
     "output_type": "execute_result"
    }
   ],
   "source": [
    "data.isnull().sum()"
   ]
  },
  {
   "cell_type": "code",
   "execution_count": 18,
   "id": "c42ea5fd-c545-4bc4-a62b-07894861a88c",
   "metadata": {},
   "outputs": [],
   "source": [
    "data=data.dropna(subset=[\"Amount\"])"
   ]
  },
  {
   "cell_type": "code",
   "execution_count": 19,
   "id": "1d51af26-1503-493f-8d2c-0d839f290c05",
   "metadata": {},
   "outputs": [
    {
     "data": {
      "text/plain": [
       "User_ID             0\n",
       "Cust_name           0\n",
       "Product_ID          0\n",
       "Gender              0\n",
       "Age Group           0\n",
       "Age                 0\n",
       "Marital_Status      0\n",
       "State               0\n",
       "Zone                0\n",
       "Occupation          0\n",
       "Product_Category    0\n",
       "Orders              0\n",
       "Amount              0\n",
       "dtype: int64"
      ]
     },
     "execution_count": 19,
     "metadata": {},
     "output_type": "execute_result"
    }
   ],
   "source": [
    "data.isnull().sum()"
   ]
  },
  {
   "cell_type": "markdown",
   "id": "bb3be610-77e9-4c58-8eb5-f6b687c4a869",
   "metadata": {},
   "source": [
    "## EDA"
   ]
  },
  {
   "cell_type": "code",
   "execution_count": 20,
   "id": "d6f320d7-9097-435f-8e1a-b8b91e3420f3",
   "metadata": {},
   "outputs": [
    {
     "data": {
      "text/plain": [
       "Index(['User_ID', 'Cust_name', 'Product_ID', 'Gender', 'Age Group', 'Age',\n",
       "       'Marital_Status', 'State', 'Zone', 'Occupation', 'Product_Category',\n",
       "       'Orders', 'Amount'],\n",
       "      dtype='object')"
      ]
     },
     "execution_count": 20,
     "metadata": {},
     "output_type": "execute_result"
    }
   ],
   "source": [
    "data.columns"
   ]
  },
  {
   "cell_type": "code",
   "execution_count": 53,
   "id": "d31144c1-73e8-4d23-ad85-fce2ff260d76",
   "metadata": {},
   "outputs": [
    {
     "data": {
      "text/plain": [
       "Gender\n",
       "F    7832\n",
       "M    3407\n",
       "Name: Gender, dtype: int64"
      ]
     },
     "execution_count": 53,
     "metadata": {},
     "output_type": "execute_result"
    }
   ],
   "source": [
    "## No. of Males and Females\n",
    "g=data.groupby(\"Gender\")[\"Gender\"].count()\n",
    "g"
   ]
  },
  {
   "cell_type": "code",
   "execution_count": 52,
   "id": "89422b92-b10f-4b20-aaaf-7a16b8e11460",
   "metadata": {},
   "outputs": [
    {
     "data": {
      "text/plain": [
       "<Axes: xlabel='Gender'>"
      ]
     },
     "execution_count": 52,
     "metadata": {},
     "output_type": "execute_result"
    },
    {
     "data": {
      "image/png": "[encoded data removed]",
      "text/plain": [
       "<Figure size 640x480 with 1 Axes>"
      ]
     },
     "metadata": {},
     "output_type": "display_data"
    }
   ],
   "source": [
    "g.plot.bar(color=[\"red\",\"green\"])"
   ]
  },
  {
   "cell_type": "code",
   "execution_count": 54,
   "id": "a514718d-5013-4e50-a7f9-17cfdc6bd706",
   "metadata": {},
   "outputs": [
    {
     "data": {
      "text/plain": [
       "Marital_Status\n",
       "Married      4721\n",
       "Unmarried    6518\n",
       "Name: Marital_Status, dtype: int64"
      ]
     },
     "execution_count": 54,
     "metadata": {},
     "output_type": "execute_result"
    }
   ],
   "source": [
    "mas=data.groupby(\"Marital_Status\")[\"Marital_Status\"].count()\n",
    "mas"
   ]
  },
  {
   "cell_type": "code",
   "execution_count": 56,
   "id": "8811aa47-123b-4ebf-9ddb-4946a93120f6",
   "metadata": {},
   "outputs": [
    {
     "data": {
      "text/plain": [
       "<Axes: xlabel='Marital_Status'>"
      ]
     },
     "execution_count": 56,
     "metadata": {},
     "output_type": "execute_result"
    },
    {
     "data": {
      "image/png": "[encoded data removed]",
      "text/plain": [
       "<Figure size 640x480 with 1 Axes>"
      ]
     },
     "metadata": {},
     "output_type": "display_data"
    }
   ],
   "source": [
    "mas.plot.bar(color=[\"blue\",\"pink\"])"
   ]
  },
  {
   "cell_type": "code",
   "execution_count": 23,
   "id": "9e59daf1-1f98-43cd-92b1-d84a78b16658",
   "metadata": {},
   "outputs": [
    {
     "data": {
      "text/plain": [
       "State\n",
       "Andhra Pradesh       811\n",
       "Bihar                434\n",
       "Delhi               1104\n",
       "Gujarat              427\n",
       "Haryana              452\n",
       "Himachal Pradesh     608\n",
       "Jharkhand            380\n",
       "Karnataka           1304\n",
       "Kerala               453\n",
       "Madhya Pradesh       921\n",
       "Maharashtra         1525\n",
       "Punjab               200\n",
       "Rajasthan            231\n",
       "Telangana            125\n",
       "Uttar Pradesh       1944\n",
       "Uttarakhand          320\n",
       "Name: State, dtype: int64"
      ]
     },
     "execution_count": 23,
     "metadata": {},
     "output_type": "execute_result"
    }
   ],
   "source": [
    "data.groupby(\"State\")[\"State\"].count()"
   ]
  },
  {
   "cell_type": "code",
   "execution_count": 24,
   "id": "6095127b-5914-43cf-ad5c-bbc4801d77c0",
   "metadata": {},
   "outputs": [
    {
     "data": {
      "text/plain": [
       "Zone\n",
       "Central     4289\n",
       "Eastern      814\n",
       "Northern    1491\n",
       "Southern    2693\n",
       "Western     1952\n",
       "Name: Zone, dtype: int64"
      ]
     },
     "execution_count": 24,
     "metadata": {},
     "output_type": "execute_result"
    }
   ],
   "source": [
    "data.groupby(\"Zone\")[\"Zone\"].count()"
   ]
  },
  {
   "cell_type": "code",
   "execution_count": 25,
   "id": "72f20249-3295-4b00-beba-ab4436bf6cbf",
   "metadata": {},
   "outputs": [
    {
     "data": {
      "text/plain": [
       "Occupation\n",
       "Agriculture         283\n",
       "Automobile          565\n",
       "Aviation           1310\n",
       "Banking            1137\n",
       "Chemical            541\n",
       "Construction        414\n",
       "Food Processing     423\n",
       "Govt                854\n",
       "Healthcare         1408\n",
       "Hospitality         703\n",
       "IT Sector          1583\n",
       "Lawyer              531\n",
       "Media               637\n",
       "Retail              501\n",
       "Textile             349\n",
       "Name: Occupation, dtype: int64"
      ]
     },
     "execution_count": 25,
     "metadata": {},
     "output_type": "execute_result"
    }
   ],
   "source": [
    "data.groupby(\"Occupation\")[\"Occupation\"].count()"
   ]
  },
  {
   "cell_type": "code",
   "execution_count": 26,
   "id": "2a6c51c2-1646-4c04-8345-b666d565c406",
   "metadata": {},
   "outputs": [
    {
     "data": {
      "text/plain": [
       "Orders\n",
       "1    2808\n",
       "2    2893\n",
       "3    2765\n",
       "4    2773\n",
       "Name: Orders, dtype: int64"
      ]
     },
     "execution_count": 26,
     "metadata": {},
     "output_type": "execute_result"
    }
   ],
   "source": [
    "data.groupby(\"Orders\")[\"Orders\"].count()"
   ]
  },
  {
   "cell_type": "code",
   "execution_count": 27,
   "id": "c8b68e24-a19a-4f6f-a314-3b4c54fefadf",
   "metadata": {},
   "outputs": [
    {
     "data": {
      "text/html": [
       "<div>\n",
       "<style scoped>\n",
       "    .dataframe tbody tr th:only-of-type {\n",
       "        vertical-align: middle;\n",
       "    }\n",
       "\n",
       "    .dataframe tbody tr th {\n",
       "        vertical-align: top;\n",
       "    }\n",
       "\n",
       "    .dataframe thead th {\n",
       "        text-align: right;\n",
       "    }\n",
       "</style>\n",
       "<table border=\"1\" class=\"dataframe\">\n",
       "  <thead>\n",
       "    <tr style=\"text-align: right;\">\n",
       "      <th></th>\n",
       "      <th>Gender</th>\n",
       "      <th>Marital_Status</th>\n",
       "      <th>Amount</th>\n",
       "    </tr>\n",
       "  </thead>\n",
       "  <tbody>\n",
       "    <tr>\n",
       "      <th>0</th>\n",
       "      <td>F</td>\n",
       "      <td>Unmarried</td>\n",
       "      <td>23952.0</td>\n",
       "    </tr>\n",
       "    <tr>\n",
       "      <th>1</th>\n",
       "      <td>F</td>\n",
       "      <td>Married</td>\n",
       "      <td>23934.0</td>\n",
       "    </tr>\n",
       "    <tr>\n",
       "      <th>2</th>\n",
       "      <td>F</td>\n",
       "      <td>Married</td>\n",
       "      <td>23924.0</td>\n",
       "    </tr>\n",
       "    <tr>\n",
       "      <th>3</th>\n",
       "      <td>M</td>\n",
       "      <td>Unmarried</td>\n",
       "      <td>23912.0</td>\n",
       "    </tr>\n",
       "    <tr>\n",
       "      <th>4</th>\n",
       "      <td>M</td>\n",
       "      <td>Married</td>\n",
       "      <td>23877.0</td>\n",
       "    </tr>\n",
       "    <tr>\n",
       "      <th>...</th>\n",
       "      <td>...</td>\n",
       "      <td>...</td>\n",
       "      <td>...</td>\n",
       "    </tr>\n",
       "    <tr>\n",
       "      <th>11246</th>\n",
       "      <td>M</td>\n",
       "      <td>Married</td>\n",
       "      <td>370.0</td>\n",
       "    </tr>\n",
       "    <tr>\n",
       "      <th>11247</th>\n",
       "      <td>M</td>\n",
       "      <td>Unmarried</td>\n",
       "      <td>367.0</td>\n",
       "    </tr>\n",
       "    <tr>\n",
       "      <th>11248</th>\n",
       "      <td>F</td>\n",
       "      <td>Unmarried</td>\n",
       "      <td>213.0</td>\n",
       "    </tr>\n",
       "    <tr>\n",
       "      <th>11249</th>\n",
       "      <td>M</td>\n",
       "      <td>Unmarried</td>\n",
       "      <td>206.0</td>\n",
       "    </tr>\n",
       "    <tr>\n",
       "      <th>11250</th>\n",
       "      <td>F</td>\n",
       "      <td>Unmarried</td>\n",
       "      <td>188.0</td>\n",
       "    </tr>\n",
       "  </tbody>\n",
       "</table>\n",
       "<p>11239 rows × 3 columns</p>\n",
       "</div>"
      ],
      "text/plain": [
       "      Gender Marital_Status   Amount\n",
       "0          F      Unmarried  23952.0\n",
       "1          F        Married  23934.0\n",
       "2          F        Married  23924.0\n",
       "3          M      Unmarried  23912.0\n",
       "4          M        Married  23877.0\n",
       "...      ...            ...      ...\n",
       "11246      M        Married    370.0\n",
       "11247      M      Unmarried    367.0\n",
       "11248      F      Unmarried    213.0\n",
       "11249      M      Unmarried    206.0\n",
       "11250      F      Unmarried    188.0\n",
       "\n",
       "[11239 rows x 3 columns]"
      ]
     },
     "execution_count": 27,
     "metadata": {},
     "output_type": "execute_result"
    }
   ],
   "source": [
    "buy=data[[\"Gender\",\"Marital_Status\",\"Amount\"]].dropna()\n",
    "buy"
   ]
  },
  {
   "cell_type": "code",
   "execution_count": 59,
   "id": "6bf4dc63-1fba-4f44-8c92-ce8907735994",
   "metadata": {},
   "outputs": [
    {
     "data": {
      "text/html": [
       "<div>\n",
       "<style scoped>\n",
       "    .dataframe tbody tr th:only-of-type {\n",
       "        vertical-align: middle;\n",
       "    }\n",
       "\n",
       "    .dataframe tbody tr th {\n",
       "        vertical-align: top;\n",
       "    }\n",
       "\n",
       "    .dataframe thead th {\n",
       "        text-align: right;\n",
       "    }\n",
       "</style>\n",
       "<table border=\"1\" class=\"dataframe\">\n",
       "  <thead>\n",
       "    <tr style=\"text-align: right;\">\n",
       "      <th>Gender</th>\n",
       "      <th>F</th>\n",
       "      <th>M</th>\n",
       "    </tr>\n",
       "    <tr>\n",
       "      <th>Marital_Status</th>\n",
       "      <th></th>\n",
       "      <th></th>\n",
       "    </tr>\n",
       "  </thead>\n",
       "  <tbody>\n",
       "    <tr>\n",
       "      <th>Married</th>\n",
       "      <td>30549207.99</td>\n",
       "      <td>13574538.0</td>\n",
       "    </tr>\n",
       "    <tr>\n",
       "      <th>Unmarried</th>\n",
       "      <td>43786648.44</td>\n",
       "      <td>18338738.0</td>\n",
       "    </tr>\n",
       "  </tbody>\n",
       "</table>\n",
       "</div>"
      ],
      "text/plain": [
       "Gender                    F           M\n",
       "Marital_Status                         \n",
       "Married         30549207.99  13574538.0\n",
       "Unmarried       43786648.44  18338738.0"
      ]
     },
     "execution_count": 59,
     "metadata": {},
     "output_type": "execute_result"
    }
   ],
   "source": [
    "df=data.groupby([\"Marital_Status\",\"Gender\"])[\"Amount\"].sum().unstack()\n",
    "df"
   ]
  },
  {
   "cell_type": "code",
   "execution_count": 60,
   "id": "638b4fa8-6ddb-4ff0-a9d2-65e86ac6619c",
   "metadata": {},
   "outputs": [
    {
     "data": {
      "text/plain": [
       "<Axes: xlabel='Marital_Status'>"
      ]
     },
     "execution_count": 60,
     "metadata": {},
     "output_type": "execute_result"
    },
    {
     "data": {
      "image/png": "[encoded data removed]",
      "text/plain": [
       "<Figure size 640x480 with 1 Axes>"
      ]
     },
     "metadata": {},
     "output_type": "display_data"
    }
   ],
   "source": [
    "df.plot.bar()"
   ]
  },
  {
   "cell_type": "raw",
   "id": "d9cbc8a3-755c-4b49-8afe-d7aed3eac1a5",
   "metadata": {},
   "source": [
    "By abhove analysis \"Umarried women\" have  more  purchasing power  as compared to \"married/unmarried male and Married female\"\n"
   ]
  },
  {
   "cell_type": "markdown",
   "id": "04789627-ff87-47df-9e98-db65b7d2d596",
   "metadata": {},
   "source": [
    "## Which age group people tend to spend more time on shopping "
   ]
  },
  {
   "cell_type": "code",
   "execution_count": 44,
   "id": "acb8b491-0226-4829-b842-84c9f67548ed",
   "metadata": {},
   "outputs": [
    {
     "data": {
      "text/plain": [
       "Age Group\n",
       "0-17      2699653.00\n",
       "18-25    17240732.00\n",
       "26-35    42613443.94\n",
       "36-45    22144995.49\n",
       "46-50     9207844.00\n",
       "51-55     8261477.00\n",
       "55+       4080987.00\n",
       "Name: Amount, dtype: float64"
      ]
     },
     "execution_count": 44,
     "metadata": {},
     "output_type": "execute_result"
    }
   ],
   "source": [
    "age=data.groupby(\"Age Group\")[\"Amount\"].sum()\n",
    "age\n"
   ]
  },
  {
   "cell_type": "code",
   "execution_count": 61,
   "id": "1059a824-90cc-4733-a71b-098230da10ac",
   "metadata": {},
   "outputs": [
    {
     "data": {
      "text/plain": [
       "<Axes: xlabel='Age Group'>"
      ]
     },
     "execution_count": 61,
     "metadata": {},
     "output_type": "execute_result"
    },
    {
     "data": {
      "image/png": "[encoded data removed]",
      "text/plain": [
       "<Figure size 640x480 with 1 Axes>"
      ]
     },
     "metadata": {},
     "output_type": "display_data"
    }
   ],
   "source": [
    "age.plot.bar(color=[\"firebrick\",\"greenyellow\",\"teal\",\"cyan\",\"lawngreen\",\"slateblue\",\"deeppink\"])"
   ]
  },
  {
   "cell_type": "raw",
   "id": "9db05be9-1f59-4d59-b9bb-9b6743d88540",
   "metadata": {},
   "source": [
    "From Abhove grapg we can see mostly 26-35 age groups spends their time on shopping "
   ]
  },
  {
   "cell_type": "markdown",
   "id": "5633475d-d852-48a4-b4b8-ae31d09391eb",
   "metadata": {},
   "source": [
    "## Director of the company wants to know which state should they target for more profit "
   ]
  },
  {
   "cell_type": "code",
   "execution_count": 47,
   "id": "afffd387-1106-4049-9cfc-b1ce2196d75f",
   "metadata": {},
   "outputs": [
    {
     "data": {
      "text/plain": [
       "State\n",
       "Uttar Pradesh       19374968.00\n",
       "Maharashtra         14427543.00\n",
       "Karnataka           13523540.00\n",
       "Delhi               11603819.45\n",
       "Madhya Pradesh       8101142.00\n",
       "Andhra Pradesh       8037146.99\n",
       "Himachal Pradesh     4963368.00\n",
       "Haryana              4220175.00\n",
       "Bihar                4022757.00\n",
       "Gujarat              3946082.00\n",
       "Kerala               3894491.99\n",
       "Jharkhand            3026456.00\n",
       "Uttarakhand          2520944.00\n",
       "Rajasthan            1909409.00\n",
       "Punjab               1525800.00\n",
       "Telangana            1151490.00\n",
       "Name: Amount, dtype: float64"
      ]
     },
     "execution_count": 47,
     "metadata": {},
     "output_type": "execute_result"
    }
   ],
   "source": [
    "state=data.groupby(\"State\")[\"Amount\"].sum().sort_values(ascending=False)\n",
    "state"
   ]
  },
  {
   "cell_type": "code",
   "execution_count": 64,
   "id": "796ec300-8110-4f8b-9eb8-d708b0053289",
   "metadata": {},
   "outputs": [
    {
     "data": {
      "text/plain": [
       "<Axes: xlabel='State'>"
      ]
     },
     "execution_count": 64,
     "metadata": {},
     "output_type": "execute_result"
    },
    {
     "data": {
      "image/png": "[encoded data removed]",
      "text/plain": [
       "<Figure size 640x480 with 1 Axes>"
      ]
     },
     "metadata": {},
     "output_type": "display_data"
    }
   ],
   "source": [
    "state.plot.bar(color=[\"brown\",\"chocolate\",\"darkorange\",\"yellow\",\"lawngreen\",\"aquamarine\",\"dodgerblue\",\"navy\",\"crimson\",\"darkviolet\",\"salmon\",\"sandybrown\",\"gold\",\"tan\",\"maroon\",\"green\"])"
   ]
  },
  {
   "cell_type": "code",
   "execution_count": 49,
   "id": "6ae6c25e-89f5-4b38-a04d-a9ce9ede97bc",
   "metadata": {},
   "outputs": [
    {
     "data": {
      "text/plain": [
       "State\n",
       "Uttar Pradesh     4807\n",
       "Maharashtra       3810\n",
       "Karnataka         3240\n",
       "Delhi             2740\n",
       "Madhya Pradesh    2252\n",
       "Name: Orders, dtype: int64"
      ]
     },
     "execution_count": 49,
     "metadata": {},
     "output_type": "execute_result"
    }
   ],
   "source": [
    "## Top 5 states for orders \n",
    "so=data.groupby(\"State\")[\"Orders\"].sum().sort_values(ascending=False).head(5)\n",
    "so"
   ]
  },
  {
   "cell_type": "code",
   "execution_count": 65,
   "id": "3acc600c-ba88-4481-b930-ef2fe005f06c",
   "metadata": {},
   "outputs": [
    {
     "data": {
      "text/plain": [
       "<Axes: xlabel='State'>"
      ]
     },
     "execution_count": 65,
     "metadata": {},
     "output_type": "execute_result"
    },
    {
     "data": {
      "image/png": "[encoded data removed]",
      "text/plain": [
       "<Figure size 640x480 with 1 Axes>"
      ]
     },
     "metadata": {},
     "output_type": "display_data"
    }
   ],
   "source": [
    "so.plot.bar(color=[\"red\",\"green\",\"blue\",\"yellow\",\"pink\"])"
   ]
  },
  {
   "cell_type": "raw",
   "id": "c7e72f4a-b6a3-4e47-9513-f3afc9c09c88",
   "metadata": {},
   "source": [
    "By abhove analysis UttarPradesh's can easily be targeted for more profit"
   ]
  },
  {
   "cell_type": "markdown",
   "id": "c9cb2b4f-79e9-4771-b664-bd98ab82637e",
   "metadata": {},
   "source": [
    "##  Which sector spends more income "
   ]
  },
  {
   "cell_type": "code",
   "execution_count": 68,
   "id": "a67d0862-8de3-46c3-a275-4e503a0d3d1c",
   "metadata": {},
   "outputs": [
    {
     "data": {
      "text/plain": [
       "Occupation\n",
       "IT Sector          14755079.00\n",
       "Healthcare         13034587.49\n",
       "Aviation           12602298.00\n",
       "Banking            10770610.95\n",
       "Govt                8517212.00\n",
       "Hospitality         6376405.00\n",
       "Media               6295832.99\n",
       "Automobile          5368596.00\n",
       "Chemical            5297436.00\n",
       "Lawyer              4981665.00\n",
       "Retail              4783170.00\n",
       "Food Processing     4070670.00\n",
       "Construction        3597511.00\n",
       "Textile             3204972.00\n",
       "Agriculture         2593087.00\n",
       "Name: Amount, dtype: float64"
      ]
     },
     "execution_count": 68,
     "metadata": {},
     "output_type": "execute_result"
    }
   ],
   "source": [
    "occp=data.groupby(\"Occupation\")[\"Amount\"].sum().sort_values(ascending=False)\n",
    "occp"
   ]
  },
  {
   "cell_type": "code",
   "execution_count": 70,
   "id": "1b3f4696-2a2e-421c-962b-90976bced80c",
   "metadata": {},
   "outputs": [
    {
     "data": {
      "text/plain": [
       "<Axes: xlabel='Occupation'>"
      ]
     },
     "execution_count": 70,
     "metadata": {},
     "output_type": "execute_result"
    },
    {
     "data": {
      "image/png": "[encoded data removed]",
      "text/plain": [
       "<Figure size 640x480 with 1 Axes>"
      ]
     },
     "metadata": {},
     "output_type": "display_data"
    }
   ],
   "source": [
    "occp.plot.bar(color=[\"darkviolet\",\"salmon\",\"sandybrown\",\"gold\",\"tan\",\"maroon\",\"green\",\"red\",\"olive\",\"forestgreen\",\"navy\",\"mediumpurple\",\"lightseagreen\",\"orchid\",\"slategray\"])"
   ]
  },
  {
   "cell_type": "code",
   "execution_count": 71,
   "id": "4805d04c-6362-4ea8-8e5c-1268c20834ad",
   "metadata": {},
   "outputs": [
    {
     "data": {
      "text/plain": [
       "Product_Category\n",
       "Food                     33933883.50\n",
       "Clothing & Apparel       16495019.00\n",
       "Electronics & Gadgets    15643846.00\n",
       "Footwear & Shoes         15575209.45\n",
       "Furniture                 5440051.99\n",
       "Games & Toys              4331694.00\n",
       "Sports Products           3635933.00\n",
       "Beauty                    1959484.00\n",
       "Auto                      1958609.99\n",
       "Stationery                1676051.50\n",
       "Household items           1569337.00\n",
       "Tupperware                1155642.00\n",
       "Books                     1061478.00\n",
       "Decor                      730360.00\n",
       "Pet Care                   482277.00\n",
       "Hand & Power Tools         405618.00\n",
       "Veterinary                 112702.00\n",
       "Office                      81936.00\n",
       "Name: Amount, dtype: float64"
      ]
     },
     "execution_count": 71,
     "metadata": {},
     "output_type": "execute_result"
    }
   ],
   "source": [
    "pro=data.groupby(\"Product_Category\")[\"Amount\"].sum().sort_values(ascending=False)\n",
    "pro"
   ]
  },
  {
   "cell_type": "code",
   "execution_count": 72,
   "id": "fb55b375-b282-4caf-a338-d28a1c575a1a",
   "metadata": {},
   "outputs": [
    {
     "data": {
      "text/plain": [
       "<Axes: xlabel='Product_Category'>"
      ]
     },
     "execution_count": 72,
     "metadata": {},
     "output_type": "execute_result"
    },
    {
     "data": {
      "image/png": "[encoded data removed]",
      "text/plain": [
       "<Figure size 640x480 with 1 Axes>"
      ]
     },
     "metadata": {},
     "output_type": "display_data"
    }
   ],
   "source": [
    "pro.plot.bar(color=[\"darkviolet\",\"salmon\",\"sandybrown\",\"gold\",\"tan\",\"maroon\",\"green\",\"red\",\"olive\",\"forestgreen\",\"navy\",\"mediumpurple\",\"lightseagreen\",\"orchid\",\"slategray\"])"
   ]
  },
  {
   "cell_type": "code",
   "execution_count": 73,
   "id": "f6e2e6a4-bb82-4d2e-b065-3c11a525ac77",
   "metadata": {},
   "outputs": [
    {
     "data": {
      "text/plain": [
       "Product_ID\n",
       "P00265242    127\n",
       "P00110942    116\n",
       "P00237542     91\n",
       "P00184942     82\n",
       "P00114942     79\n",
       "P00025442     79\n",
       "P00117942     76\n",
       "P00145042     76\n",
       "P00044442     75\n",
       "P00110842     74\n",
       "Name: Orders, dtype: int64"
      ]
     },
     "execution_count": 73,
     "metadata": {},
     "output_type": "execute_result"
    }
   ],
   "source": [
    "pro=data.groupby(\"Product_ID\")[\"Orders\"].sum().sort_values(ascending=False).head(10)\n",
    "pro"
   ]
  },
  {
   "cell_type": "code",
   "execution_count": 75,
   "id": "ffae007b-7933-4519-a9fb-2cd611fa6f0f",
   "metadata": {},
   "outputs": [
    {
     "data": {
      "text/plain": [
       "<Axes: xlabel='Product_ID'>"
      ]
     },
     "execution_count": 75,
     "metadata": {},
     "output_type": "execute_result"
    },
    {
     "data": {
      "image/png": "[encoded data removed]",
      "text/plain": [
       "<Figure size 640x480 with 1 Axes>"
      ]
     },
     "metadata": {},
     "output_type": "display_data"
    }
   ],
   "source": [
    "pro.plot.bar(color=[\"gold\",\"tan\",\"maroon\",\"green\",\"red\",\"olive\",\"forestgreen\",\"navy\",\"mediumpurple\",\"lightseagreen\"])"
   ]
  },
  {
   "cell_type": "code",
   "execution_count": 87,
   "id": "0738fc59-b17a-49b3-a5ab-50d598b6d098",
   "metadata": {},
   "outputs": [
    {
     "data": {
      "text/plain": [
       "State             Zone    \n",
       "Uttar Pradesh     Central     1944\n",
       "Maharashtra       Western     1525\n",
       "Karnataka         Southern    1304\n",
       "Delhi             Central     1104\n",
       "Madhya Pradesh    Central      921\n",
       "Andhra Pradesh    Southern     811\n",
       "Himachal Pradesh  Northern     608\n",
       "Kerala            Southern     453\n",
       "Haryana           Northern     452\n",
       "Bihar             Eastern      434\n",
       "Gujarat           Western      427\n",
       "Jharkhand         Eastern      380\n",
       "Uttarakhand       Central      320\n",
       "Rajasthan         Northern     231\n",
       "Punjab            Northern     200\n",
       "Telangana         Southern     125\n",
       "Name: Orders, dtype: int64"
      ]
     },
     "execution_count": 87,
     "metadata": {},
     "output_type": "execute_result"
    }
   ],
   "source": [
    "z=data.groupby([\"State\",\"Zone\"])[\"Orders\"].count().sort_values(ascending=False)\n",
    "z"
   ]
  },
  {
   "cell_type": "code",
   "execution_count": 89,
   "id": "8d1643a0-88e2-43f0-b6e2-278097479ba2",
   "metadata": {},
   "outputs": [
    {
     "data": {
      "text/plain": [
       "<Axes: xlabel='State,Zone'>"
      ]
     },
     "execution_count": 89,
     "metadata": {},
     "output_type": "execute_result"
    },
    {
     "data": {
      "image/png": "[encoded data removed]",
      "text/plain": [
       "<Figure size 640x480 with 1 Axes>"
      ]
     },
     "metadata": {},
     "output_type": "display_data"
    }
   ],
   "source": [
    "z.plot.bar(color=[\"forestgreen\",\"navy\",\"mediumpurple\",\"lightseagreen\",\"gold\",\"tan\",\"maroon\",\"green\",\"red\",\"olive\",\"darkviolet\",\"salmon\",\"sandybrown\",\"red\",\"green\",\"blue\"])"
   ]
  },
  {
   "cell_type": "markdown",
   "id": "a37779fd-3458-4782-b7c9-3ab4f809d4c1",
   "metadata": {},
   "source": [
    "# Conclusion:- Unmmaried Women between age 26-35 from UP(Central Range), Maharashtra(Wester Range), Karnatka(Southern Range) working in IT, Health and Aviation most likely to choose products from Food, Clothing and Electronic category "
   ]
  },
  {
   "cell_type": "code",
   "execution_count": null,
   "id": "e2cf1dd6-7c99-4df3-83d1-dff35314a022",
   "metadata": {},
   "outputs": [],
   "source": []
  }
 ],
 "metadata": {
  "kernelspec": {
   "display_name": "Python 3 (ipykernel)",
   "language": "python",
   "name": "python3"
  },
  "language_info": {
   "codemirror_mode": {
    "name": "ipython",
    "version": 3
   },
   "file_extension": ".py",
   "mimetype": "text/x-python",
   "name": "python",
   "nbconvert_exporter": "python",
   "pygments_lexer": "ipython3",
   "version": "3.12.1"
  }
 },
 "nbformat": 4,
 "nbformat_minor": 5
}
